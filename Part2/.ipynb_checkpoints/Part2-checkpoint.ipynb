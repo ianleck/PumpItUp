{
 "cells": [
  {
   "cell_type": "markdown",
   "metadata": {},
   "source": [
    "# IS4242 Group Assignment Part 2\n",
    "**November 11, 2020**"
   ]
  },
  {
   "cell_type": "markdown",
   "metadata": {},
   "source": [
    "#### Name: LECK WEI SHENG IAN\n",
    "#### NUS ID: A0168177R\n",
    "#### Name: WOO KENG THONG\n",
    "#### NUS ID: A0167991L"
   ]
  },
  {
   "cell_type": "markdown",
   "metadata": {},
   "source": [
    "Note the following features for each pump:\n",
    "- Total Static Head (TSH)\n",
    "- Total vertical distance that a pump raises water against gravity\n",
    "- Water available to a water point\n",
    "- Local Government Area (LGA)\n",
    "- Geographic Location\n",
    "- Population served\n",
    "- Latitude and Longitude - GPS coordinates\n",
    "- Labels: functional, non-functional and functional-needs-repair"
   ]
  },
  {
   "cell_type": "markdown",
   "metadata": {},
   "source": [
    "Your team is a consultant to the government of Tanzania, who has asked you to determine, for each LGA:\n",
    "which non-functional pumps can be replaced at minimum possible cost in order to serve water to everyone \n",
    "You should develop a solution where your client can input the name of the LGA and will receive the following outputs:\n",
    "- the names of the non-functional pumps to be replaced \n",
    "- the total cost\n",
    "\n",
    "#### Use latitude and longitude for distance computation"
   ]
  },
  {
   "cell_type": "markdown",
   "metadata": {},
   "source": [
    "# Instructions:\n",
    "- Restart and run all cells under Kernel\n",
    "- Input desired lga to check. Note that only valid lga will be allowed. \n",
    "### Output will be at the bottom of the notebook\n",
    "### Invalid lga will not result in any results."
   ]
  },
  {
   "cell_type": "markdown",
   "metadata": {},
   "source": [
    "Input desired lga to be checked (E.g. Ilemela)"
   ]
  },
  {
   "cell_type": "code",
   "execution_count": 1,
   "metadata": {},
   "outputs": [
    {
     "name": "stdout",
     "output_type": "stream",
     "text": [
      "Enter desired lga: Ilemela\n"
     ]
    }
   ],
   "source": [
    "lga_check = input(\"Enter desired lga: \") "
   ]
  },
  {
   "cell_type": "markdown",
   "metadata": {},
   "source": [
    "## Preprocessing"
   ]
  },
  {
   "cell_type": "code",
   "execution_count": 2,
   "metadata": {},
   "outputs": [],
   "source": [
    "import pyomo.environ as pe\n",
    "import pandas as pd\n",
    "import numpy as np\n",
    "import matplotlib.pyplot as plt"
   ]
  },
  {
   "cell_type": "markdown",
   "metadata": {},
   "source": [
    "Read training and test data that has not been preprocessed."
   ]
  },
  {
   "cell_type": "code",
   "execution_count": 3,
   "metadata": {},
   "outputs": [],
   "source": [
    "labels = pd.read_csv('training-set-labels.csv')\n",
    "df = pd.read_csv('training-set-values.csv')\n",
    "test_df = pd.read_csv('test-set-values.csv')\n",
    "test_labels = pd.read_csv('submission_rf_ax.csv')\n",
    "\n",
    "df = pd.merge(df, labels, on='id')\n",
    "test_df = pd.merge(test_df, test_labels, on='id')"
   ]
  },
  {
   "cell_type": "markdown",
   "metadata": {},
   "source": [
    "We will be processing un-processed data first in order to select for the following criteria:\n",
    "- Don't have location information\n",
    "- Have pumps with 0 surrounding population\n",
    "- Have no name ('none') for the pump\n",
    "- Are functional-needs-repair pumps\n",
    "- Date_recorded before 2014\n",
    "<Br>\n",
    "\n",
    "This data will subsequently be merged with pre-processed data from part1 in order to obtain cleaner data - data without any missing values."
   ]
  },
  {
   "cell_type": "markdown",
   "metadata": {},
   "source": [
    "Check if any of the pumps' status were recorded after 2013 "
   ]
  },
  {
   "cell_type": "code",
   "execution_count": 4,
   "metadata": {},
   "outputs": [
    {
     "name": "stdout",
     "output_type": "stream",
     "text": [
      "train data after 2013 =  0\n",
      "test data after 2013 =  0\n"
     ]
    }
   ],
   "source": [
    "df['date_recorded'] = pd.to_datetime(df['date_recorded'])\n",
    "print('train data after 2013 = ', len(df[df.date_recorded.dt.year>2013]))\n",
    "\n",
    "test_df['date_recorded'] = pd.to_datetime(test_df['date_recorded'])\n",
    "print('test data after 2013 = ', len(test_df[test_df.date_recorded.dt.year>2013]))"
   ]
  },
  {
   "cell_type": "markdown",
   "metadata": {},
   "source": [
    "Check population data"
   ]
  },
  {
   "cell_type": "code",
   "execution_count": 5,
   "metadata": {
    "scrolled": true
   },
   "outputs": [
    {
     "name": "stdout",
     "output_type": "stream",
     "text": [
      "df population\n",
      "0       21381\n",
      "1        7025\n",
      "200      1940\n",
      "150      1892\n",
      "250      1681\n",
      "        ...  \n",
      "3241        1\n",
      "1960        1\n",
      "1685        1\n",
      "2248        1\n",
      "1439        1\n",
      "Name: population, Length: 1049, dtype: int64\n",
      "test df population\n",
      "0       5453\n",
      "1       1757\n",
      "150      436\n",
      "200      430\n",
      "250      406\n",
      "        ... \n",
      "244        1\n",
      "252        1\n",
      "284        1\n",
      "2365       1\n",
      "7000       1\n",
      "Name: population, Length: 637, dtype: int64\n"
     ]
    }
   ],
   "source": [
    "print('df population')\n",
    "print(df.population.value_counts())\n",
    "print('test df population')\n",
    "print(test_df.population.value_counts())"
   ]
  },
  {
   "cell_type": "markdown",
   "metadata": {},
   "source": [
    "Create `to_remove` and `test_to_remove`, which will track row ids to be removed from clean data subsequently.<br>\n",
    "Obtain row ids with `population = 0`, and remove from `df` and `test_df`"
   ]
  },
  {
   "cell_type": "code",
   "execution_count": 6,
   "metadata": {},
   "outputs": [
    {
     "name": "stdout",
     "output_type": "stream",
     "text": [
      "df to remove (21381, 41)\n",
      "test df to remove (5453, 41)\n"
     ]
    }
   ],
   "source": [
    "to_remove = df.loc[df['population'] == 0]\n",
    "df = df.loc[df['population'] != 0]\n",
    "print('df to remove', to_remove.shape)\n",
    "\n",
    "# Repeat for test data\n",
    "test_to_remove = test_df.loc[test_df['population'] == 0]\n",
    "test_df = test_df.loc[test_df['population'] != 0]\n",
    "print('test df to remove', test_to_remove.shape)"
   ]
  },
  {
   "cell_type": "code",
   "execution_count": 7,
   "metadata": {},
   "outputs": [
    {
     "name": "stdout",
     "output_type": "stream",
     "text": [
      "remaining df (38019, 41)\n",
      "remaining test df (9397, 41)\n"
     ]
    }
   ],
   "source": [
    "print('remaining df', df.shape)\n",
    "print('remaining test df', test_df.shape)"
   ]
  },
  {
   "cell_type": "markdown",
   "metadata": {},
   "source": [
    "Check pump name data"
   ]
  },
  {
   "cell_type": "code",
   "execution_count": 8,
   "metadata": {},
   "outputs": [
    {
     "name": "stdout",
     "output_type": "stream",
     "text": [
      "df wpt name\n",
      "none                 2248\n",
      "Shuleni              1251\n",
      "Zahanati              524\n",
      "Msikitini             456\n",
      "Kanisani              217\n",
      "                     ... \n",
      "Kwa Bakari Mwenye       1\n",
      "Kwa Mzee Dinongo        1\n",
      "Amira                   1\n",
      "Kwa Mbigi               1\n",
      "Kumureka                1\n",
      "Name: wpt_name, Length: 24849, dtype: int64\n",
      "test df wpt name\n",
      "none             552\n",
      "Shuleni          306\n",
      "Zahanati         132\n",
      "Msikitini         93\n",
      "Sokoni            56\n",
      "                ... \n",
      "New Kisoyi         1\n",
      "Kwambunji          1\n",
      "Haji Yusuph        1\n",
      "Kwa Ndilaliha      1\n",
      "Kwa Dodo           1\n",
      "Name: wpt_name, Length: 7072, dtype: int64\n"
     ]
    }
   ],
   "source": [
    "print('df wpt name')\n",
    "print(df.wpt_name.value_counts())\n",
    "print('test df wpt name')\n",
    "print(test_df.wpt_name.value_counts())"
   ]
  },
  {
   "cell_type": "markdown",
   "metadata": {},
   "source": [
    "Obtain row ids with `wpt_name = none`, and remove from `df` and `test_df`"
   ]
  },
  {
   "cell_type": "code",
   "execution_count": 9,
   "metadata": {},
   "outputs": [
    {
     "name": "stdout",
     "output_type": "stream",
     "text": [
      "df to remove (23629, 41)\n",
      "test df to remove (6005, 41)\n"
     ]
    }
   ],
   "source": [
    "to_remove = to_remove.append(df.loc[df['wpt_name'] == 'none'])\n",
    "df = df.loc[df['wpt_name'] != 'none']\n",
    "print('df to remove', to_remove.shape)\n",
    "\n",
    "# Repeat for test data\n",
    "test_to_remove = test_to_remove.append(test_df.loc[test_df['wpt_name'] == 'none'])\n",
    "test_df = test_df.loc[test_df['wpt_name'] != 'none']\n",
    "print('test df to remove', test_to_remove.shape)"
   ]
  },
  {
   "cell_type": "code",
   "execution_count": 10,
   "metadata": {},
   "outputs": [
    {
     "name": "stdout",
     "output_type": "stream",
     "text": [
      "remaining df (35771, 41)\n",
      "remaining test df (8845, 41)\n"
     ]
    }
   ],
   "source": [
    "print('remaining df', df.shape)\n",
    "print('remaining test df', test_df.shape)"
   ]
  },
  {
   "cell_type": "markdown",
   "metadata": {},
   "source": [
    "Check status group"
   ]
  },
  {
   "cell_type": "code",
   "execution_count": 11,
   "metadata": {},
   "outputs": [
    {
     "name": "stdout",
     "output_type": "stream",
     "text": [
      "df status group\n",
      "functional                 19357\n",
      "non functional             13925\n",
      "functional needs repair     2489\n",
      "Name: status_group, dtype: int64\n",
      "test df status group\n",
      "functional        5197\n",
      "non functional    3648\n",
      "Name: status_group, dtype: int64\n"
     ]
    }
   ],
   "source": [
    "print('df status group')\n",
    "print(df.status_group.value_counts())\n",
    "print('test df status group')\n",
    "print(test_df.status_group.value_counts())"
   ]
  },
  {
   "cell_type": "markdown",
   "metadata": {},
   "source": [
    "Obtain row ids with `status group = functional needs repair`, and remove from `df`. There is no need to remove from `test_df` as there are no rows that fit this filter"
   ]
  },
  {
   "cell_type": "code",
   "execution_count": 12,
   "metadata": {},
   "outputs": [
    {
     "name": "stdout",
     "output_type": "stream",
     "text": [
      "df to remove (26118, 41)\n"
     ]
    }
   ],
   "source": [
    "to_remove = to_remove.append(df.loc[df['status_group'] == 'functional needs repair'])\n",
    "df = df.loc[df['status_group'] != 'functional needs repair']\n",
    "print('df to remove', to_remove.shape)"
   ]
  },
  {
   "cell_type": "code",
   "execution_count": 13,
   "metadata": {},
   "outputs": [
    {
     "name": "stdout",
     "output_type": "stream",
     "text": [
      "remaining df (33282, 41)\n",
      "remaining test df (8845, 41)\n"
     ]
    }
   ],
   "source": [
    "print('remaining df', df.shape)\n",
    "print('remaining test df', test_df.shape)"
   ]
  },
  {
   "cell_type": "markdown",
   "metadata": {},
   "source": [
    "Check for missing data in locations"
   ]
  },
  {
   "cell_type": "code",
   "execution_count": 14,
   "metadata": {},
   "outputs": [
    {
     "name": "stdout",
     "output_type": "stream",
     "text": [
      "df\n",
      "id                           0\n",
      "amount_tsh                   0\n",
      "date_recorded                0\n",
      "funder                    1383\n",
      "gps_height                   0\n",
      "installer                 1388\n",
      "longitude                    0\n",
      "latitude                     0\n",
      "wpt_name                     0\n",
      "num_private                  0\n",
      "basin                        0\n",
      "subvillage                   7\n",
      "region                       0\n",
      "region_code                  0\n",
      "district_code                0\n",
      "lga                          0\n",
      "ward                         0\n",
      "population                   0\n",
      "public_meeting            2227\n",
      "recorded_by                  0\n",
      "scheme_management         2288\n",
      "scheme_name              14023\n",
      "permit                    1805\n",
      "construction_year            0\n",
      "extraction_type              0\n",
      "extraction_type_group        0\n",
      "extraction_type_class        0\n",
      "management                   0\n",
      "management_group             0\n",
      "payment                      0\n",
      "payment_type                 0\n",
      "water_quality                0\n",
      "quality_group                0\n",
      "quantity                     0\n",
      "quantity_group               0\n",
      "source                       0\n",
      "source_type                  0\n",
      "source_class                 0\n",
      "waterpoint_type              0\n",
      "waterpoint_type_group        0\n",
      "status_group                 0\n",
      "dtype: int64\n",
      "test df\n",
      "id                          0\n",
      "amount_tsh                  0\n",
      "date_recorded               0\n",
      "funder                    341\n",
      "gps_height                  0\n",
      "installer                 347\n",
      "longitude                   0\n",
      "latitude                    0\n",
      "wpt_name                    0\n",
      "num_private                 0\n",
      "basin                       0\n",
      "subvillage                  0\n",
      "region                      0\n",
      "region_code                 0\n",
      "district_code               0\n",
      "lga                         0\n",
      "ward                        0\n",
      "population                  0\n",
      "public_meeting            582\n",
      "recorded_by                 0\n",
      "scheme_management         607\n",
      "scheme_name              3703\n",
      "permit                    461\n",
      "construction_year           0\n",
      "extraction_type             0\n",
      "extraction_type_group       0\n",
      "extraction_type_class       0\n",
      "management                  0\n",
      "management_group            0\n",
      "payment                     0\n",
      "payment_type                0\n",
      "water_quality               0\n",
      "quality_group               0\n",
      "quantity                    0\n",
      "quantity_group              0\n",
      "source                      0\n",
      "source_type                 0\n",
      "source_class                0\n",
      "waterpoint_type             0\n",
      "waterpoint_type_group       0\n",
      "status_group                0\n",
      "dtype: int64\n"
     ]
    }
   ],
   "source": [
    "print('df')\n",
    "print(df.isnull().sum())\n",
    "print('test df')\n",
    "print(test_df.isnull().sum())"
   ]
  },
  {
   "cell_type": "markdown",
   "metadata": {},
   "source": [
    "There is no missing data for locations predictors, but I will also check whether the latlong values are accurate.<br>\n",
    "Tanzania's latlong are generally within -1° to -12° latitude, and 29° to 41° longitude. I will do a check for erroneous latlong data as well."
   ]
  },
  {
   "cell_type": "code",
   "execution_count": 15,
   "metadata": {},
   "outputs": [
    {
     "name": "stdout",
     "output_type": "stream",
     "text": [
      "df latitude >-1 =  0\n",
      "df latitude <-12 =  0\n",
      "df longitude <29 =  0\n",
      "df longitude >41 =  0\n",
      "test df latitude >-1 =  0\n",
      "test df latitude <-12 =  0\n",
      "test df longitude <29 =  0\n",
      "test df longitude >41 =  0\n"
     ]
    }
   ],
   "source": [
    "print('df latitude >-1 = ', len(df[df.latitude>-1]))\n",
    "print('df latitude <-12 = ', len(df[df.latitude<-12]))\n",
    "print('df longitude <29 = ', len(df[df.longitude<29]))\n",
    "print('df longitude >41 = ', len(df[df.longitude>41]))\n",
    "\n",
    "print('test df latitude >-1 = ', len(test_df[test_df.latitude>-1]))\n",
    "print('test df latitude <-12 = ', len(test_df[test_df.latitude<-12]))\n",
    "print('test df longitude <29 = ', len(test_df[test_df.longitude<29]))\n",
    "print('test df longitude >41 = ', len(test_df[test_df.longitude>41]))"
   ]
  },
  {
   "cell_type": "markdown",
   "metadata": {},
   "source": [
    "#### Import cleaned data from part1, and remove the relevant rows them with `to_remove` and `test_to_remove`, having finished preprocessing for part2"
   ]
  },
  {
   "cell_type": "code",
   "execution_count": 16,
   "metadata": {},
   "outputs": [],
   "source": [
    "df = pd.read_csv('clean.csv')\n",
    "test_df = pd.read_csv('clean_test.csv')\n",
    "test_labels = pd.read_csv('submission_rf_ax.csv')\n",
    "\n",
    "test_df = pd.merge(test_df, test_labels, on='id')"
   ]
  },
  {
   "cell_type": "code",
   "execution_count": 17,
   "metadata": {},
   "outputs": [],
   "source": [
    "df = df[~df['id'].isin(to_remove['id'])]\n",
    "test_df = test_df[~test_df['id'].isin(test_to_remove['id'])]"
   ]
  },
  {
   "cell_type": "code",
   "execution_count": 18,
   "metadata": {},
   "outputs": [
    {
     "name": "stdout",
     "output_type": "stream",
     "text": [
      "remaining df (33282, 28)\n",
      "remaining test df (8845, 28)\n"
     ]
    }
   ],
   "source": [
    "print('remaining df', df.shape)\n",
    "print('remaining test df', test_df.shape)"
   ]
  },
  {
   "cell_type": "markdown",
   "metadata": {},
   "source": [
    "Merge `df` and `test_df` to use data from both training and test for part 2"
   ]
  },
  {
   "cell_type": "code",
   "execution_count": 19,
   "metadata": {},
   "outputs": [
    {
     "name": "stdout",
     "output_type": "stream",
     "text": [
      "<class 'pandas.core.frame.DataFrame'>\n",
      "Int64Index: 42127 entries, 1 to 14849\n",
      "Data columns (total 28 columns):\n",
      " #   Column                 Non-Null Count  Dtype  \n",
      "---  ------                 --------------  -----  \n",
      " 0   id                     42127 non-null  int64  \n",
      " 1   amount_tsh             42127 non-null  float64\n",
      " 2   funder                 41786 non-null  object \n",
      " 3   gps_height             42127 non-null  float64\n",
      " 4   installer              41780 non-null  object \n",
      " 5   longitude              42127 non-null  float64\n",
      " 6   latitude               42127 non-null  float64\n",
      " 7   wpt_name               42127 non-null  object \n",
      " 8   basin                  42127 non-null  object \n",
      " 9   region                 42127 non-null  object \n",
      " 10  district_code          42127 non-null  int64  \n",
      " 11  lga                    42127 non-null  object \n",
      " 12  ward                   42127 non-null  object \n",
      " 13  population             42127 non-null  float64\n",
      " 14  public_meeting         42127 non-null  float64\n",
      " 15  recorded_by            42127 non-null  object \n",
      " 16  scheme_management      41520 non-null  object \n",
      " 17  permit                 42127 non-null  float64\n",
      " 18  extraction_type        42127 non-null  object \n",
      " 19  extraction_type_class  42127 non-null  object \n",
      " 20  management             42127 non-null  object \n",
      " 21  payment_type           42127 non-null  object \n",
      " 22  water_quality          42127 non-null  object \n",
      " 23  quantity_group         42127 non-null  object \n",
      " 24  source                 42127 non-null  object \n",
      " 25  waterpoint_type        42127 non-null  object \n",
      " 26  status_group           42127 non-null  object \n",
      " 27  operational_years      42127 non-null  float64\n",
      "dtypes: float64(8), int64(2), object(18)\n",
      "memory usage: 9.3+ MB\n"
     ]
    }
   ],
   "source": [
    "total_df = pd.concat([df,test_df])\n",
    "total_df.info()"
   ]
  },
  {
   "cell_type": "markdown",
   "metadata": {},
   "source": [
    "#### Select rows based on `lga` input from user"
   ]
  },
  {
   "cell_type": "code",
   "execution_count": 20,
   "metadata": {},
   "outputs": [],
   "source": [
    "lga_df = total_df.loc[total_df['lga'] == lga_check]"
   ]
  },
  {
   "cell_type": "code",
   "execution_count": 21,
   "metadata": {},
   "outputs": [
    {
     "name": "stdout",
     "output_type": "stream",
     "text": [
      "<class 'pandas.core.frame.DataFrame'>\n",
      "Int64Index: 27 entries, 2457 to 10949\n",
      "Data columns (total 28 columns):\n",
      " #   Column                 Non-Null Count  Dtype  \n",
      "---  ------                 --------------  -----  \n",
      " 0   id                     27 non-null     int64  \n",
      " 1   amount_tsh             27 non-null     float64\n",
      " 2   funder                 27 non-null     object \n",
      " 3   gps_height             27 non-null     float64\n",
      " 4   installer              27 non-null     object \n",
      " 5   longitude              27 non-null     float64\n",
      " 6   latitude               27 non-null     float64\n",
      " 7   wpt_name               27 non-null     object \n",
      " 8   basin                  27 non-null     object \n",
      " 9   region                 27 non-null     object \n",
      " 10  district_code          27 non-null     int64  \n",
      " 11  lga                    27 non-null     object \n",
      " 12  ward                   27 non-null     object \n",
      " 13  population             27 non-null     float64\n",
      " 14  public_meeting         27 non-null     float64\n",
      " 15  recorded_by            27 non-null     object \n",
      " 16  scheme_management      27 non-null     object \n",
      " 17  permit                 27 non-null     float64\n",
      " 18  extraction_type        27 non-null     object \n",
      " 19  extraction_type_class  27 non-null     object \n",
      " 20  management             27 non-null     object \n",
      " 21  payment_type           27 non-null     object \n",
      " 22  water_quality          27 non-null     object \n",
      " 23  quantity_group         27 non-null     object \n",
      " 24  source                 27 non-null     object \n",
      " 25  waterpoint_type        27 non-null     object \n",
      " 26  status_group           27 non-null     object \n",
      " 27  operational_years      27 non-null     float64\n",
      "dtypes: float64(8), int64(2), object(18)\n",
      "memory usage: 6.1+ KB\n"
     ]
    }
   ],
   "source": [
    "lga_df.info()"
   ]
  },
  {
   "cell_type": "markdown",
   "metadata": {},
   "source": [
    "Split the df by `functional` and `non functional` pumps. Functional pumps are not limited by `lga`, as `non functional` pumps can be closest to `functional` pumps outside of `lga`"
   ]
  },
  {
   "cell_type": "code",
   "execution_count": 22,
   "metadata": {},
   "outputs": [
    {
     "name": "stdout",
     "output_type": "stream",
     "text": [
      "(24554, 28)\n",
      "(15, 28)\n"
     ]
    }
   ],
   "source": [
    "funcdf = total_df.loc[total_df['status_group'] == 'functional']\n",
    "nonfuncdf = lga_df.loc[lga_df['status_group'] == 'non functional']\n",
    "funcdf.reset_index(drop=True,inplace=True)\n",
    "nonfuncdf.reset_index(drop=True,inplace=True)\n",
    "print(funcdf.shape)\n",
    "print(nonfuncdf.shape)"
   ]
  },
  {
   "cell_type": "markdown",
   "metadata": {},
   "source": [
    "I will be using the haversine formula to get the Euclidean distance between two pumps obtained from <br>\n",
    "https://stackoverflow.com/questions/4913349/haversine-formula-in-python-bearing-and-distance-between-two-gps-points"
   ]
  },
  {
   "cell_type": "code",
   "execution_count": 23,
   "metadata": {},
   "outputs": [],
   "source": [
    "from math import radians, cos, sin, asin, sqrt\n",
    "\n",
    "def haversine(lon1, lat1, lon2, lat2):\n",
    "    # convert decimal degrees to radians \n",
    "    lon1, lat1, lon2, lat2 = map(radians, [lon1, lat1, lon2, lat2])\n",
    "\n",
    "    # haversine formula \n",
    "    dlon = lon2 - lon1 \n",
    "    dlat = lat2 - lat1 \n",
    "    a = sin(dlat/2)**2 + cos(lat1) * cos(lat2) * sin(dlon/2)**2\n",
    "    c = 2 * asin(sqrt(a)) \n",
    "    r = 6372.8 # Radius of earth in kilometers. Use 3956 for miles\n",
    "    return c * r"
   ]
  },
  {
   "cell_type": "markdown",
   "metadata": {},
   "source": [
    "Create a dictionary to get closest distance to `functional` pump from `non functional` pump.<br>\n",
    "Create `remaining_population` column to track remaining population that each `functional` pump can support. It is the existing community size as each `functional` pump can serve a population twice its community size.<br>"
   ]
  },
  {
   "cell_type": "code",
   "execution_count": 24,
   "metadata": {
    "scrolled": true
   },
   "outputs": [
    {
     "data": {
      "text/html": [
       "<div>\n",
       "<style scoped>\n",
       "    .dataframe tbody tr th:only-of-type {\n",
       "        vertical-align: middle;\n",
       "    }\n",
       "\n",
       "    .dataframe tbody tr th {\n",
       "        vertical-align: top;\n",
       "    }\n",
       "\n",
       "    .dataframe thead th {\n",
       "        text-align: right;\n",
       "    }\n",
       "</style>\n",
       "<table border=\"1\" class=\"dataframe\">\n",
       "  <thead>\n",
       "    <tr style=\"text-align: right;\">\n",
       "      <th></th>\n",
       "      <th>id</th>\n",
       "      <th>amount_tsh</th>\n",
       "      <th>funder</th>\n",
       "      <th>gps_height</th>\n",
       "      <th>installer</th>\n",
       "      <th>longitude</th>\n",
       "      <th>latitude</th>\n",
       "      <th>wpt_name</th>\n",
       "      <th>basin</th>\n",
       "      <th>region</th>\n",
       "      <th>...</th>\n",
       "      <th>extraction_type_class</th>\n",
       "      <th>management</th>\n",
       "      <th>payment_type</th>\n",
       "      <th>water_quality</th>\n",
       "      <th>quantity_group</th>\n",
       "      <th>source</th>\n",
       "      <th>waterpoint_type</th>\n",
       "      <th>status_group</th>\n",
       "      <th>operational_years</th>\n",
       "      <th>remaining_pop</th>\n",
       "    </tr>\n",
       "  </thead>\n",
       "  <tbody>\n",
       "    <tr>\n",
       "      <th>0</th>\n",
       "      <td>8776</td>\n",
       "      <td>374.652174</td>\n",
       "      <td>Grumeti</td>\n",
       "      <td>1399.000000</td>\n",
       "      <td>GRUMETI</td>\n",
       "      <td>34.698766</td>\n",
       "      <td>-2.147466</td>\n",
       "      <td>Zahanati</td>\n",
       "      <td>Lake Victoria</td>\n",
       "      <td>Mara</td>\n",
       "      <td>...</td>\n",
       "      <td>gravity</td>\n",
       "      <td>wug</td>\n",
       "      <td>never pay</td>\n",
       "      <td>soft</td>\n",
       "      <td>insufficient</td>\n",
       "      <td>rainwater harvesting</td>\n",
       "      <td>communal standpipe</td>\n",
       "      <td>functional</td>\n",
       "      <td>3.0</td>\n",
       "      <td>280.0</td>\n",
       "    </tr>\n",
       "    <tr>\n",
       "      <th>1</th>\n",
       "      <td>34310</td>\n",
       "      <td>25.000000</td>\n",
       "      <td>Lottery Club</td>\n",
       "      <td>686.000000</td>\n",
       "      <td>World vision</td>\n",
       "      <td>37.460664</td>\n",
       "      <td>-3.821329</td>\n",
       "      <td>Kwa Mahundi</td>\n",
       "      <td>Pangani</td>\n",
       "      <td>Manyara</td>\n",
       "      <td>...</td>\n",
       "      <td>gravity</td>\n",
       "      <td>vwc</td>\n",
       "      <td>per bucket</td>\n",
       "      <td>soft</td>\n",
       "      <td>enough</td>\n",
       "      <td>dam</td>\n",
       "      <td>communal standpipe multiple</td>\n",
       "      <td>functional</td>\n",
       "      <td>4.0</td>\n",
       "      <td>250.0</td>\n",
       "    </tr>\n",
       "    <tr>\n",
       "      <th>2</th>\n",
       "      <td>9944</td>\n",
       "      <td>20.000000</td>\n",
       "      <td>Mkinga Distric Coun</td>\n",
       "      <td>675.978008</td>\n",
       "      <td>DWE</td>\n",
       "      <td>39.172796</td>\n",
       "      <td>-4.765587</td>\n",
       "      <td>Tajiri</td>\n",
       "      <td>Pangani</td>\n",
       "      <td>Tanga</td>\n",
       "      <td>...</td>\n",
       "      <td>submersible</td>\n",
       "      <td>vwc</td>\n",
       "      <td>per bucket</td>\n",
       "      <td>salty</td>\n",
       "      <td>enough</td>\n",
       "      <td>other</td>\n",
       "      <td>communal standpipe multiple</td>\n",
       "      <td>functional</td>\n",
       "      <td>2.0</td>\n",
       "      <td>1.0</td>\n",
       "    </tr>\n",
       "    <tr>\n",
       "      <th>3</th>\n",
       "      <td>49056</td>\n",
       "      <td>43.979592</td>\n",
       "      <td>Private</td>\n",
       "      <td>62.000000</td>\n",
       "      <td>Private</td>\n",
       "      <td>39.209518</td>\n",
       "      <td>-7.034139</td>\n",
       "      <td>Mzee Hokororo</td>\n",
       "      <td>Wami / Ruvu</td>\n",
       "      <td>Pwani</td>\n",
       "      <td>...</td>\n",
       "      <td>submersible</td>\n",
       "      <td>private operator</td>\n",
       "      <td>never pay</td>\n",
       "      <td>salty</td>\n",
       "      <td>enough</td>\n",
       "      <td>machine dbh</td>\n",
       "      <td>other</td>\n",
       "      <td>functional</td>\n",
       "      <td>0.0</td>\n",
       "      <td>345.0</td>\n",
       "    </tr>\n",
       "    <tr>\n",
       "      <th>4</th>\n",
       "      <td>50409</td>\n",
       "      <td>200.000000</td>\n",
       "      <td>Danida</td>\n",
       "      <td>1062.000000</td>\n",
       "      <td>DANIDA</td>\n",
       "      <td>35.770258</td>\n",
       "      <td>-10.574175</td>\n",
       "      <td>Kwa Alid Nchimbi</td>\n",
       "      <td>Lake Nyasa</td>\n",
       "      <td>Ruvuma</td>\n",
       "      <td>...</td>\n",
       "      <td>handpump</td>\n",
       "      <td>wug</td>\n",
       "      <td>on failure</td>\n",
       "      <td>soft</td>\n",
       "      <td>insufficient</td>\n",
       "      <td>shallow well</td>\n",
       "      <td>hand pump</td>\n",
       "      <td>functional</td>\n",
       "      <td>26.0</td>\n",
       "      <td>250.0</td>\n",
       "    </tr>\n",
       "    <tr>\n",
       "      <th>...</th>\n",
       "      <td>...</td>\n",
       "      <td>...</td>\n",
       "      <td>...</td>\n",
       "      <td>...</td>\n",
       "      <td>...</td>\n",
       "      <td>...</td>\n",
       "      <td>...</td>\n",
       "      <td>...</td>\n",
       "      <td>...</td>\n",
       "      <td>...</td>\n",
       "      <td>...</td>\n",
       "      <td>...</td>\n",
       "      <td>...</td>\n",
       "      <td>...</td>\n",
       "      <td>...</td>\n",
       "      <td>...</td>\n",
       "      <td>...</td>\n",
       "      <td>...</td>\n",
       "      <td>...</td>\n",
       "      <td>...</td>\n",
       "      <td>...</td>\n",
       "    </tr>\n",
       "    <tr>\n",
       "      <th>24549</th>\n",
       "      <td>57316</td>\n",
       "      <td>432.590909</td>\n",
       "      <td>Devon Aid Korogwe</td>\n",
       "      <td>347.000000</td>\n",
       "      <td>Local technician</td>\n",
       "      <td>38.613415</td>\n",
       "      <td>-4.815222</td>\n",
       "      <td>Jahiya</td>\n",
       "      <td>Pangani</td>\n",
       "      <td>Tanga</td>\n",
       "      <td>...</td>\n",
       "      <td>gravity</td>\n",
       "      <td>other</td>\n",
       "      <td>never pay</td>\n",
       "      <td>soft</td>\n",
       "      <td>insufficient</td>\n",
       "      <td>spring</td>\n",
       "      <td>communal standpipe</td>\n",
       "      <td>functional</td>\n",
       "      <td>6.0</td>\n",
       "      <td>300.0</td>\n",
       "    </tr>\n",
       "    <tr>\n",
       "      <th>24550</th>\n",
       "      <td>65541</td>\n",
       "      <td>632.459677</td>\n",
       "      <td>Oxfarm</td>\n",
       "      <td>1641.000000</td>\n",
       "      <td>OXFARM</td>\n",
       "      <td>29.768139</td>\n",
       "      <td>-4.480618</td>\n",
       "      <td>Mwandami</td>\n",
       "      <td>Lake Tanganyika</td>\n",
       "      <td>Kigoma</td>\n",
       "      <td>...</td>\n",
       "      <td>other</td>\n",
       "      <td>vwc</td>\n",
       "      <td>never pay</td>\n",
       "      <td>soft</td>\n",
       "      <td>enough</td>\n",
       "      <td>spring</td>\n",
       "      <td>other</td>\n",
       "      <td>functional</td>\n",
       "      <td>18.0</td>\n",
       "      <td>1400.0</td>\n",
       "    </tr>\n",
       "    <tr>\n",
       "      <th>24551</th>\n",
       "      <td>18990</td>\n",
       "      <td>1000.000000</td>\n",
       "      <td>Hiap</td>\n",
       "      <td>679.918735</td>\n",
       "      <td>HIAP</td>\n",
       "      <td>37.451633</td>\n",
       "      <td>-5.350428</td>\n",
       "      <td>Bonde La Mkondoa</td>\n",
       "      <td>Pangani</td>\n",
       "      <td>Tanga</td>\n",
       "      <td>...</td>\n",
       "      <td>handpump</td>\n",
       "      <td>vwc</td>\n",
       "      <td>annually</td>\n",
       "      <td>salty</td>\n",
       "      <td>insufficient</td>\n",
       "      <td>shallow well</td>\n",
       "      <td>hand pump</td>\n",
       "      <td>functional</td>\n",
       "      <td>17.0</td>\n",
       "      <td>2960.0</td>\n",
       "    </tr>\n",
       "    <tr>\n",
       "      <th>24552</th>\n",
       "      <td>28749</td>\n",
       "      <td>1440.961538</td>\n",
       "      <td>NaN</td>\n",
       "      <td>1476.000000</td>\n",
       "      <td>NaN</td>\n",
       "      <td>34.739804</td>\n",
       "      <td>-4.585587</td>\n",
       "      <td>Bwawani</td>\n",
       "      <td>Internal</td>\n",
       "      <td>Singida</td>\n",
       "      <td>...</td>\n",
       "      <td>gravity</td>\n",
       "      <td>vwc</td>\n",
       "      <td>never pay</td>\n",
       "      <td>soft</td>\n",
       "      <td>insufficient</td>\n",
       "      <td>dam</td>\n",
       "      <td>communal standpipe</td>\n",
       "      <td>functional</td>\n",
       "      <td>3.0</td>\n",
       "      <td>200.0</td>\n",
       "    </tr>\n",
       "    <tr>\n",
       "      <th>24553</th>\n",
       "      <td>33492</td>\n",
       "      <td>4152.061856</td>\n",
       "      <td>Germany</td>\n",
       "      <td>998.000000</td>\n",
       "      <td>DWE</td>\n",
       "      <td>35.432732</td>\n",
       "      <td>-10.584159</td>\n",
       "      <td>Kwa John</td>\n",
       "      <td>Lake Nyasa</td>\n",
       "      <td>Ruvuma</td>\n",
       "      <td>...</td>\n",
       "      <td>gravity</td>\n",
       "      <td>vwc</td>\n",
       "      <td>never pay</td>\n",
       "      <td>soft</td>\n",
       "      <td>insufficient</td>\n",
       "      <td>river</td>\n",
       "      <td>communal standpipe</td>\n",
       "      <td>functional</td>\n",
       "      <td>4.0</td>\n",
       "      <td>150.0</td>\n",
       "    </tr>\n",
       "  </tbody>\n",
       "</table>\n",
       "<p>24554 rows × 29 columns</p>\n",
       "</div>"
      ],
      "text/plain": [
       "          id   amount_tsh               funder   gps_height         installer  \\\n",
       "0       8776   374.652174              Grumeti  1399.000000           GRUMETI   \n",
       "1      34310    25.000000         Lottery Club   686.000000      World vision   \n",
       "2       9944    20.000000  Mkinga Distric Coun   675.978008               DWE   \n",
       "3      49056    43.979592              Private    62.000000           Private   \n",
       "4      50409   200.000000               Danida  1062.000000            DANIDA   \n",
       "...      ...          ...                  ...          ...               ...   \n",
       "24549  57316   432.590909    Devon Aid Korogwe   347.000000  Local technician   \n",
       "24550  65541   632.459677               Oxfarm  1641.000000            OXFARM   \n",
       "24551  18990  1000.000000                 Hiap   679.918735              HIAP   \n",
       "24552  28749  1440.961538                  NaN  1476.000000               NaN   \n",
       "24553  33492  4152.061856              Germany   998.000000               DWE   \n",
       "\n",
       "       longitude   latitude          wpt_name            basin   region  ...  \\\n",
       "0      34.698766  -2.147466          Zahanati    Lake Victoria     Mara  ...   \n",
       "1      37.460664  -3.821329       Kwa Mahundi          Pangani  Manyara  ...   \n",
       "2      39.172796  -4.765587            Tajiri          Pangani    Tanga  ...   \n",
       "3      39.209518  -7.034139     Mzee Hokororo      Wami / Ruvu    Pwani  ...   \n",
       "4      35.770258 -10.574175  Kwa Alid Nchimbi       Lake Nyasa   Ruvuma  ...   \n",
       "...          ...        ...               ...              ...      ...  ...   \n",
       "24549  38.613415  -4.815222            Jahiya          Pangani    Tanga  ...   \n",
       "24550  29.768139  -4.480618          Mwandami  Lake Tanganyika   Kigoma  ...   \n",
       "24551  37.451633  -5.350428  Bonde La Mkondoa          Pangani    Tanga  ...   \n",
       "24552  34.739804  -4.585587           Bwawani         Internal  Singida  ...   \n",
       "24553  35.432732 -10.584159          Kwa John       Lake Nyasa   Ruvuma  ...   \n",
       "\n",
       "       extraction_type_class        management payment_type  water_quality  \\\n",
       "0                    gravity               wug    never pay           soft   \n",
       "1                    gravity               vwc   per bucket           soft   \n",
       "2                submersible               vwc   per bucket          salty   \n",
       "3                submersible  private operator    never pay          salty   \n",
       "4                   handpump               wug   on failure           soft   \n",
       "...                      ...               ...          ...            ...   \n",
       "24549                gravity             other    never pay           soft   \n",
       "24550                  other               vwc    never pay           soft   \n",
       "24551               handpump               vwc     annually          salty   \n",
       "24552                gravity               vwc    never pay           soft   \n",
       "24553                gravity               vwc    never pay           soft   \n",
       "\n",
       "       quantity_group                source              waterpoint_type  \\\n",
       "0        insufficient  rainwater harvesting           communal standpipe   \n",
       "1              enough                   dam  communal standpipe multiple   \n",
       "2              enough                 other  communal standpipe multiple   \n",
       "3              enough           machine dbh                        other   \n",
       "4        insufficient          shallow well                    hand pump   \n",
       "...               ...                   ...                          ...   \n",
       "24549    insufficient                spring           communal standpipe   \n",
       "24550          enough                spring                        other   \n",
       "24551    insufficient          shallow well                    hand pump   \n",
       "24552    insufficient                   dam           communal standpipe   \n",
       "24553    insufficient                 river           communal standpipe   \n",
       "\n",
       "       status_group operational_years remaining_pop  \n",
       "0        functional               3.0         280.0  \n",
       "1        functional               4.0         250.0  \n",
       "2        functional               2.0           1.0  \n",
       "3        functional               0.0         345.0  \n",
       "4        functional              26.0         250.0  \n",
       "...             ...               ...           ...  \n",
       "24549    functional               6.0         300.0  \n",
       "24550    functional              18.0        1400.0  \n",
       "24551    functional              17.0        2960.0  \n",
       "24552    functional               3.0         200.0  \n",
       "24553    functional               4.0         150.0  \n",
       "\n",
       "[24554 rows x 29 columns]"
      ]
     },
     "execution_count": 24,
     "metadata": {},
     "output_type": "execute_result"
    }
   ],
   "source": [
    "closest = []\n",
    "remaining_pop = funcdf['population']\n",
    "funcdf = funcdf.assign(remaining_pop = remaining_pop)\n",
    "funcdf"
   ]
  },
  {
   "cell_type": "markdown",
   "metadata": {},
   "source": [
    "Iterate through `non functional` pumps and `functional` pumps. <br>\n",
    "Check if the `functional` pump's `remaining_population` >= `non functional` pump's `population` to ensure that it can support the additional `population`.<br>\n",
    "If it can, calculate distance between `functional` and `non functional` pump, and check if it is the nearest pump.<br>\n",
    "Outside each inner loop, the nearest pump will be recorded in the `closest` dictionary.<br>\n",
    "Also reduce `remaining_population` by the additional amount of `population` supported.\n",
    "#### Take note that this algorithm works on a first-come-first-served basis. For example, if there are multiple `non functional` pumps A, B, C that are nearest to `functional` pump D but pump D can only support 2 additional pumps due to population constraint despite all 3 having the same nearest distance, pumps A and B will be supported by pump D. Pump C will have then have to find another nearest pump."
   ]
  },
  {
   "cell_type": "code",
   "execution_count": 25,
   "metadata": {},
   "outputs": [
    {
     "name": "stdout",
     "output_type": "stream",
     "text": [
      "currently at iteration:  0\n",
      "currently at iteration:  1\n",
      "currently at iteration:  2\n",
      "currently at iteration:  3\n",
      "currently at iteration:  4\n",
      "currently at iteration:  5\n",
      "currently at iteration:  6\n",
      "currently at iteration:  7\n",
      "currently at iteration:  8\n",
      "currently at iteration:  9\n",
      "currently at iteration:  10\n",
      "currently at iteration:  11\n",
      "currently at iteration:  12\n",
      "currently at iteration:  13\n",
      "currently at iteration:  14\n"
     ]
    }
   ],
   "source": [
    "for i, nonfunc_pump in nonfuncdf.iterrows():\n",
    "    \n",
    "    nonfunc_lat = nonfunc_pump.latitude\n",
    "    nonfunc_lon = nonfunc_pump.longitude\n",
    "    nonfunc_pop = nonfunc_pump.population\n",
    "    d = None\n",
    "    # To track index of nearest pump\n",
    "    pump_idx = None\n",
    "    \n",
    "    for j, func_pump in funcdf.iterrows():\n",
    "        func_lat = func_pump.latitude\n",
    "        func_lon = func_pump.longitude\n",
    "        func_rem_pop = func_pump.remaining_pop\n",
    "        \n",
    "        if(func_rem_pop>=nonfunc_pop):\n",
    "            temp_d = haversine(nonfunc_lon,nonfunc_lat, func_lon, func_lat)\n",
    "            if(d == None or d > temp_d):\n",
    "                d = temp_d\n",
    "                pump_idx = j\n",
    "            \n",
    "    closest.append(d)\n",
    "    funcdf.at[pump_idx,'remaining_pop'] = funcdf.at[pump_idx,'remaining_pop']-nonfunc_pop\n",
    "    print('currently at iteration: ',i)"
   ]
  },
  {
   "cell_type": "markdown",
   "metadata": {},
   "source": [
    "Add `closest_distance` column to `nonfuncdf` to record the nearest distance of each `non functional` pump to the next nearest `functional` pump that can still support additional `population`.<br>"
   ]
  },
  {
   "cell_type": "code",
   "execution_count": 26,
   "metadata": {},
   "outputs": [
    {
     "data": {
      "text/html": [
       "<div>\n",
       "<style scoped>\n",
       "    .dataframe tbody tr th:only-of-type {\n",
       "        vertical-align: middle;\n",
       "    }\n",
       "\n",
       "    .dataframe tbody tr th {\n",
       "        vertical-align: top;\n",
       "    }\n",
       "\n",
       "    .dataframe thead th {\n",
       "        text-align: right;\n",
       "    }\n",
       "</style>\n",
       "<table border=\"1\" class=\"dataframe\">\n",
       "  <thead>\n",
       "    <tr style=\"text-align: right;\">\n",
       "      <th></th>\n",
       "      <th>id</th>\n",
       "      <th>amount_tsh</th>\n",
       "      <th>funder</th>\n",
       "      <th>gps_height</th>\n",
       "      <th>installer</th>\n",
       "      <th>longitude</th>\n",
       "      <th>latitude</th>\n",
       "      <th>wpt_name</th>\n",
       "      <th>basin</th>\n",
       "      <th>region</th>\n",
       "      <th>...</th>\n",
       "      <th>extraction_type_class</th>\n",
       "      <th>management</th>\n",
       "      <th>payment_type</th>\n",
       "      <th>water_quality</th>\n",
       "      <th>quantity_group</th>\n",
       "      <th>source</th>\n",
       "      <th>waterpoint_type</th>\n",
       "      <th>status_group</th>\n",
       "      <th>operational_years</th>\n",
       "      <th>closest_dist</th>\n",
       "    </tr>\n",
       "  </thead>\n",
       "  <tbody>\n",
       "    <tr>\n",
       "      <th>0</th>\n",
       "      <td>73178</td>\n",
       "      <td>1913.636364</td>\n",
       "      <td>L</td>\n",
       "      <td>1195.0</td>\n",
       "      <td>L</td>\n",
       "      <td>32.956523</td>\n",
       "      <td>-2.494353</td>\n",
       "      <td>Kwa Julias Mabula</td>\n",
       "      <td>Lake Victoria</td>\n",
       "      <td>Mwanza</td>\n",
       "      <td>...</td>\n",
       "      <td>other</td>\n",
       "      <td>vwc</td>\n",
       "      <td>never pay</td>\n",
       "      <td>salty</td>\n",
       "      <td>enough</td>\n",
       "      <td>shallow well</td>\n",
       "      <td>other</td>\n",
       "      <td>non functional</td>\n",
       "      <td>45.0</td>\n",
       "      <td>3.315638</td>\n",
       "    </tr>\n",
       "    <tr>\n",
       "      <th>1</th>\n",
       "      <td>7415</td>\n",
       "      <td>1913.636364</td>\n",
       "      <td>H</td>\n",
       "      <td>1230.0</td>\n",
       "      <td>H</td>\n",
       "      <td>32.977191</td>\n",
       "      <td>-2.516619</td>\n",
       "      <td>Kwa Buswelu B</td>\n",
       "      <td>Lake Victoria</td>\n",
       "      <td>Mwanza</td>\n",
       "      <td>...</td>\n",
       "      <td>other</td>\n",
       "      <td>vwc</td>\n",
       "      <td>never pay</td>\n",
       "      <td>soft</td>\n",
       "      <td>enough</td>\n",
       "      <td>shallow well</td>\n",
       "      <td>other</td>\n",
       "      <td>non functional</td>\n",
       "      <td>25.0</td>\n",
       "      <td>0.173923</td>\n",
       "    </tr>\n",
       "    <tr>\n",
       "      <th>2</th>\n",
       "      <td>38707</td>\n",
       "      <td>1913.636364</td>\n",
       "      <td>D</td>\n",
       "      <td>1244.0</td>\n",
       "      <td>D</td>\n",
       "      <td>32.972719</td>\n",
       "      <td>-2.528716</td>\n",
       "      <td>Kwa Bulola A</td>\n",
       "      <td>Lake Victoria</td>\n",
       "      <td>Mwanza</td>\n",
       "      <td>...</td>\n",
       "      <td>handpump</td>\n",
       "      <td>vwc</td>\n",
       "      <td>never pay</td>\n",
       "      <td>salty</td>\n",
       "      <td>insufficient</td>\n",
       "      <td>shallow well</td>\n",
       "      <td>hand pump</td>\n",
       "      <td>non functional</td>\n",
       "      <td>10.0</td>\n",
       "      <td>1.603844</td>\n",
       "    </tr>\n",
       "    <tr>\n",
       "      <th>3</th>\n",
       "      <td>53088</td>\n",
       "      <td>1913.636364</td>\n",
       "      <td>H</td>\n",
       "      <td>1226.0</td>\n",
       "      <td>H</td>\n",
       "      <td>32.955597</td>\n",
       "      <td>-2.501627</td>\n",
       "      <td>Kwa Chuga</td>\n",
       "      <td>Lake Victoria</td>\n",
       "      <td>Mwanza</td>\n",
       "      <td>...</td>\n",
       "      <td>other</td>\n",
       "      <td>vwc</td>\n",
       "      <td>never pay</td>\n",
       "      <td>soft</td>\n",
       "      <td>enough</td>\n",
       "      <td>shallow well</td>\n",
       "      <td>other</td>\n",
       "      <td>non functional</td>\n",
       "      <td>18.0</td>\n",
       "      <td>3.783605</td>\n",
       "    </tr>\n",
       "    <tr>\n",
       "      <th>4</th>\n",
       "      <td>44373</td>\n",
       "      <td>500.000000</td>\n",
       "      <td>H</td>\n",
       "      <td>1246.0</td>\n",
       "      <td>H</td>\n",
       "      <td>32.996093</td>\n",
       "      <td>-2.516047</td>\n",
       "      <td>Kwa Zuberi</td>\n",
       "      <td>Lake Victoria</td>\n",
       "      <td>Mwanza</td>\n",
       "      <td>...</td>\n",
       "      <td>handpump</td>\n",
       "      <td>vwc</td>\n",
       "      <td>on failure</td>\n",
       "      <td>soft</td>\n",
       "      <td>insufficient</td>\n",
       "      <td>shallow well</td>\n",
       "      <td>hand pump</td>\n",
       "      <td>non functional</td>\n",
       "      <td>11.0</td>\n",
       "      <td>1.864577</td>\n",
       "    </tr>\n",
       "    <tr>\n",
       "      <th>5</th>\n",
       "      <td>46634</td>\n",
       "      <td>1000.000000</td>\n",
       "      <td>H</td>\n",
       "      <td>1259.0</td>\n",
       "      <td>H</td>\n",
       "      <td>32.984790</td>\n",
       "      <td>-2.496459</td>\n",
       "      <td>Kwa Lwaho Ngogashili</td>\n",
       "      <td>Lake Victoria</td>\n",
       "      <td>Mwanza</td>\n",
       "      <td>...</td>\n",
       "      <td>handpump</td>\n",
       "      <td>vwc</td>\n",
       "      <td>monthly</td>\n",
       "      <td>soft</td>\n",
       "      <td>enough</td>\n",
       "      <td>shallow well</td>\n",
       "      <td>hand pump</td>\n",
       "      <td>non functional</td>\n",
       "      <td>22.0</td>\n",
       "      <td>0.586364</td>\n",
       "    </tr>\n",
       "    <tr>\n",
       "      <th>6</th>\n",
       "      <td>35072</td>\n",
       "      <td>1913.636364</td>\n",
       "      <td>H</td>\n",
       "      <td>1225.0</td>\n",
       "      <td>H</td>\n",
       "      <td>32.965734</td>\n",
       "      <td>-2.504294</td>\n",
       "      <td>Kwa Bujingwa</td>\n",
       "      <td>Lake Victoria</td>\n",
       "      <td>Mwanza</td>\n",
       "      <td>...</td>\n",
       "      <td>handpump</td>\n",
       "      <td>vwc</td>\n",
       "      <td>never pay</td>\n",
       "      <td>soft</td>\n",
       "      <td>insufficient</td>\n",
       "      <td>shallow well</td>\n",
       "      <td>hand pump</td>\n",
       "      <td>non functional</td>\n",
       "      <td>25.0</td>\n",
       "      <td>0.291998</td>\n",
       "    </tr>\n",
       "    <tr>\n",
       "      <th>7</th>\n",
       "      <td>7568</td>\n",
       "      <td>1913.636364</td>\n",
       "      <td>H</td>\n",
       "      <td>1247.0</td>\n",
       "      <td>H</td>\n",
       "      <td>32.993277</td>\n",
       "      <td>-2.510639</td>\n",
       "      <td>Nyamadoke</td>\n",
       "      <td>Lake Victoria</td>\n",
       "      <td>Mwanza</td>\n",
       "      <td>...</td>\n",
       "      <td>handpump</td>\n",
       "      <td>vwc</td>\n",
       "      <td>never pay</td>\n",
       "      <td>soft</td>\n",
       "      <td>insufficient</td>\n",
       "      <td>shallow well</td>\n",
       "      <td>hand pump</td>\n",
       "      <td>non functional</td>\n",
       "      <td>25.0</td>\n",
       "      <td>1.790540</td>\n",
       "    </tr>\n",
       "    <tr>\n",
       "      <th>8</th>\n",
       "      <td>21107</td>\n",
       "      <td>1913.636364</td>\n",
       "      <td>H</td>\n",
       "      <td>1171.0</td>\n",
       "      <td>H</td>\n",
       "      <td>32.924886</td>\n",
       "      <td>-2.465246</td>\n",
       "      <td>Kwa Kabambo</td>\n",
       "      <td>Lake Victoria</td>\n",
       "      <td>Mwanza</td>\n",
       "      <td>...</td>\n",
       "      <td>handpump</td>\n",
       "      <td>vwc</td>\n",
       "      <td>never pay</td>\n",
       "      <td>salty</td>\n",
       "      <td>insufficient</td>\n",
       "      <td>shallow well</td>\n",
       "      <td>hand pump</td>\n",
       "      <td>non functional</td>\n",
       "      <td>20.0</td>\n",
       "      <td>42.464024</td>\n",
       "    </tr>\n",
       "    <tr>\n",
       "      <th>9</th>\n",
       "      <td>6416</td>\n",
       "      <td>1000.000000</td>\n",
       "      <td>H</td>\n",
       "      <td>1239.0</td>\n",
       "      <td>H</td>\n",
       "      <td>32.987670</td>\n",
       "      <td>-2.490324</td>\n",
       "      <td>Kwa Jonh Andrew</td>\n",
       "      <td>Lake Victoria</td>\n",
       "      <td>Mwanza</td>\n",
       "      <td>...</td>\n",
       "      <td>other</td>\n",
       "      <td>vwc</td>\n",
       "      <td>monthly</td>\n",
       "      <td>salty</td>\n",
       "      <td>insufficient</td>\n",
       "      <td>shallow well</td>\n",
       "      <td>other</td>\n",
       "      <td>non functional</td>\n",
       "      <td>24.0</td>\n",
       "      <td>44.788389</td>\n",
       "    </tr>\n",
       "    <tr>\n",
       "      <th>10</th>\n",
       "      <td>44489</td>\n",
       "      <td>1913.636364</td>\n",
       "      <td>H</td>\n",
       "      <td>1241.0</td>\n",
       "      <td>H</td>\n",
       "      <td>32.988560</td>\n",
       "      <td>-2.489378</td>\n",
       "      <td>Kwa Kaombwe</td>\n",
       "      <td>Lake Victoria</td>\n",
       "      <td>Mwanza</td>\n",
       "      <td>...</td>\n",
       "      <td>handpump</td>\n",
       "      <td>vwc</td>\n",
       "      <td>never pay</td>\n",
       "      <td>soft</td>\n",
       "      <td>insufficient</td>\n",
       "      <td>shallow well</td>\n",
       "      <td>hand pump</td>\n",
       "      <td>non functional</td>\n",
       "      <td>19.0</td>\n",
       "      <td>44.674206</td>\n",
       "    </tr>\n",
       "    <tr>\n",
       "      <th>11</th>\n",
       "      <td>29971</td>\n",
       "      <td>1913.636364</td>\n",
       "      <td>H</td>\n",
       "      <td>1176.0</td>\n",
       "      <td>H</td>\n",
       "      <td>32.936689</td>\n",
       "      <td>-2.467137</td>\n",
       "      <td>Kwa Lukas</td>\n",
       "      <td>Lake Victoria</td>\n",
       "      <td>Mwanza</td>\n",
       "      <td>...</td>\n",
       "      <td>other</td>\n",
       "      <td>vwc</td>\n",
       "      <td>never pay</td>\n",
       "      <td>soft</td>\n",
       "      <td>enough</td>\n",
       "      <td>shallow well</td>\n",
       "      <td>other</td>\n",
       "      <td>non functional</td>\n",
       "      <td>12.0</td>\n",
       "      <td>111.832393</td>\n",
       "    </tr>\n",
       "    <tr>\n",
       "      <th>12</th>\n",
       "      <td>73042</td>\n",
       "      <td>1913.636364</td>\n",
       "      <td>H</td>\n",
       "      <td>1248.0</td>\n",
       "      <td>H</td>\n",
       "      <td>33.006275</td>\n",
       "      <td>-2.519950</td>\n",
       "      <td>Kwa Nyamhongolo</td>\n",
       "      <td>Lake Victoria</td>\n",
       "      <td>Mwanza</td>\n",
       "      <td>...</td>\n",
       "      <td>other</td>\n",
       "      <td>vwc</td>\n",
       "      <td>never pay</td>\n",
       "      <td>soft</td>\n",
       "      <td>enough</td>\n",
       "      <td>shallow well</td>\n",
       "      <td>other</td>\n",
       "      <td>non functional</td>\n",
       "      <td>21.0</td>\n",
       "      <td>44.169649</td>\n",
       "    </tr>\n",
       "    <tr>\n",
       "      <th>13</th>\n",
       "      <td>17965</td>\n",
       "      <td>1000.000000</td>\n",
       "      <td>H</td>\n",
       "      <td>1190.0</td>\n",
       "      <td>H</td>\n",
       "      <td>32.983932</td>\n",
       "      <td>-2.470409</td>\n",
       "      <td>Kwa Darajani</td>\n",
       "      <td>Lake Victoria</td>\n",
       "      <td>Mwanza</td>\n",
       "      <td>...</td>\n",
       "      <td>handpump</td>\n",
       "      <td>vwc</td>\n",
       "      <td>monthly</td>\n",
       "      <td>salty</td>\n",
       "      <td>enough</td>\n",
       "      <td>shallow well</td>\n",
       "      <td>hand pump</td>\n",
       "      <td>non functional</td>\n",
       "      <td>24.0</td>\n",
       "      <td>52.580810</td>\n",
       "    </tr>\n",
       "    <tr>\n",
       "      <th>14</th>\n",
       "      <td>3000</td>\n",
       "      <td>1000.000000</td>\n",
       "      <td>M</td>\n",
       "      <td>1187.0</td>\n",
       "      <td>M</td>\n",
       "      <td>32.920579</td>\n",
       "      <td>-2.474560</td>\n",
       "      <td>Kwa Mama Okocha</td>\n",
       "      <td>Lake Victoria</td>\n",
       "      <td>Mwanza</td>\n",
       "      <td>...</td>\n",
       "      <td>handpump</td>\n",
       "      <td>private operator</td>\n",
       "      <td>never pay</td>\n",
       "      <td>salty</td>\n",
       "      <td>enough</td>\n",
       "      <td>shallow well</td>\n",
       "      <td>hand pump</td>\n",
       "      <td>non functional</td>\n",
       "      <td>8.0</td>\n",
       "      <td>42.780402</td>\n",
       "    </tr>\n",
       "  </tbody>\n",
       "</table>\n",
       "<p>15 rows × 29 columns</p>\n",
       "</div>"
      ],
      "text/plain": [
       "       id   amount_tsh funder  gps_height installer  longitude  latitude  \\\n",
       "0   73178  1913.636364      L      1195.0         L  32.956523 -2.494353   \n",
       "1    7415  1913.636364      H      1230.0         H  32.977191 -2.516619   \n",
       "2   38707  1913.636364      D      1244.0         D  32.972719 -2.528716   \n",
       "3   53088  1913.636364      H      1226.0         H  32.955597 -2.501627   \n",
       "4   44373   500.000000      H      1246.0         H  32.996093 -2.516047   \n",
       "5   46634  1000.000000      H      1259.0         H  32.984790 -2.496459   \n",
       "6   35072  1913.636364      H      1225.0         H  32.965734 -2.504294   \n",
       "7    7568  1913.636364      H      1247.0         H  32.993277 -2.510639   \n",
       "8   21107  1913.636364      H      1171.0         H  32.924886 -2.465246   \n",
       "9    6416  1000.000000      H      1239.0         H  32.987670 -2.490324   \n",
       "10  44489  1913.636364      H      1241.0         H  32.988560 -2.489378   \n",
       "11  29971  1913.636364      H      1176.0         H  32.936689 -2.467137   \n",
       "12  73042  1913.636364      H      1248.0         H  33.006275 -2.519950   \n",
       "13  17965  1000.000000      H      1190.0         H  32.983932 -2.470409   \n",
       "14   3000  1000.000000      M      1187.0         M  32.920579 -2.474560   \n",
       "\n",
       "                wpt_name          basin  region  ...  extraction_type_class  \\\n",
       "0      Kwa Julias Mabula  Lake Victoria  Mwanza  ...                  other   \n",
       "1          Kwa Buswelu B  Lake Victoria  Mwanza  ...                  other   \n",
       "2           Kwa Bulola A  Lake Victoria  Mwanza  ...               handpump   \n",
       "3              Kwa Chuga  Lake Victoria  Mwanza  ...                  other   \n",
       "4             Kwa Zuberi  Lake Victoria  Mwanza  ...               handpump   \n",
       "5   Kwa Lwaho Ngogashili  Lake Victoria  Mwanza  ...               handpump   \n",
       "6           Kwa Bujingwa  Lake Victoria  Mwanza  ...               handpump   \n",
       "7              Nyamadoke  Lake Victoria  Mwanza  ...               handpump   \n",
       "8            Kwa Kabambo  Lake Victoria  Mwanza  ...               handpump   \n",
       "9        Kwa Jonh Andrew  Lake Victoria  Mwanza  ...                  other   \n",
       "10           Kwa Kaombwe  Lake Victoria  Mwanza  ...               handpump   \n",
       "11             Kwa Lukas  Lake Victoria  Mwanza  ...                  other   \n",
       "12       Kwa Nyamhongolo  Lake Victoria  Mwanza  ...                  other   \n",
       "13          Kwa Darajani  Lake Victoria  Mwanza  ...               handpump   \n",
       "14       Kwa Mama Okocha  Lake Victoria  Mwanza  ...               handpump   \n",
       "\n",
       "          management payment_type  water_quality  quantity_group  \\\n",
       "0                vwc    never pay          salty          enough   \n",
       "1                vwc    never pay           soft          enough   \n",
       "2                vwc    never pay          salty    insufficient   \n",
       "3                vwc    never pay           soft          enough   \n",
       "4                vwc   on failure           soft    insufficient   \n",
       "5                vwc      monthly           soft          enough   \n",
       "6                vwc    never pay           soft    insufficient   \n",
       "7                vwc    never pay           soft    insufficient   \n",
       "8                vwc    never pay          salty    insufficient   \n",
       "9                vwc      monthly          salty    insufficient   \n",
       "10               vwc    never pay           soft    insufficient   \n",
       "11               vwc    never pay           soft          enough   \n",
       "12               vwc    never pay           soft          enough   \n",
       "13               vwc      monthly          salty          enough   \n",
       "14  private operator    never pay          salty          enough   \n",
       "\n",
       "          source waterpoint_type    status_group operational_years  \\\n",
       "0   shallow well           other  non functional              45.0   \n",
       "1   shallow well           other  non functional              25.0   \n",
       "2   shallow well       hand pump  non functional              10.0   \n",
       "3   shallow well           other  non functional              18.0   \n",
       "4   shallow well       hand pump  non functional              11.0   \n",
       "5   shallow well       hand pump  non functional              22.0   \n",
       "6   shallow well       hand pump  non functional              25.0   \n",
       "7   shallow well       hand pump  non functional              25.0   \n",
       "8   shallow well       hand pump  non functional              20.0   \n",
       "9   shallow well           other  non functional              24.0   \n",
       "10  shallow well       hand pump  non functional              19.0   \n",
       "11  shallow well           other  non functional              12.0   \n",
       "12  shallow well           other  non functional              21.0   \n",
       "13  shallow well       hand pump  non functional              24.0   \n",
       "14  shallow well       hand pump  non functional               8.0   \n",
       "\n",
       "   closest_dist  \n",
       "0      3.315638  \n",
       "1      0.173923  \n",
       "2      1.603844  \n",
       "3      3.783605  \n",
       "4      1.864577  \n",
       "5      0.586364  \n",
       "6      0.291998  \n",
       "7      1.790540  \n",
       "8     42.464024  \n",
       "9     44.788389  \n",
       "10    44.674206  \n",
       "11   111.832393  \n",
       "12    44.169649  \n",
       "13    52.580810  \n",
       "14    42.780402  \n",
       "\n",
       "[15 rows x 29 columns]"
      ]
     },
     "execution_count": 26,
     "metadata": {},
     "output_type": "execute_result"
    }
   ],
   "source": [
    "nonfuncdf = nonfuncdf.assign(closest_dist = closest)\n",
    "nonfuncdf"
   ]
  },
  {
   "cell_type": "markdown",
   "metadata": {},
   "source": [
    "### Assumptions\n",
    "- A functional pump can serve twice as many people as its surrounding population in the LGA\n",
    "- A non-functional pump does not serve anybody \n",
    "\n",
    "The LGA population with a non-functional pump can be supplied water by\n",
    "1. replacing a non-functional pump OR\n",
    "2. transporting water from the nearest functional pump\n",
    "<br><br>\n",
    "Note that\n",
    "> The cost of replacing a pump is $r_f$ + $r_v TSH$ where $r_f$ = \\\\$100 is the fixed cost and the variable cost is $r_v$ = \\\\$0.05 per unit $TSH$ <br>\n",
    "> The cost of transporting water is $t_f$+$t_v d$ where $t_f$ = \\\\$100 is the fixed cost and the variable cost is $t_v$ = \\\\$2000 per unit distance and $d$ is the Euclidean distance between a non-functional pump and the nearest functional pump"
   ]
  },
  {
   "cell_type": "markdown",
   "metadata": {},
   "source": [
    "## Aim: Minimize overall cost of replacement and transportation\n",
    "### where\n",
    "\n",
    "Cost of replacing pump = $r_f$ + $r_v TSH$, $r_f$ = 100, $r_v$ = 0.05 <br>\n",
    "Cost of transporting water = $t_f$ + $t_v d$, $t_f$ = 100, $t_v$ = 2000\n",
    "\n",
    "#### Variables:\n",
    "- $X_i$: Cost of replacing pump i\n",
    "- $Y_i$: Cost of transporting water to pump i\n",
    "- $B_i$: Binary value to replace pump i (1) or to consider cost of transporting water (0)\n",
    "\n",
    "#### Objective:\n",
    "To minimize replacement cost and transport cost:\n",
    "$$\\sum_{t=start_i}^{end_i} (X_i * B_i) + \\sum_{t=start_i}^{end_i} (Y_i *(1-B_i)) $$\n",
    "\n",
    "The model will choose whether to replace pump i or to transport water from the next nearest pump, depending on which is cheaper. This is illustrated by the equation above. On one hand, $B_i$ will be 1 if the pump is to be replaced, and the cost of transporting water $-$ $Y_i$ will not be taken into account. On the other hand, $B_i$ will be 0 if cost of transporting water is cheaper, and cost of replacing pump $-$ $X_i$ will not be taken into account.\n",
    "\n",
    "#### Constraints:\n",
    "Each `functional` pump can support twice its community `population`. This has been accounted for in the preprocessing above."
   ]
  },
  {
   "cell_type": "markdown",
   "metadata": {},
   "source": [
    "Create concrete model and obtain the replacement and transport costs for each row.<br>"
   ]
  },
  {
   "cell_type": "code",
   "execution_count": 27,
   "metadata": {},
   "outputs": [],
   "source": [
    "pump = pe.ConcreteModel(name='Pump Cost Problem')\n",
    "replacement_costs = []\n",
    "transportation_costs = []\n",
    "\n",
    "for i, nonfunc in nonfuncdf.iterrows():\n",
    "    replacement_costs.append(100 + 0.05*nonfunc.amount_tsh)\n",
    "    transportation_costs.append(100 + 2000*nonfunc.closest_dist)"
   ]
  },
  {
   "cell_type": "markdown",
   "metadata": {},
   "source": [
    "Convert `replacement_costs` and `transportation_costs` into dictionary to be called later."
   ]
  },
  {
   "cell_type": "code",
   "execution_count": 28,
   "metadata": {},
   "outputs": [],
   "source": [
    "idx = nonfuncdf.id.tolist()\n",
    "rep_costs = {idx: replacement_costs for idx, replacement_costs in zip(idx, replacement_costs)}\n",
    "trans_costs = {idx: transportation_costs for idx, transportation_costs in zip(idx, transportation_costs)}"
   ]
  },
  {
   "cell_type": "markdown",
   "metadata": {},
   "source": [
    "Declare binary variable for model, as well as expression to be used and objective of model"
   ]
  },
  {
   "cell_type": "code",
   "execution_count": 29,
   "metadata": {},
   "outputs": [
    {
     "name": "stdout",
     "output_type": "stream",
     "text": [
      "195.68181818181822*binary[73178] + 195.68181818181822*binary[7415] + 195.68181818181822*binary[38707] + 195.68181818181822*binary[53088] + 125.0*binary[44373] + 150.0*binary[46634] + 195.68181818181822*binary[35072] + 195.68181818181822*binary[7568] + 195.68181818181822*binary[21107] + 150.0*binary[6416] + 195.68181818181822*binary[44489] + 195.68181818181822*binary[29971] + 195.68181818181822*binary[73042] + 150.0*binary[17965] + 150.0*binary[3000] + 6731.275766563277*(1 - binary[73178]) + 447.8461848561355*(1 - binary[7415]) + 3307.688513687048*(1 - binary[38707]) + 7667.209803812229*(1 - binary[53088]) + 3829.154801322243*(1 - binary[44373]) + 1272.7274448946284*(1 - binary[46634]) + 683.9964724120398*(1 - binary[35072]) + 3681.080528103045*(1 - binary[7568]) + 85028.04743850106*(1 - binary[21107]) + 89676.77782642025*(1 - binary[6416]) + 89448.41170992632*(1 - binary[44489]) + 223764.78517509124*(1 - binary[29971]) + 88439.29706257307*(1 - binary[73042]) + 105261.61963254609*(1 - binary[17965]) + 85660.80476702587*(1 - binary[3000])\n"
     ]
    }
   ],
   "source": [
    "pump.binary = pe.Var(idx, domain=pe.Binary, initialize=0)\n",
    "\n",
    "def obj_expr(model):\n",
    "    return sum(rep_costs[i]*pump.binary[i] for i in idx) + sum(trans_costs[i]*(1-pump.binary[i]) for i in idx)\n",
    "\n",
    "pump.obj = pe.Objective(rule=obj_expr,sense=pe.minimize)\n",
    "print(pump.obj.expr)"
   ]
  },
  {
   "cell_type": "markdown",
   "metadata": {},
   "source": [
    "Use `glpk` solver"
   ]
  },
  {
   "cell_type": "code",
   "execution_count": 30,
   "metadata": {},
   "outputs": [
    {
     "name": "stdout",
     "output_type": "stream",
     "text": [
      "WARNING: Empty constraint block written in LP format - solver may error\n"
     ]
    }
   ],
   "source": [
    "opt = pe.SolverFactory('glpk')\n",
    "results = opt.solve(pump)"
   ]
  },
  {
   "cell_type": "code",
   "execution_count": 31,
   "metadata": {},
   "outputs": [
    {
     "name": "stdout",
     "output_type": "stream",
     "text": [
      "Model Pump Cost Problem\n",
      "\n",
      "  Variables:\n",
      "    binary : Size=15, Index=binary_index\n",
      "        Key   : Lower : Value : Upper : Fixed : Stale : Domain\n",
      "         3000 :     0 :   1.0 :     1 : False : False : Binary\n",
      "         6416 :     0 :   1.0 :     1 : False : False : Binary\n",
      "         7415 :     0 :   1.0 :     1 : False : False : Binary\n",
      "         7568 :     0 :   1.0 :     1 : False : False : Binary\n",
      "        17965 :     0 :   1.0 :     1 : False : False : Binary\n",
      "        21107 :     0 :   1.0 :     1 : False : False : Binary\n",
      "        29971 :     0 :   1.0 :     1 : False : False : Binary\n",
      "        35072 :     0 :   1.0 :     1 : False : False : Binary\n",
      "        38707 :     0 :   1.0 :     1 : False : False : Binary\n",
      "        44373 :     0 :   1.0 :     1 : False : False : Binary\n",
      "        44489 :     0 :   1.0 :     1 : False : False : Binary\n",
      "        46634 :     0 :   1.0 :     1 : False : False : Binary\n",
      "        53088 :     0 :   1.0 :     1 : False : False : Binary\n",
      "        73042 :     0 :   1.0 :     1 : False : False : Binary\n",
      "        73178 :     0 :   1.0 :     1 : False : False : Binary\n",
      "\n",
      "  Objectives:\n",
      "    obj : Size=1, Index=None, Active=True\n",
      "        Key  : Active : Value\n",
      "        None :   True : 2681.818181818182\n",
      "\n",
      "  Constraints:\n",
      "    None\n"
     ]
    }
   ],
   "source": [
    "pump.display()"
   ]
  },
  {
   "cell_type": "markdown",
   "metadata": {},
   "source": [
    "## Output"
   ]
  },
  {
   "cell_type": "code",
   "execution_count": 32,
   "metadata": {},
   "outputs": [
    {
     "name": "stdout",
     "output_type": "stream",
     "text": [
      "Pumps to replace:\n",
      "pump name =  Kwa Julias Mabula\n",
      "pump name =  Kwa Buswelu B\n",
      "pump name =  Kwa Bulola A\n",
      "pump name =  Kwa Chuga\n",
      "pump name =  Kwa Zuberi\n",
      "pump name =  Kwa Lwaho Ngogashili\n",
      "pump name =  Kwa Bujingwa\n",
      "pump name =  Nyamadoke\n",
      "pump name =  Kwa Kabambo\n",
      "pump name =  Kwa Jonh Andrew\n",
      "pump name =  Kwa Kaombwe\n",
      "pump name =  Kwa Lukas\n",
      "pump name =  Kwa Nyamhongolo\n",
      "pump name =  Kwa Darajani\n",
      "pump name =  Kwa Mama Okocha\n",
      "Optimum overall cost: $ 2681.82\n"
     ]
    }
   ],
   "source": [
    "print('Pumps to replace:')\n",
    "for i in idx:\n",
    "    if pump.binary[i].value == 1:\n",
    "        pump_name = nonfuncdf.loc[nonfuncdf['id'] == i].wpt_name.item()\n",
    "        print('pump name = ', pump_name)\n",
    "\n",
    "print('Optimum overall cost: $', round(pump.obj.expr(), 2))"
   ]
  },
  {
   "cell_type": "code",
   "execution_count": null,
   "metadata": {},
   "outputs": [],
   "source": []
  }
 ],
 "metadata": {
  "kernelspec": {
   "display_name": "Python 3",
   "language": "python",
   "name": "python3"
  },
  "language_info": {
   "codemirror_mode": {
    "name": "ipython",
    "version": 3
   },
   "file_extension": ".py",
   "mimetype": "text/x-python",
   "name": "python",
   "nbconvert_exporter": "python",
   "pygments_lexer": "ipython3",
   "version": "3.8.3"
  }
 },
 "nbformat": 4,
 "nbformat_minor": 4
}
