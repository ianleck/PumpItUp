{
 "cells": [
  {
   "cell_type": "markdown",
   "metadata": {},
   "source": [
    "Note the following features for each pump:\n",
    "- Total Static Head (TSH)\n",
    "- Total vertical distance that a pump raises water against gravity\n",
    "- Water available to a water point\n",
    "- Local Government Area (LGA)\n",
    "- Geographic Location\n",
    "- Population served\n",
    "- Latitude and Longitude - GPS coordinates\n",
    "- Labels: functional, non-functional and functional-needs-repair"
   ]
  },
  {
   "cell_type": "markdown",
   "metadata": {},
   "source": [
    "Your team is a consultant to the government of Tanzania, who has asked you to determine, for each LGA:\n",
    "which non-functional pumps can be replaced at minimum possible cost in order to serve water to everyone \n",
    "You should develop a solution where your client can input the name of the LGA and will receive the following outputs:\n",
    "- the names of the non-functional pumps to be replaced \n",
    "- the total cost\n",
    "\n",
    "#### Use latitude and longitude for distance computation"
   ]
  },
  {
   "cell_type": "markdown",
   "metadata": {},
   "source": [
    "### Assumptions\n",
    "- A functional pump can serve twice as many people as its surrounding population in the LGA\n",
    "- A non-functional pump does not serve anybody\n",
    "- The LGA population with a non-functional pump can be supplied water by\n",
    "1. replacing a non-functional pump OR\n",
    "2. transporting water from the nearest functional pump\n",
    "- The cost of replacing a pump is $r_f$ + $r_v TSH$ where $r_f$ = \\\\$100 is the fixed cost and the variable cost is $r_v$ = \\\\$0.05 per unit $TSH$\n",
    "- The cost of transporting water is $t_f$+$t_v d$ where $t_f$ = \\\\$100 is the fixed cost and the variable cost is $t_v$ = \\\\$2000 per unit distance and $d$ is the Euclidean distance between a non-functional pump and the nearest functional pump"
   ]
  },
  {
   "cell_type": "markdown",
   "metadata": {},
   "source": [
    "## Aim: Minimize overall cost of replacement and transportation\n",
    "### where\n",
    "\n",
    "Cost of replacing pump = $r_f$ + $r_v TSH$, $r_f$ = 100, $r_v$ = 0.05 <br>\n",
    "Cost of transporting water = $t_f$ + $t_v d$, $t_f$ = 100, $t_v$ = 2000\n",
    "\n",
    "#### Variables:\n",
    "- $X_i$: Cost of replacing pump i\n",
    "- $Y_i$: Cost of transporting water to pump i\n",
    "- $B_i$: Binary value to replace pump i (1) or to consider cost of transporting water (0)\n",
    "\n",
    "#### Objective:\n",
    "To minimize replacement cost and transport cost:\n",
    "$$\\sum_{t=start_i}^{end_i} (X_i * B_i) + \\sum_{t=start_i}^{end_i} (Y_i *(1-B_i)) $$\n",
    "\n",
    "The model will choose whether to replace pump i or to transport water from the next nearest pump, depending on which is cheaper. This is illustrated by the equation above. On one hand, $B_i$ will be 1 if the pump is to be replaced, and the cost of transporting water $-$ $Y_i$ will not be taken into account. On the other hand, $B_i$ will be 0 if cost of transporting water is cheaper, and cost of replacing pump $-$ $X_i$ will not be taken into account.\n",
    "\n",
    "#### Constraints:\n",
    "$Cost_i$ = $X_i$ || $Y_i$"
   ]
  },
  {
   "cell_type": "markdown",
   "metadata": {},
   "source": [
    "## Preprocessing\n",
    "\n",
    "Remove records that: <Br/>\n",
    "\n",
    "- Don't have location information\n",
    "- Have pumps with 0 surrounding population\n",
    "- Have no name ('none') for the pump\n",
    "<Br/>\n",
    "\n",
    "#### Ignore 'functional-needs-repair' pumps for this analysis"
   ]
  },
  {
   "cell_type": "code",
   "execution_count": 7,
   "metadata": {},
   "outputs": [],
   "source": [
    "import pyomo.environ as pe\n",
    "import pandas as pd\n",
    "import numpy as np\n",
    "import matplotlib.pyplot as plt"
   ]
  },
  {
   "cell_type": "code",
   "execution_count": null,
   "metadata": {},
   "outputs": [],
   "source": []
  },
  {
   "cell_type": "code",
   "execution_count": 8,
   "metadata": {},
   "outputs": [],
   "source": [
    "pump = pe.ConcreteModel(name='Pump Replacement Problem')\n",
    "replacement_costs = ['replace_pump', 'transport_water']\n",
    "pump.quantities = pe.Var(replacement_costs, domain=pe.NonNegativeReals)"
   ]
  },
  {
   "cell_type": "code",
   "execution_count": null,
   "metadata": {},
   "outputs": [],
   "source": [
    "\n",
    "costs = {idx: costs for idx, costs in zip(replacement_costs, )}"
   ]
  }
 ],
 "metadata": {
  "kernelspec": {
   "display_name": "Python 3",
   "language": "python",
   "name": "python3"
  },
  "language_info": {
   "codemirror_mode": {
    "name": "ipython",
    "version": 3
   },
   "file_extension": ".py",
   "mimetype": "text/x-python",
   "name": "python",
   "nbconvert_exporter": "python",
   "pygments_lexer": "ipython3",
   "version": "3.8.3"
  }
 },
 "nbformat": 4,
 "nbformat_minor": 4
}
