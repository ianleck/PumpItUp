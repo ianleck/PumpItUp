{
 "cells": [
  {
   "cell_type": "code",
   "execution_count": 1,
   "metadata": {},
   "outputs": [],
   "source": [
    "import pandas as pd\n",
    "import numpy as np\n",
    "import matplotlib.pyplot as plt\n",
    "import seaborn as sns\n",
    "from sklearn.preprocessing import MinMaxScaler"
   ]
  },
  {
   "cell_type": "code",
   "execution_count": 3,
   "metadata": {},
   "outputs": [
    {
     "name": "stdout",
     "output_type": "stream",
     "text": [
      "id                           0\n",
      "amount_tsh               10410\n",
      "date_recorded                0\n",
      "funder                     869\n",
      "gps_height                5211\n",
      "installer                  877\n",
      "longitude                  457\n",
      "latitude                     0\n",
      "wpt_name                     0\n",
      "num_private                  0\n",
      "basin                        0\n",
      "subvillage                  99\n",
      "region                       0\n",
      "region_code                  0\n",
      "district_code                0\n",
      "lga                          0\n",
      "ward                         0\n",
      "population                5453\n",
      "public_meeting             821\n",
      "recorded_by                  0\n",
      "scheme_management          969\n",
      "scheme_name               7092\n",
      "permit                     737\n",
      "construction_year         5260\n",
      "extraction_type              0\n",
      "extraction_type_group        0\n",
      "extraction_type_class        0\n",
      "management                   0\n",
      "management_group             0\n",
      "payment                      0\n",
      "payment_type                 0\n",
      "water_quality                0\n",
      "quality_group                0\n",
      "quantity                     0\n",
      "quantity_group               0\n",
      "source                       0\n",
      "source_type                  0\n",
      "source_class                 0\n",
      "waterpoint_type              0\n",
      "waterpoint_type_group        0\n",
      "dtype: int64\n"
     ]
    }
   ],
   "source": [
    "# Read test data\n",
    "data = pd.read_csv('TestValues.csv')\n",
    "\n",
    "# Replace gps height, population and amount_tsh that is 0 with NA to invalidate missing data\n",
    "data['gps_height'].replace(0, np.nan, inplace=True)\n",
    "data['population'].replace(0, np.nan, inplace=True)\n",
    "data['amount_tsh'].replace(0, np.nan, inplace=True)\n",
    "data['longitude'].replace(0, np.nan, inplace=True)\n",
    "data['latitude'].replace(0, np.nan, inplace=True)\n",
    "data['construction_year'].replace(0, np.nan, inplace=True)\n",
    "print(data.isnull().sum())"
   ]
  },
  {
   "cell_type": "code",
   "execution_count": 4,
   "metadata": {},
   "outputs": [
    {
     "name": "stdout",
     "output_type": "stream",
     "text": [
      "id                          0\n",
      "amount_tsh                  0\n",
      "date_recorded               0\n",
      "funder                    869\n",
      "gps_height                  0\n",
      "installer                 877\n",
      "longitude                 457\n",
      "latitude                    0\n",
      "wpt_name                    0\n",
      "num_private                 0\n",
      "basin                       0\n",
      "subvillage                 99\n",
      "region                      0\n",
      "region_code                 0\n",
      "district_code               0\n",
      "lga                         0\n",
      "ward                        0\n",
      "population                  0\n",
      "public_meeting            821\n",
      "recorded_by                 0\n",
      "scheme_management         969\n",
      "scheme_name              7092\n",
      "permit                    737\n",
      "construction_year        5260\n",
      "extraction_type             0\n",
      "extraction_type_group       0\n",
      "extraction_type_class       0\n",
      "management                  0\n",
      "management_group            0\n",
      "payment                     0\n",
      "payment_type                0\n",
      "water_quality               0\n",
      "quality_group               0\n",
      "quantity                    0\n",
      "quantity_group              0\n",
      "source                      0\n",
      "source_type                 0\n",
      "source_class                0\n",
      "waterpoint_type             0\n",
      "waterpoint_type_group       0\n",
      "dtype: int64\n"
     ]
    }
   ],
   "source": [
    "data[\"gps_height\"].fillna(data.groupby(['region', 'district_code'])[\"gps_height\"].transform(\"mean\"), inplace=True)\n",
    "data[\"gps_height\"].fillna(data.groupby(['region'])[\"gps_height\"].transform(\"mean\"), inplace=True)\n",
    "data[\"gps_height\"].fillna(data[\"gps_height\"].mean(), inplace=True)\n",
    "data[\"population\"].fillna(data.groupby(['region', 'district_code'])[\"population\"].transform(\"median\"), inplace=True)\n",
    "data[\"population\"].fillna(data.groupby(['region'])[\"population\"].transform(\"median\"), inplace=True)\n",
    "data[\"population\"].fillna(data[\"population\"].median(), inplace=True)\n",
    "data[\"amount_tsh\"].fillna(data.groupby(['region', 'district_code'])[\"amount_tsh\"].transform(\"median\"), inplace=True)\n",
    "data[\"amount_tsh\"].fillna(data.groupby(['region'])[\"amount_tsh\"].transform(\"median\"), inplace=True)\n",
    "data[\"amount_tsh\"].fillna(data[\"amount_tsh\"].median(), inplace=True)\n",
    "print(data.isnull().sum())"
   ]
  },
  {
   "cell_type": "code",
   "execution_count": 5,
   "metadata": {},
   "outputs": [
    {
     "name": "stdout",
     "output_type": "stream",
     "text": [
      "id                          0\n",
      "amount_tsh                  0\n",
      "date_recorded               0\n",
      "funder                    869\n",
      "gps_height                  0\n",
      "installer                 877\n",
      "longitude                   0\n",
      "latitude                    0\n",
      "wpt_name                    0\n",
      "num_private                 0\n",
      "basin                       0\n",
      "subvillage                 99\n",
      "region                      0\n",
      "region_code                 0\n",
      "district_code               0\n",
      "lga                         0\n",
      "ward                        0\n",
      "population                  0\n",
      "public_meeting            821\n",
      "recorded_by                 0\n",
      "scheme_management         969\n",
      "scheme_name              7092\n",
      "permit                    737\n",
      "construction_year           0\n",
      "extraction_type             0\n",
      "extraction_type_group       0\n",
      "extraction_type_class       0\n",
      "management                  0\n",
      "management_group            0\n",
      "payment                     0\n",
      "payment_type                0\n",
      "water_quality               0\n",
      "quality_group               0\n",
      "quantity                    0\n",
      "quantity_group              0\n",
      "source                      0\n",
      "source_type                 0\n",
      "source_class                0\n",
      "waterpoint_type             0\n",
      "waterpoint_type_group       0\n",
      "dtype: int64\n"
     ]
    }
   ],
   "source": [
    "data[\"latitude\"].fillna(data.groupby(['region', 'district_code'])[\"latitude\"].transform(\"mean\"), inplace=True)\n",
    "data[\"longitude\"].fillna(data.groupby(['region', 'district_code'])[\"longitude\"].transform(\"mean\"), inplace=True)\n",
    "data[\"longitude\"].fillna(data.groupby(['region'])[\"longitude\"].transform(\"mean\"), inplace=True)\n",
    "data[\"construction_year\"].fillna(data.groupby(['region', 'district_code'])[\"construction_year\"].transform(\"median\"), inplace=True)\n",
    "data[\"construction_year\"].fillna(data.groupby(['region'])[\"construction_year\"].transform(\"median\"), inplace=True)\n",
    "data[\"construction_year\"].fillna(data.groupby(['district_code'])[\"construction_year\"].transform(\"median\"), inplace=True)\n",
    "data[\"construction_year\"].fillna(data[\"construction_year\"].median(), inplace=True)\n",
    "print(data.isnull().sum())"
   ]
  },
  {
   "cell_type": "code",
   "execution_count": 6,
   "metadata": {},
   "outputs": [
    {
     "data": {
      "text/html": [
       "<div>\n",
       "<style scoped>\n",
       "    .dataframe tbody tr th:only-of-type {\n",
       "        vertical-align: middle;\n",
       "    }\n",
       "\n",
       "    .dataframe tbody tr th {\n",
       "        vertical-align: top;\n",
       "    }\n",
       "\n",
       "    .dataframe thead th {\n",
       "        text-align: right;\n",
       "    }\n",
       "</style>\n",
       "<table border=\"1\" class=\"dataframe\">\n",
       "  <thead>\n",
       "    <tr style=\"text-align: right;\">\n",
       "      <th></th>\n",
       "      <th>amount_tsh</th>\n",
       "      <th>gps_height</th>\n",
       "      <th>population</th>\n",
       "    </tr>\n",
       "  </thead>\n",
       "  <tbody>\n",
       "    <tr>\n",
       "      <th>0</th>\n",
       "      <td>0.00198</td>\n",
       "      <td>14.488356</td>\n",
       "      <td>0.558075</td>\n",
       "    </tr>\n",
       "    <tr>\n",
       "      <th>1</th>\n",
       "      <td>0.00298</td>\n",
       "      <td>11.474947</td>\n",
       "      <td>0.521451</td>\n",
       "    </tr>\n",
       "    <tr>\n",
       "      <th>2</th>\n",
       "      <td>0.00498</td>\n",
       "      <td>11.460833</td>\n",
       "      <td>0.870248</td>\n",
       "    </tr>\n",
       "    <tr>\n",
       "      <th>3</th>\n",
       "      <td>0.00498</td>\n",
       "      <td>2.286521</td>\n",
       "      <td>0.434252</td>\n",
       "    </tr>\n",
       "    <tr>\n",
       "      <th>4</th>\n",
       "      <td>0.04998</td>\n",
       "      <td>9.294284</td>\n",
       "      <td>0.102895</td>\n",
       "    </tr>\n",
       "    <tr>\n",
       "      <th>5</th>\n",
       "      <td>0.00298</td>\n",
       "      <td>12.293578</td>\n",
       "      <td>0.347053</td>\n",
       "    </tr>\n",
       "    <tr>\n",
       "      <th>6</th>\n",
       "      <td>0.19998</td>\n",
       "      <td>4.283698</td>\n",
       "      <td>1.044646</td>\n",
       "    </tr>\n",
       "    <tr>\n",
       "      <th>7</th>\n",
       "      <td>0.00498</td>\n",
       "      <td>2.053634</td>\n",
       "      <td>0.000000</td>\n",
       "    </tr>\n",
       "    <tr>\n",
       "      <th>8</th>\n",
       "      <td>0.00298</td>\n",
       "      <td>4.523641</td>\n",
       "      <td>0.068015</td>\n",
       "    </tr>\n",
       "    <tr>\n",
       "      <th>9</th>\n",
       "      <td>0.00198</td>\n",
       "      <td>8.045166</td>\n",
       "      <td>0.000000</td>\n",
       "    </tr>\n",
       "    <tr>\n",
       "      <th>10</th>\n",
       "      <td>0.00048</td>\n",
       "      <td>9.287227</td>\n",
       "      <td>0.129055</td>\n",
       "    </tr>\n",
       "    <tr>\n",
       "      <th>11</th>\n",
       "      <td>0.00498</td>\n",
       "      <td>4.693013</td>\n",
       "      <td>0.870248</td>\n",
       "    </tr>\n",
       "    <tr>\n",
       "      <th>12</th>\n",
       "      <td>0.02498</td>\n",
       "      <td>7.817173</td>\n",
       "      <td>0.364493</td>\n",
       "    </tr>\n",
       "    <tr>\n",
       "      <th>13</th>\n",
       "      <td>0.01498</td>\n",
       "      <td>8.865599</td>\n",
       "      <td>0.695849</td>\n",
       "    </tr>\n",
       "    <tr>\n",
       "      <th>14</th>\n",
       "      <td>0.09998</td>\n",
       "      <td>11.870148</td>\n",
       "      <td>0.000000</td>\n",
       "    </tr>\n",
       "    <tr>\n",
       "      <th>15</th>\n",
       "      <td>0.11998</td>\n",
       "      <td>6.866620</td>\n",
       "      <td>0.783048</td>\n",
       "    </tr>\n",
       "    <tr>\n",
       "      <th>16</th>\n",
       "      <td>0.00398</td>\n",
       "      <td>0.127029</td>\n",
       "      <td>1.567841</td>\n",
       "    </tr>\n",
       "    <tr>\n",
       "      <th>17</th>\n",
       "      <td>0.01998</td>\n",
       "      <td>13.055752</td>\n",
       "      <td>0.000000</td>\n",
       "    </tr>\n",
       "    <tr>\n",
       "      <th>18</th>\n",
       "      <td>0.02498</td>\n",
       "      <td>9.923570</td>\n",
       "      <td>0.870248</td>\n",
       "    </tr>\n",
       "    <tr>\n",
       "      <th>19</th>\n",
       "      <td>0.00498</td>\n",
       "      <td>2.999294</td>\n",
       "      <td>0.521451</td>\n",
       "    </tr>\n",
       "  </tbody>\n",
       "</table>\n",
       "</div>"
      ],
      "text/plain": [
       "    amount_tsh  gps_height  population\n",
       "0      0.00198   14.488356    0.558075\n",
       "1      0.00298   11.474947    0.521451\n",
       "2      0.00498   11.460833    0.870248\n",
       "3      0.00498    2.286521    0.434252\n",
       "4      0.04998    9.294284    0.102895\n",
       "5      0.00298   12.293578    0.347053\n",
       "6      0.19998    4.283698    1.044646\n",
       "7      0.00498    2.053634    0.000000\n",
       "8      0.00298    4.523641    0.068015\n",
       "9      0.00198    8.045166    0.000000\n",
       "10     0.00048    9.287227    0.129055\n",
       "11     0.00498    4.693013    0.870248\n",
       "12     0.02498    7.817173    0.364493\n",
       "13     0.01498    8.865599    0.695849\n",
       "14     0.09998   11.870148    0.000000\n",
       "15     0.11998    6.866620    0.783048\n",
       "16     0.00398    0.127029    1.567841\n",
       "17     0.01998   13.055752    0.000000\n",
       "18     0.02498    9.923570    0.870248\n",
       "19     0.00498    2.999294    0.521451"
      ]
     },
     "execution_count": 6,
     "metadata": {},
     "output_type": "execute_result"
    }
   ],
   "source": [
    "features=['amount_tsh', 'gps_height', 'population']\n",
    "scaler = MinMaxScaler(feature_range=(0,20))\n",
    "data[features] = scaler.fit_transform(data[features])\n",
    "data[features].head(20)"
   ]
  },
  {
   "cell_type": "code",
   "execution_count": 7,
   "metadata": {},
   "outputs": [
    {
     "name": "stdout",
     "output_type": "stream",
     "text": [
      "0    2013\n",
      "1    2013\n",
      "2    2013\n",
      "3    2013\n",
      "4    2013\n",
      "Name: date_recorded, dtype: int64\n",
      "0    2012.0\n",
      "1    2000.0\n",
      "2    2010.0\n",
      "3    1987.0\n",
      "4    2000.0\n",
      "Name: construction_year, dtype: float64\n"
     ]
    },
    {
     "data": {
      "text/plain": [
       "0     1.0\n",
       "1    13.0\n",
       "2     3.0\n",
       "3    26.0\n",
       "4    13.0\n",
       "Name: operational_year, dtype: float64"
      ]
     },
     "execution_count": 7,
     "metadata": {},
     "output_type": "execute_result"
    }
   ],
   "source": [
    "data.isnull().sum()\n",
    "data['date_recorded'] = pd.to_datetime(data['date_recorded'])\n",
    "data.date_recorded.head(5)\n",
    "print(data.date_recorded.dt.year.head(5))\n",
    "print(data.construction_year.head(5))\n",
    "data['operational_year'] = data.date_recorded.dt.year - data.construction_year\n",
    "data.operational_year.head(5)"
   ]
  },
  {
   "cell_type": "code",
   "execution_count": 8,
   "metadata": {},
   "outputs": [
    {
     "name": "stdout",
     "output_type": "stream",
     "text": [
      "management        management_group\n",
      "company           commercial            174\n",
      "other             other                 239\n",
      "other - school    other                  27\n",
      "parastatal        parastatal            461\n",
      "private operator  commercial            533\n",
      "trust             commercial             27\n",
      "unknown           unknown               122\n",
      "vwc               user-group          10117\n",
      "water authority   commercial            219\n",
      "water board       user-group            755\n",
      "wua               user-group            583\n",
      "wug               user-group           1593\n",
      "dtype: int64\n"
     ]
    }
   ],
   "source": [
    "#DATA Cleaning\n",
    "waste_features=['wpt_name','num_private','subvillage','region_code','recorded_by']\n",
    "#since region and region_code are representing the same thing\n",
    "data.drop(waste_features,axis=1,inplace=True)\n",
    "print(data.groupby(['management', 'management_group']).size() )\n",
    "data.drop('management_group',axis=1,inplace=True)"
   ]
  },
  {
   "cell_type": "code",
   "execution_count": 9,
   "metadata": {},
   "outputs": [],
   "source": [
    "data.drop('extraction_type_group',axis=1,inplace=True)\n",
    "data.drop('extraction_type_class',axis=1,inplace=True)\n",
    "data.groupby(['scheme_management', 'scheme_name']).size()\n",
    "data.drop('scheme_name',axis=1,inplace=True)"
   ]
  },
  {
   "cell_type": "code",
   "execution_count": 10,
   "metadata": {},
   "outputs": [
    {
     "data": {
      "text/plain": [
       "payment                payment_type\n",
       "never pay              never pay       6364\n",
       "other                  other            260\n",
       "pay annually           annually         928\n",
       "pay monthly            monthly         2097\n",
       "pay per bucket         per bucket      2281\n",
       "pay when scheme fails  on failure       928\n",
       "unknown                unknown         1992\n",
       "dtype: int64"
      ]
     },
     "execution_count": 10,
     "metadata": {},
     "output_type": "execute_result"
    }
   ],
   "source": [
    "data.groupby(['payment', 'payment_type']).size()"
   ]
  },
  {
   "cell_type": "code",
   "execution_count": 11,
   "metadata": {},
   "outputs": [],
   "source": [
    "data.drop('payment',axis=1,inplace=True)"
   ]
  },
  {
   "cell_type": "code",
   "execution_count": 12,
   "metadata": {},
   "outputs": [
    {
     "data": {
      "text/plain": [
       "water_quality       quality_group\n",
       "coloured            colored            133\n",
       "fluoride            fluoride            44\n",
       "fluoride abandoned  fluoride             6\n",
       "milky               milky              201\n",
       "salty               salty             1226\n",
       "salty abandoned     salty               84\n",
       "soft                good             12687\n",
       "unknown             unknown            469\n",
       "dtype: int64"
      ]
     },
     "execution_count": 12,
     "metadata": {},
     "output_type": "execute_result"
    }
   ],
   "source": [
    "data.groupby(['water_quality', 'quality_group']).size()"
   ]
  },
  {
   "cell_type": "code",
   "execution_count": 13,
   "metadata": {},
   "outputs": [],
   "source": [
    "data.drop('quality_group',axis=1,inplace=True)"
   ]
  },
  {
   "cell_type": "code",
   "execution_count": 14,
   "metadata": {},
   "outputs": [
    {
     "data": {
      "text/plain": [
       "quantity      quantity_group\n",
       "dry           dry               1536\n",
       "enough        enough            8336\n",
       "insufficient  insufficient      3767\n",
       "seasonal      seasonal          1025\n",
       "unknown       unknown            186\n",
       "dtype: int64"
      ]
     },
     "execution_count": 14,
     "metadata": {},
     "output_type": "execute_result"
    }
   ],
   "source": [
    "data.groupby(['quantity', 'quantity_group']).size()"
   ]
  },
  {
   "cell_type": "code",
   "execution_count": 15,
   "metadata": {},
   "outputs": [],
   "source": [
    "data.drop('quantity_group',axis=1,inplace=True)"
   ]
  },
  {
   "cell_type": "code",
   "execution_count": 16,
   "metadata": {},
   "outputs": [
    {
     "data": {
      "text/plain": [
       "source                source_type           source_class\n",
       "dam                   dam                   surface          184\n",
       "hand dtw              borehole              groundwater      234\n",
       "lake                  river/lake            surface          185\n",
       "machine dbh           borehole              groundwater     2747\n",
       "other                 other                 unknown           49\n",
       "rainwater harvesting  rainwater harvesting  surface          568\n",
       "river                 river/lake            surface         2352\n",
       "shallow well          shallow well          groundwater     4316\n",
       "spring                spring                groundwater     4195\n",
       "unknown               other                 unknown           20\n",
       "dtype: int64"
      ]
     },
     "execution_count": 16,
     "metadata": {},
     "output_type": "execute_result"
    }
   ],
   "source": [
    "data.groupby(['source', 'source_type', 'source_class']).size()"
   ]
  },
  {
   "cell_type": "code",
   "execution_count": 17,
   "metadata": {},
   "outputs": [],
   "source": [
    "data.drop('source_type',axis=1,inplace=True)\n",
    "data.drop('source_class',axis=1,inplace=True)"
   ]
  },
  {
   "cell_type": "code",
   "execution_count": 19,
   "metadata": {},
   "outputs": [
    {
     "data": {
      "text/plain": [
       "waterpoint_type              waterpoint_type_group\n",
       "cattle trough                cattle trough              34\n",
       "communal standpipe           communal standpipe       7106\n",
       "communal standpipe multiple  communal standpipe       1508\n",
       "dam                          dam                         1\n",
       "hand pump                    hand pump                4396\n",
       "improved spring              improved spring           175\n",
       "other                        other                    1630\n",
       "dtype: int64"
      ]
     },
     "execution_count": 19,
     "metadata": {},
     "output_type": "execute_result"
    }
   ],
   "source": [
    "data.groupby(['waterpoint_type', 'waterpoint_type_group']).size()"
   ]
  },
  {
   "cell_type": "code",
   "execution_count": 20,
   "metadata": {},
   "outputs": [],
   "source": [
    "data.drop('waterpoint_type_group',axis=1,inplace=True)"
   ]
  },
  {
   "cell_type": "code",
   "execution_count": 22,
   "metadata": {},
   "outputs": [],
   "source": [
    "data.drop('ward',axis=1,inplace=True)"
   ]
  },
  {
   "cell_type": "code",
   "execution_count": 23,
   "metadata": {},
   "outputs": [
    {
     "data": {
      "text/plain": [
       "id                     0\n",
       "amount_tsh             0\n",
       "date_recorded          0\n",
       "funder               869\n",
       "gps_height             0\n",
       "installer            877\n",
       "longitude              0\n",
       "latitude               0\n",
       "basin                  0\n",
       "region                 0\n",
       "district_code          0\n",
       "lga                    0\n",
       "population             0\n",
       "public_meeting       821\n",
       "scheme_management    969\n",
       "permit               737\n",
       "construction_year      0\n",
       "extraction_type        0\n",
       "management             0\n",
       "payment_type           0\n",
       "water_quality          0\n",
       "quantity               0\n",
       "source                 0\n",
       "waterpoint_type        0\n",
       "operational_year       0\n",
       "dtype: int64"
      ]
     },
     "execution_count": 23,
     "metadata": {},
     "output_type": "execute_result"
    }
   ],
   "source": [
    "data.isnull().sum()"
   ]
  },
  {
   "cell_type": "code",
   "execution_count": 24,
   "metadata": {},
   "outputs": [],
   "source": [
    "data.drop('public_meeting', axis=1, inplace=True)\n",
    "data.drop('permit', axis=1, inplace=True)"
   ]
  },
  {
   "cell_type": "code",
   "execution_count": 25,
   "metadata": {},
   "outputs": [
    {
     "data": {
      "text/plain": [
       "id                     0\n",
       "amount_tsh             0\n",
       "date_recorded          0\n",
       "funder               869\n",
       "gps_height             0\n",
       "installer            877\n",
       "longitude              0\n",
       "latitude               0\n",
       "basin                  0\n",
       "region                 0\n",
       "district_code          0\n",
       "lga                    0\n",
       "population             0\n",
       "scheme_management    969\n",
       "construction_year      0\n",
       "extraction_type        0\n",
       "management             0\n",
       "payment_type           0\n",
       "water_quality          0\n",
       "quantity               0\n",
       "source                 0\n",
       "waterpoint_type        0\n",
       "operational_year       0\n",
       "dtype: int64"
      ]
     },
     "execution_count": 25,
     "metadata": {},
     "output_type": "execute_result"
    }
   ],
   "source": [
    "data.isnull().sum()"
   ]
  },
  {
   "cell_type": "code",
   "execution_count": 26,
   "metadata": {},
   "outputs": [],
   "source": [
    "data.waterpoint_type = data.waterpoint_type.str.lower()\n",
    "data.funder = data.funder.str.lower()\n",
    "data.basin = data.basin.str.lower()\n",
    "data.region = data.region.str.lower()\n",
    "data.source = data.source.str.lower()\n",
    "data.lga = data.lga.str.lower()\n",
    "data.management = data.management.str.lower()\n",
    "data.quantity = data.quantity.str.lower()\n",
    "data.water_quality = data.water_quality.str.lower()\n",
    "data.payment_type=data.payment_type.str.lower()\n",
    "data.extraction_type=data.extraction_type.str.lower()"
   ]
  },
  {
   "cell_type": "code",
   "execution_count": 27,
   "metadata": {},
   "outputs": [
    {
     "name": "stdout",
     "output_type": "stream",
     "text": [
      "id                   0\n",
      "amount_tsh           0\n",
      "date_recorded        0\n",
      "funder               0\n",
      "gps_height           0\n",
      "installer            0\n",
      "longitude            0\n",
      "latitude             0\n",
      "basin                0\n",
      "region               0\n",
      "district_code        0\n",
      "lga                  0\n",
      "population           0\n",
      "scheme_management    0\n",
      "construction_year    0\n",
      "extraction_type      0\n",
      "management           0\n",
      "payment_type         0\n",
      "water_quality        0\n",
      "quantity             0\n",
      "source               0\n",
      "waterpoint_type      0\n",
      "operational_year     0\n",
      "dtype: int64\n",
      "<class 'pandas.core.frame.DataFrame'>\n",
      "RangeIndex: 14850 entries, 0 to 14849\n",
      "Data columns (total 21 columns):\n",
      " #   Column             Non-Null Count  Dtype  \n",
      "---  ------             --------------  -----  \n",
      " 0   id                 14850 non-null  int64  \n",
      " 1   amount_tsh         14850 non-null  float64\n",
      " 2   funder             14850 non-null  object \n",
      " 3   gps_height         14850 non-null  float64\n",
      " 4   installer          14850 non-null  object \n",
      " 5   longitude          14850 non-null  float64\n",
      " 6   latitude           14850 non-null  float64\n",
      " 7   basin              14850 non-null  object \n",
      " 8   region             14850 non-null  object \n",
      " 9   district_code      14850 non-null  int64  \n",
      " 10  lga                14850 non-null  object \n",
      " 11  population         14850 non-null  float64\n",
      " 12  scheme_management  14850 non-null  object \n",
      " 13  extraction_type    14850 non-null  object \n",
      " 14  management         14850 non-null  object \n",
      " 15  payment_type       14850 non-null  object \n",
      " 16  water_quality      14850 non-null  object \n",
      " 17  quantity           14850 non-null  object \n",
      " 18  source             14850 non-null  object \n",
      " 19  waterpoint_type    14850 non-null  object \n",
      " 20  operational_year   14850 non-null  float64\n",
      "dtypes: float64(6), int64(2), object(13)\n",
      "memory usage: 2.4+ MB\n"
     ]
    }
   ],
   "source": [
    "data[\"funder\"].fillna(\"other\", inplace=True)\n",
    "data[\"scheme_management\"].fillna(\"other\", inplace=True)\n",
    "data[\"installer\"].fillna(\"other\", inplace=True)\n",
    "print(data.isnull().sum())\n",
    "data.drop('date_recorded', axis=1, inplace=True)\n",
    "data.drop('construction_year', axis=1, inplace=True)\n",
    "data.info()\n",
    "data.quantity.head(5)\n",
    "pd.DataFrame(data).to_csv(\"clean_test.csv\")"
   ]
  },
  {
   "cell_type": "code",
   "execution_count": 28,
   "metadata": {},
   "outputs": [
    {
     "name": "stdout",
     "output_type": "stream",
     "text": [
      "      id  amount_tsh                  funder  gps_height   installer  \\\n",
      "0  50785     0.00198                    dmdd   14.488356        DMDD   \n",
      "1  51630     0.00298  government of tanzania   11.474947         DWE   \n",
      "2  17168     0.00498                   other   11.460833       other   \n",
      "3  45559     0.00498              finn water    2.286521  FINN WATER   \n",
      "4  49871     0.04998                  bruder    9.294284      BRUDER   \n",
      "\n",
      "   longitude   latitude                    basin   region  district_code  ...  \\\n",
      "0  35.290799  -4.059696                 internal  manyara              3  ...   \n",
      "1  36.656709  -3.309214                  pangani   arusha              2  ...   \n",
      "2  34.767863  -5.004344                 internal  singida              2  ...   \n",
      "3  38.058046  -9.418672  ruvuma / southern coast    lindi             43  ...   \n",
      "4  35.006123 -10.950412  ruvuma / southern coast   ruvuma              3  ...   \n",
      "\n",
      "  population  scheme_management extraction_type   management payment_type  \\\n",
      "0   0.558075         Parastatal           other   parastatal    never pay   \n",
      "1   0.521451                VWC         gravity          vwc    never pay   \n",
      "2   0.870248                VWC           other          vwc    never pay   \n",
      "3   0.434252                VWC           other          vwc      unknown   \n",
      "4   0.102895        Water Board         gravity  water board      monthly   \n",
      "\n",
      "  water_quality      quantity                source     waterpoint_type  \\\n",
      "0          soft      seasonal  rainwater harvesting               other   \n",
      "1          soft  insufficient                spring  communal standpipe   \n",
      "2          soft  insufficient  rainwater harvesting               other   \n",
      "3          soft           dry          shallow well               other   \n",
      "4          soft        enough                spring  communal standpipe   \n",
      "\n",
      "  operational_year  \n",
      "0              1.0  \n",
      "1             13.0  \n",
      "2              3.0  \n",
      "3             26.0  \n",
      "4             13.0  \n",
      "\n",
      "[5 rows x 21 columns]\n",
      "int64\n",
      "float64\n",
      "object\n",
      "float64\n",
      "object\n",
      "float64\n",
      "float64\n",
      "object\n",
      "object\n",
      "int64\n",
      "object\n",
      "float64\n",
      "object\n",
      "object\n",
      "object\n",
      "object\n",
      "object\n",
      "object\n",
      "object\n",
      "object\n",
      "float64\n",
      "      id  amount_tsh  funder  gps_height  installer  longitude  latitude  \\\n",
      "0  10144           9     175        1977        214       7525      9392   \n",
      "1  10319          12     250        1576        221       9370     11209   \n",
      "2   3416          16     620        1574       1076       6676      7494   \n",
      "3   9123          16     222         314        262      12109      1843   \n",
      "4   9953          28      73        1264         75       7190       295   \n",
      "\n",
      "   basin  region  district_code  ...  population  scheme_management  \\\n",
      "0      0       8              3  ...         261                  2   \n",
      "1      5       0              2  ...         249                  6   \n",
      "2      0      18              2  ...         361                  6   \n",
      "3      7       7             13  ...         210                  6   \n",
      "4      7      16              3  ...          52                  9   \n",
      "\n",
      "   extraction_type  management  payment_type  water_quality  quantity  source  \\\n",
      "0                9           3             2              6         3       5   \n",
      "1                3           7             2              6         2       8   \n",
      "2                9           7             2              6         2       5   \n",
      "3                9           7             6              6         0       7   \n",
      "4                3           9             1              6         1       8   \n",
      "\n",
      "   waterpoint_type  operational_year  \n",
      "0                6                 5  \n",
      "1                1                18  \n",
      "2                6                 7  \n",
      "3                6                34  \n",
      "4                1                18  \n",
      "\n",
      "[5 rows x 21 columns]\n",
      "Index(['id', 'amount_tsh', 'funder', 'gps_height', 'installer', 'longitude',\n",
      "       'latitude', 'basin', 'region', 'district_code', 'lga', 'population',\n",
      "       'scheme_management', 'extraction_type', 'management', 'payment_type',\n",
      "       'water_quality', 'quantity', 'source', 'waterpoint_type',\n",
      "       'operational_year'],\n",
      "      dtype='object')\n"
     ]
    }
   ],
   "source": [
    "# cleaning data for pytorch nn model\n",
    "from sklearn.preprocessing import LabelEncoder\n",
    "\n",
    "print(data.head())\n",
    "\n",
    "df = data.copy()\n",
    "for col in df.columns:\n",
    "    print(df.dtypes[col])\n",
    "#     if data.dtypes[col] == \"object\":\n",
    "#         data[col] = data[col].fillna(\"NA\")\n",
    "#     else:\n",
    "#         data[col] = data[col].fillna(0)\n",
    "    df[col] = LabelEncoder().fit_transform(df[col])\n",
    "\n",
    "cols_at_end = ['status_group']\n",
    "df = df[[c for c in df if c not in cols_at_end] \n",
    "        + [c for c in cols_at_end if c in df]]\n",
    "print(df.head())\n",
    "pd.DataFrame(df).to_csv(\"clean_test-pt.csv\")\n",
    "print(df.columns)"
   ]
  },
  {
   "cell_type": "code",
   "execution_count": null,
   "metadata": {},
   "outputs": [],
   "source": []
  }
 ],
 "metadata": {
  "kernelspec": {
   "display_name": "Python 3",
   "language": "python",
   "name": "python3"
  },
  "language_info": {
   "codemirror_mode": {
    "name": "ipython",
    "version": 3
   },
   "file_extension": ".py",
   "mimetype": "text/x-python",
   "name": "python",
   "nbconvert_exporter": "python",
   "pygments_lexer": "ipython3",
   "version": "3.8.3"
  }
 },
 "nbformat": 4,
 "nbformat_minor": 4
}
