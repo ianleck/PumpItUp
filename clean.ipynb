{
 "cells": [
  {
   "cell_type": "code",
   "execution_count": 1,
   "metadata": {},
   "outputs": [],
   "source": [
    "import pandas as pd\n",
    "import numpy as np\n",
    "import matplotlib.pyplot as plt\n",
    "import seaborn as sns\n",
    "from sklearn.preprocessing import MinMaxScaler"
   ]
  },
  {
   "cell_type": "code",
   "execution_count": 2,
   "metadata": {},
   "outputs": [
    {
     "data": {
      "text/html": [
       "<div>\n",
       "<style scoped>\n",
       "    .dataframe tbody tr th:only-of-type {\n",
       "        vertical-align: middle;\n",
       "    }\n",
       "\n",
       "    .dataframe tbody tr th {\n",
       "        vertical-align: top;\n",
       "    }\n",
       "\n",
       "    .dataframe thead th {\n",
       "        text-align: right;\n",
       "    }\n",
       "</style>\n",
       "<table border=\"1\" class=\"dataframe\">\n",
       "  <thead>\n",
       "    <tr style=\"text-align: right;\">\n",
       "      <th></th>\n",
       "      <th>amount_tsh</th>\n",
       "      <th>date_recorded</th>\n",
       "      <th>funder</th>\n",
       "      <th>gps_height</th>\n",
       "      <th>installer</th>\n",
       "      <th>longitude</th>\n",
       "      <th>latitude</th>\n",
       "      <th>wpt_name</th>\n",
       "      <th>num_private</th>\n",
       "      <th>basin</th>\n",
       "      <th>...</th>\n",
       "      <th>water_quality</th>\n",
       "      <th>quality_group</th>\n",
       "      <th>quantity</th>\n",
       "      <th>quantity_group</th>\n",
       "      <th>source</th>\n",
       "      <th>source_type</th>\n",
       "      <th>source_class</th>\n",
       "      <th>waterpoint_type</th>\n",
       "      <th>waterpoint_type_group</th>\n",
       "      <th>status_group</th>\n",
       "    </tr>\n",
       "    <tr>\n",
       "      <th>id</th>\n",
       "      <th></th>\n",
       "      <th></th>\n",
       "      <th></th>\n",
       "      <th></th>\n",
       "      <th></th>\n",
       "      <th></th>\n",
       "      <th></th>\n",
       "      <th></th>\n",
       "      <th></th>\n",
       "      <th></th>\n",
       "      <th></th>\n",
       "      <th></th>\n",
       "      <th></th>\n",
       "      <th></th>\n",
       "      <th></th>\n",
       "      <th></th>\n",
       "      <th></th>\n",
       "      <th></th>\n",
       "      <th></th>\n",
       "      <th></th>\n",
       "      <th></th>\n",
       "    </tr>\n",
       "  </thead>\n",
       "  <tbody>\n",
       "    <tr>\n",
       "      <th>0</th>\n",
       "      <td>0.0</td>\n",
       "      <td>2012-11-13</td>\n",
       "      <td>Tasaf</td>\n",
       "      <td>0</td>\n",
       "      <td>TASAF</td>\n",
       "      <td>33.125828</td>\n",
       "      <td>-5.118154</td>\n",
       "      <td>Mratibu</td>\n",
       "      <td>0</td>\n",
       "      <td>Lake Tanganyika</td>\n",
       "      <td>...</td>\n",
       "      <td>milky</td>\n",
       "      <td>milky</td>\n",
       "      <td>enough</td>\n",
       "      <td>enough</td>\n",
       "      <td>shallow well</td>\n",
       "      <td>shallow well</td>\n",
       "      <td>groundwater</td>\n",
       "      <td>hand pump</td>\n",
       "      <td>hand pump</td>\n",
       "      <td>non functional</td>\n",
       "    </tr>\n",
       "    <tr>\n",
       "      <th>1</th>\n",
       "      <td>0.0</td>\n",
       "      <td>2011-03-05</td>\n",
       "      <td>Shipo</td>\n",
       "      <td>1978</td>\n",
       "      <td>SHIPO</td>\n",
       "      <td>34.770717</td>\n",
       "      <td>-9.395642</td>\n",
       "      <td>none</td>\n",
       "      <td>0</td>\n",
       "      <td>Rufiji</td>\n",
       "      <td>...</td>\n",
       "      <td>soft</td>\n",
       "      <td>good</td>\n",
       "      <td>enough</td>\n",
       "      <td>enough</td>\n",
       "      <td>shallow well</td>\n",
       "      <td>shallow well</td>\n",
       "      <td>groundwater</td>\n",
       "      <td>hand pump</td>\n",
       "      <td>hand pump</td>\n",
       "      <td>functional</td>\n",
       "    </tr>\n",
       "    <tr>\n",
       "      <th>2</th>\n",
       "      <td>0.0</td>\n",
       "      <td>2011-03-27</td>\n",
       "      <td>Lvia</td>\n",
       "      <td>0</td>\n",
       "      <td>LVIA</td>\n",
       "      <td>36.115056</td>\n",
       "      <td>-6.279268</td>\n",
       "      <td>Bombani</td>\n",
       "      <td>0</td>\n",
       "      <td>Wami / Ruvu</td>\n",
       "      <td>...</td>\n",
       "      <td>soft</td>\n",
       "      <td>good</td>\n",
       "      <td>insufficient</td>\n",
       "      <td>insufficient</td>\n",
       "      <td>machine dbh</td>\n",
       "      <td>borehole</td>\n",
       "      <td>groundwater</td>\n",
       "      <td>communal standpipe multiple</td>\n",
       "      <td>communal standpipe</td>\n",
       "      <td>functional</td>\n",
       "    </tr>\n",
       "    <tr>\n",
       "      <th>3</th>\n",
       "      <td>10.0</td>\n",
       "      <td>2013-06-03</td>\n",
       "      <td>Germany Republi</td>\n",
       "      <td>1639</td>\n",
       "      <td>CES</td>\n",
       "      <td>37.147432</td>\n",
       "      <td>-3.187555</td>\n",
       "      <td>Area 7 Namba 5</td>\n",
       "      <td>0</td>\n",
       "      <td>Pangani</td>\n",
       "      <td>...</td>\n",
       "      <td>soft</td>\n",
       "      <td>good</td>\n",
       "      <td>enough</td>\n",
       "      <td>enough</td>\n",
       "      <td>spring</td>\n",
       "      <td>spring</td>\n",
       "      <td>groundwater</td>\n",
       "      <td>communal standpipe</td>\n",
       "      <td>communal standpipe</td>\n",
       "      <td>functional</td>\n",
       "    </tr>\n",
       "    <tr>\n",
       "      <th>4</th>\n",
       "      <td>0.0</td>\n",
       "      <td>2011-03-22</td>\n",
       "      <td>Cmsr</td>\n",
       "      <td>0</td>\n",
       "      <td>CMSR</td>\n",
       "      <td>36.164893</td>\n",
       "      <td>-6.099289</td>\n",
       "      <td>Ezeleda</td>\n",
       "      <td>0</td>\n",
       "      <td>Wami / Ruvu</td>\n",
       "      <td>...</td>\n",
       "      <td>soft</td>\n",
       "      <td>good</td>\n",
       "      <td>dry</td>\n",
       "      <td>dry</td>\n",
       "      <td>shallow well</td>\n",
       "      <td>shallow well</td>\n",
       "      <td>groundwater</td>\n",
       "      <td>hand pump</td>\n",
       "      <td>hand pump</td>\n",
       "      <td>non functional</td>\n",
       "    </tr>\n",
       "    <tr>\n",
       "      <th>...</th>\n",
       "      <td>...</td>\n",
       "      <td>...</td>\n",
       "      <td>...</td>\n",
       "      <td>...</td>\n",
       "      <td>...</td>\n",
       "      <td>...</td>\n",
       "      <td>...</td>\n",
       "      <td>...</td>\n",
       "      <td>...</td>\n",
       "      <td>...</td>\n",
       "      <td>...</td>\n",
       "      <td>...</td>\n",
       "      <td>...</td>\n",
       "      <td>...</td>\n",
       "      <td>...</td>\n",
       "      <td>...</td>\n",
       "      <td>...</td>\n",
       "      <td>...</td>\n",
       "      <td>...</td>\n",
       "      <td>...</td>\n",
       "      <td>...</td>\n",
       "    </tr>\n",
       "    <tr>\n",
       "      <th>74240</th>\n",
       "      <td>0.0</td>\n",
       "      <td>2013-03-22</td>\n",
       "      <td>World Vision</td>\n",
       "      <td>1183</td>\n",
       "      <td>World vision</td>\n",
       "      <td>37.007726</td>\n",
       "      <td>-3.280868</td>\n",
       "      <td>Upendo Primary School</td>\n",
       "      <td>0</td>\n",
       "      <td>Pangani</td>\n",
       "      <td>...</td>\n",
       "      <td>soft</td>\n",
       "      <td>good</td>\n",
       "      <td>insufficient</td>\n",
       "      <td>insufficient</td>\n",
       "      <td>rainwater harvesting</td>\n",
       "      <td>rainwater harvesting</td>\n",
       "      <td>surface</td>\n",
       "      <td>communal standpipe</td>\n",
       "      <td>communal standpipe</td>\n",
       "      <td>functional</td>\n",
       "    </tr>\n",
       "    <tr>\n",
       "      <th>74242</th>\n",
       "      <td>0.0</td>\n",
       "      <td>2011-04-12</td>\n",
       "      <td>Danida</td>\n",
       "      <td>0</td>\n",
       "      <td>DANIDA</td>\n",
       "      <td>33.724987</td>\n",
       "      <td>-8.940758</td>\n",
       "      <td>Kwa Mvulula</td>\n",
       "      <td>0</td>\n",
       "      <td>Rufiji</td>\n",
       "      <td>...</td>\n",
       "      <td>soft</td>\n",
       "      <td>good</td>\n",
       "      <td>enough</td>\n",
       "      <td>enough</td>\n",
       "      <td>river</td>\n",
       "      <td>river/lake</td>\n",
       "      <td>surface</td>\n",
       "      <td>communal standpipe</td>\n",
       "      <td>communal standpipe</td>\n",
       "      <td>functional</td>\n",
       "    </tr>\n",
       "    <tr>\n",
       "      <th>74243</th>\n",
       "      <td>0.0</td>\n",
       "      <td>2012-11-13</td>\n",
       "      <td>Ministry Of Water</td>\n",
       "      <td>1188</td>\n",
       "      <td>Hesawa</td>\n",
       "      <td>33.963539</td>\n",
       "      <td>-1.429477</td>\n",
       "      <td>Kwa Wambura Msege</td>\n",
       "      <td>0</td>\n",
       "      <td>Lake Victoria</td>\n",
       "      <td>...</td>\n",
       "      <td>soft</td>\n",
       "      <td>good</td>\n",
       "      <td>enough</td>\n",
       "      <td>enough</td>\n",
       "      <td>lake</td>\n",
       "      <td>river/lake</td>\n",
       "      <td>surface</td>\n",
       "      <td>communal standpipe multiple</td>\n",
       "      <td>communal standpipe</td>\n",
       "      <td>non functional</td>\n",
       "    </tr>\n",
       "    <tr>\n",
       "      <th>74246</th>\n",
       "      <td>50.0</td>\n",
       "      <td>2011-03-07</td>\n",
       "      <td>Ruthe</td>\n",
       "      <td>1428</td>\n",
       "      <td>Ruthe</td>\n",
       "      <td>35.630481</td>\n",
       "      <td>-7.710549</td>\n",
       "      <td>none</td>\n",
       "      <td>0</td>\n",
       "      <td>Rufiji</td>\n",
       "      <td>...</td>\n",
       "      <td>soft</td>\n",
       "      <td>good</td>\n",
       "      <td>dry</td>\n",
       "      <td>dry</td>\n",
       "      <td>spring</td>\n",
       "      <td>spring</td>\n",
       "      <td>groundwater</td>\n",
       "      <td>communal standpipe</td>\n",
       "      <td>communal standpipe</td>\n",
       "      <td>non functional</td>\n",
       "    </tr>\n",
       "    <tr>\n",
       "      <th>74247</th>\n",
       "      <td>50.0</td>\n",
       "      <td>2013-02-16</td>\n",
       "      <td>Mission</td>\n",
       "      <td>965</td>\n",
       "      <td>DWE</td>\n",
       "      <td>35.432998</td>\n",
       "      <td>-10.639270</td>\n",
       "      <td>Kwa Mapunda</td>\n",
       "      <td>0</td>\n",
       "      <td>Ruvuma / Southern Coast</td>\n",
       "      <td>...</td>\n",
       "      <td>soft</td>\n",
       "      <td>good</td>\n",
       "      <td>dry</td>\n",
       "      <td>dry</td>\n",
       "      <td>river</td>\n",
       "      <td>river/lake</td>\n",
       "      <td>surface</td>\n",
       "      <td>communal standpipe</td>\n",
       "      <td>communal standpipe</td>\n",
       "      <td>non functional</td>\n",
       "    </tr>\n",
       "  </tbody>\n",
       "</table>\n",
       "<p>59400 rows × 40 columns</p>\n",
       "</div>"
      ],
      "text/plain": [
       "       amount_tsh date_recorded             funder  gps_height     installer  \\\n",
       "id                                                                             \n",
       "0             0.0    2012-11-13              Tasaf           0         TASAF   \n",
       "1             0.0    2011-03-05              Shipo        1978         SHIPO   \n",
       "2             0.0    2011-03-27               Lvia           0          LVIA   \n",
       "3            10.0    2013-06-03    Germany Republi        1639           CES   \n",
       "4             0.0    2011-03-22               Cmsr           0          CMSR   \n",
       "...           ...           ...                ...         ...           ...   \n",
       "74240         0.0    2013-03-22       World Vision        1183  World vision   \n",
       "74242         0.0    2011-04-12             Danida           0        DANIDA   \n",
       "74243         0.0    2012-11-13  Ministry Of Water        1188        Hesawa   \n",
       "74246        50.0    2011-03-07              Ruthe        1428         Ruthe   \n",
       "74247        50.0    2013-02-16            Mission         965           DWE   \n",
       "\n",
       "       longitude   latitude               wpt_name  num_private  \\\n",
       "id                                                                \n",
       "0      33.125828  -5.118154                Mratibu            0   \n",
       "1      34.770717  -9.395642                   none            0   \n",
       "2      36.115056  -6.279268                Bombani            0   \n",
       "3      37.147432  -3.187555         Area 7 Namba 5            0   \n",
       "4      36.164893  -6.099289                Ezeleda            0   \n",
       "...          ...        ...                    ...          ...   \n",
       "74240  37.007726  -3.280868  Upendo Primary School            0   \n",
       "74242  33.724987  -8.940758            Kwa Mvulula            0   \n",
       "74243  33.963539  -1.429477      Kwa Wambura Msege            0   \n",
       "74246  35.630481  -7.710549                   none            0   \n",
       "74247  35.432998 -10.639270            Kwa Mapunda            0   \n",
       "\n",
       "                         basin  ... water_quality quality_group      quantity  \\\n",
       "id                              ...                                             \n",
       "0              Lake Tanganyika  ...         milky         milky        enough   \n",
       "1                       Rufiji  ...          soft          good        enough   \n",
       "2                  Wami / Ruvu  ...          soft          good  insufficient   \n",
       "3                      Pangani  ...          soft          good        enough   \n",
       "4                  Wami / Ruvu  ...          soft          good           dry   \n",
       "...                        ...  ...           ...           ...           ...   \n",
       "74240                  Pangani  ...          soft          good  insufficient   \n",
       "74242                   Rufiji  ...          soft          good        enough   \n",
       "74243            Lake Victoria  ...          soft          good        enough   \n",
       "74246                   Rufiji  ...          soft          good           dry   \n",
       "74247  Ruvuma / Southern Coast  ...          soft          good           dry   \n",
       "\n",
       "       quantity_group                source           source_type  \\\n",
       "id                                                                  \n",
       "0              enough          shallow well          shallow well   \n",
       "1              enough          shallow well          shallow well   \n",
       "2        insufficient           machine dbh              borehole   \n",
       "3              enough                spring                spring   \n",
       "4                 dry          shallow well          shallow well   \n",
       "...               ...                   ...                   ...   \n",
       "74240    insufficient  rainwater harvesting  rainwater harvesting   \n",
       "74242          enough                 river            river/lake   \n",
       "74243          enough                  lake            river/lake   \n",
       "74246             dry                spring                spring   \n",
       "74247             dry                 river            river/lake   \n",
       "\n",
       "       source_class              waterpoint_type waterpoint_type_group  \\\n",
       "id                                                                       \n",
       "0       groundwater                    hand pump             hand pump   \n",
       "1       groundwater                    hand pump             hand pump   \n",
       "2       groundwater  communal standpipe multiple    communal standpipe   \n",
       "3       groundwater           communal standpipe    communal standpipe   \n",
       "4       groundwater                    hand pump             hand pump   \n",
       "...             ...                          ...                   ...   \n",
       "74240       surface           communal standpipe    communal standpipe   \n",
       "74242       surface           communal standpipe    communal standpipe   \n",
       "74243       surface  communal standpipe multiple    communal standpipe   \n",
       "74246   groundwater           communal standpipe    communal standpipe   \n",
       "74247       surface           communal standpipe    communal standpipe   \n",
       "\n",
       "         status_group  \n",
       "id                     \n",
       "0      non functional  \n",
       "1          functional  \n",
       "2          functional  \n",
       "3          functional  \n",
       "4      non functional  \n",
       "...               ...  \n",
       "74240      functional  \n",
       "74242      functional  \n",
       "74243  non functional  \n",
       "74246  non functional  \n",
       "74247  non functional  \n",
       "\n",
       "[59400 rows x 40 columns]"
      ]
     },
     "execution_count": 2,
     "metadata": {},
     "output_type": "execute_result"
    }
   ],
   "source": [
    "# Read file\n",
    "data_values=pd.read_csv('TrainingValues.csv')\n",
    "data_labels=pd.read_csv('TrainingLabels.csv')\n",
    "data = data_values.merge(data_labels, on='id')\n",
    "data = data.set_index('id').sort_index()\n",
    "data"
   ]
  },
  {
   "cell_type": "code",
   "execution_count": 3,
   "metadata": {},
   "outputs": [
    {
     "name": "stdout",
     "output_type": "stream",
     "text": [
      "amount_tsh [0.00e+00 2.00e-01 2.50e-01 1.00e+00 2.00e+00 5.00e+00 6.00e+00 7.00e+00\n",
      " 9.00e+00 1.00e+01 1.20e+01 1.50e+01 2.00e+01 2.50e+01 2.60e+01 3.00e+01\n",
      " 3.30e+01 3.50e+01 4.00e+01 5.00e+01 5.30e+01 5.90e+01 6.00e+01 7.00e+01\n",
      " 1.00e+02 1.50e+02 2.00e+02 2.20e+02 2.50e+02 3.00e+02 3.06e+02 3.50e+02\n",
      " 4.00e+02 4.50e+02 5.00e+02 5.20e+02 5.50e+02 5.90e+02 6.00e+02 7.00e+02\n",
      " 7.50e+02 8.00e+02 9.00e+02 1.00e+03 1.20e+03 1.30e+03 1.40e+03 1.50e+03\n",
      " 2.00e+03 2.20e+03 2.40e+03 2.50e+03 2.80e+03 3.00e+03 3.50e+03 3.60e+03\n",
      " 4.00e+03 4.50e+03 4.70e+03 5.00e+03 5.40e+03 5.50e+03 6.00e+03 6.30e+03\n",
      " 6.50e+03 7.00e+03 7.20e+03 7.50e+03 8.00e+03 8.50e+03 9.00e+03 1.00e+04\n",
      " 1.10e+04 1.20e+04 1.30e+04 1.40e+04 1.50e+04 1.60e+04 1.63e+04 1.80e+04\n",
      " 2.00e+04 2.50e+04 2.60e+04 3.00e+04 3.80e+04 4.00e+04 4.50e+04 5.00e+04\n",
      " 6.00e+04 7.00e+04 1.00e+05 1.17e+05 1.20e+05 1.38e+05 1.70e+05 2.00e+05\n",
      " 2.50e+05 3.50e+05] \n",
      "\n",
      "date_recorded ['2002-10-14' '2004-01-07' '2004-03-01' '2004-03-06' '2004-04-01'\n",
      " '2004-04-05' '2004-05-01' '2004-06-01' '2004-07-01' '2004-08-01'\n",
      " '2004-09-01' '2004-12-01' '2011-01-03' '2011-01-04' '2011-01-08'\n",
      " '2011-02-01' '2011-02-02' '2011-02-03' '2011-02-04' '2011-02-14'\n",
      " '2011-02-15' '2011-02-16' '2011-02-17' '2011-02-18' '2011-02-19'\n",
      " '2011-02-20' '2011-02-21' '2011-02-22' '2011-02-23' '2011-02-24'\n",
      " '2011-02-25' '2011-02-26' '2011-02-27' '2011-02-28' '2011-03-01'\n",
      " '2011-03-02' '2011-03-03' '2011-03-04' '2011-03-05' '2011-03-06'\n",
      " '2011-03-07' '2011-03-08' '2011-03-09' '2011-03-10' '2011-03-11'\n",
      " '2011-03-12' '2011-03-13' '2011-03-14' '2011-03-15' '2011-03-16'\n",
      " '2011-03-17' '2011-03-18' '2011-03-19' '2011-03-20' '2011-03-21'\n",
      " '2011-03-22' '2011-03-23' '2011-03-24' '2011-03-25' '2011-03-26'\n",
      " '2011-03-27' '2011-03-28' '2011-03-29' '2011-03-30' '2011-03-31'\n",
      " '2011-04-01' '2011-04-02' '2011-04-03' '2011-04-04' '2011-04-05'\n",
      " '2011-04-06' '2011-04-07' '2011-04-08' '2011-04-09' '2011-04-10'\n",
      " '2011-04-11' '2011-04-12' '2011-04-13' '2011-04-14' '2011-04-15'\n",
      " '2011-04-16' '2011-04-17' '2011-04-18' '2011-04-19' '2011-04-20'\n",
      " '2011-04-21' '2011-04-22' '2011-04-23' '2011-05-03' '2011-05-04'\n",
      " '2011-05-07' '2011-06-03' '2011-06-04' '2011-06-07' '2011-07-03'\n",
      " '2011-07-04' '2011-07-05' '2011-07-06' '2011-07-07' '2011-07-08'\n",
      " '2011-07-09' '2011-07-10' '2011-07-11' '2011-07-12' '2011-07-13'\n",
      " '2011-07-14' '2011-07-15' '2011-07-16' '2011-07-17' '2011-07-18'\n",
      " '2011-07-19' '2011-07-20' '2011-07-21' '2011-07-22' '2011-07-23'\n",
      " '2011-07-24' '2011-07-25' '2011-07-26' '2011-07-27' '2011-07-28'\n",
      " '2011-07-29' '2011-07-30' '2011-07-31' '2011-08-01' '2011-08-02'\n",
      " '2011-08-03' '2011-08-04' '2011-08-05' '2011-08-06' '2011-08-07'\n",
      " '2011-08-08' '2011-08-09' '2011-08-10' '2011-08-11' '2011-08-12'\n",
      " '2011-08-13' '2011-08-14' '2011-08-15' '2011-08-16' '2011-08-17'\n",
      " '2011-08-18' '2011-08-19' '2011-08-20' '2011-08-21' '2011-08-22'\n",
      " '2011-08-23' '2011-08-24' '2011-08-25' '2011-08-26' '2011-08-27'\n",
      " '2011-08-28' '2011-08-30' '2011-08-31' '2011-09-01' '2011-09-03'\n",
      " '2011-09-04' '2011-09-05' '2011-09-06' '2011-09-08' '2011-09-09'\n",
      " '2011-09-11' '2011-09-12' '2011-09-13' '2011-09-14' '2011-09-15'\n",
      " '2011-09-16' '2011-09-17' '2011-09-18' '2011-09-19' '2011-09-20'\n",
      " '2011-09-21' '2011-09-23' '2011-09-25' '2011-09-26' '2011-09-27'\n",
      " '2011-09-28' '2011-10-03' '2011-10-04' '2011-10-07' '2011-11-03'\n",
      " '2011-11-04' '2011-11-07' '2011-12-03' '2011-12-07' '2012-01-21'\n",
      " '2012-01-25' '2012-10-01' '2012-10-02' '2012-10-03' '2012-10-04'\n",
      " '2012-10-05' '2012-10-06' '2012-10-07' '2012-10-08' '2012-10-09'\n",
      " '2012-10-10' '2012-10-11' '2012-10-12' '2012-10-13' '2012-10-14'\n",
      " '2012-10-15' '2012-10-16' '2012-10-17' '2012-10-18' '2012-10-19'\n",
      " '2012-10-20' '2012-10-21' '2012-10-22' '2012-10-23' '2012-10-24'\n",
      " '2012-10-25' '2012-10-26' '2012-10-27' '2012-10-28' '2012-10-29'\n",
      " '2012-10-30' '2012-10-31' '2012-11-01' '2012-11-02' '2012-11-03'\n",
      " '2012-11-04' '2012-11-05' '2012-11-06' '2012-11-07' '2012-11-08'\n",
      " '2012-11-09' '2012-11-10' '2012-11-11' '2012-11-12' '2012-11-13'\n",
      " '2012-11-14' '2012-11-15' '2012-11-19' '2012-11-29' '2012-11-30'\n",
      " '2012-12-10' '2012-12-11' '2012-12-12' '2012-12-13' '2012-12-14'\n",
      " '2012-12-15' '2012-12-16' '2012-12-17' '2012-12-18' '2012-12-21'\n",
      " '2012-12-23' '2012-12-24' '2013-01-01' '2013-01-03' '2013-01-04'\n",
      " '2013-01-06' '2013-01-07' '2013-01-08' '2013-01-09' '2013-01-10'\n",
      " '2013-01-11' '2013-01-12' '2013-01-13' '2013-01-14' '2013-01-15'\n",
      " '2013-01-16' '2013-01-17' '2013-01-18' '2013-01-19' '2013-01-20'\n",
      " '2013-01-21' '2013-01-22' '2013-01-23' '2013-01-24' '2013-01-25'\n",
      " '2013-01-26' '2013-01-27' '2013-01-28' '2013-01-29' '2013-01-30'\n",
      " '2013-01-31' '2013-02-01' '2013-02-02' '2013-02-03' '2013-02-04'\n",
      " '2013-02-05' '2013-02-06' '2013-02-07' '2013-02-08' '2013-02-09'\n",
      " '2013-02-10' '2013-02-11' '2013-02-12' '2013-02-13' '2013-02-14'\n",
      " '2013-02-15' '2013-02-16' '2013-02-17' '2013-02-18' '2013-02-19'\n",
      " '2013-02-20' '2013-02-21' '2013-02-22' '2013-02-23' '2013-02-24'\n",
      " '2013-02-25' '2013-02-26' '2013-02-27' '2013-02-28' '2013-03-01'\n",
      " '2013-03-02' '2013-03-03' '2013-03-04' '2013-03-05' '2013-03-06'\n",
      " '2013-03-07' '2013-03-08' '2013-03-09' '2013-03-10' '2013-03-11'\n",
      " '2013-03-12' '2013-03-13' '2013-03-14' '2013-03-15' '2013-03-16'\n",
      " '2013-03-17' '2013-03-18' '2013-03-19' '2013-03-20' '2013-03-21'\n",
      " '2013-03-22' '2013-03-23' '2013-03-24' '2013-03-25' '2013-03-26'\n",
      " '2013-03-27' '2013-03-28' '2013-03-29' '2013-03-30' '2013-04-02'\n",
      " '2013-04-03' '2013-04-04' '2013-05-02' '2013-05-03' '2013-05-04'\n",
      " '2013-06-03' '2013-06-04' '2013-07-02' '2013-07-03' '2013-07-04'\n",
      " '2013-08-02' '2013-08-03' '2013-09-02' '2013-09-03' '2013-10-02'\n",
      " '2013-10-03' '2013-11-02' '2013-11-03' '2013-12-01' '2013-12-02'\n",
      " '2013-12-03'] \n",
      "\n",
      "funder ['0' 'A/co Germany' 'Aar' ... 'Zinduka' 'Zingibali Secondary' nan] \n",
      "\n",
      "gps_height [ -90  -63  -59 ... 2627 2628 2770] \n",
      "\n",
      "installer ['-' '0' 'A.D.B' ... 'world banks' 'world vision' nan] \n",
      "\n",
      "longitude [ 0.         29.6071219  29.60720109 ... 40.32523996 40.34430089\n",
      " 40.34519307] \n",
      "\n",
      "latitude [-1.16494402e+01 -1.16483776e+01 -1.15862966e+01 ... -9.98916000e-01\n",
      " -9.98464350e-01 -2.00000000e-08] \n",
      "\n",
      "wpt_name ['24' 'A Kulwa' 'A Saidi' ... 'Zunzuli A Shuleni' 'Zuwena Kindo' 'none'] \n",
      "\n",
      "num_private [   0    1    2    3    4    5    6    7    8    9   10   11   12   14\n",
      "   15   16   17   20   22   23   24   25   26   27   30   32   34   35\n",
      "   38   39   41   42   45   47   50   55   58   60   61   62   65   80\n",
      "   87   93   94  102  111  120  131  136  141  150  160  180  213  240\n",
      "  280  300  450  668  672  698  755 1402 1776] \n",
      "\n",
      "basin ['Internal' 'Lake Nyasa' 'Lake Rukwa' 'Lake Tanganyika' 'Lake Victoria'\n",
      " 'Pangani' 'Rufiji' 'Ruvuma / Southern Coast' 'Wami / Ruvu'] \n",
      "\n",
      "subvillage ['##' \"'A' Kati\" '1' ... 'Zunzuli' 'Zuri' nan] \n",
      "\n",
      "region ['Arusha' 'Dar es Salaam' 'Dodoma' 'Iringa' 'Kagera' 'Kigoma'\n",
      " 'Kilimanjaro' 'Lindi' 'Manyara' 'Mara' 'Mbeya' 'Morogoro' 'Mtwara'\n",
      " 'Mwanza' 'Pwani' 'Rukwa' 'Ruvuma' 'Shinyanga' 'Singida' 'Tabora' 'Tanga'] \n",
      "\n",
      "region_code [ 1  2  3  4  5  6  7  8  9 10 11 12 13 14 15 16 17 18 19 20 21 24 40 60\n",
      " 80 90 99] \n",
      "\n",
      "district_code [ 0  1  2  3  4  5  6  7  8 13 23 30 33 43 53 60 62 63 67 80] \n",
      "\n",
      "lga ['Arusha Rural' 'Arusha Urban' 'Babati' 'Bagamoyo' 'Bahi' 'Bariadi'\n",
      " 'Biharamulo' 'Bukoba Rural' 'Bukoba Urban' 'Bukombe' 'Bunda' 'Chamwino'\n",
      " 'Chato' 'Chunya' 'Dodoma Urban' 'Geita' 'Hai' 'Hanang' 'Handeni' 'Igunga'\n",
      " 'Ilala' 'Ileje' 'Ilemela' 'Iramba' 'Iringa Rural' 'Kahama' 'Karagwe'\n",
      " 'Karatu' 'Kasulu' 'Kibaha' 'Kibondo' 'Kigoma Rural' 'Kigoma Urban'\n",
      " 'Kilindi' 'Kilolo' 'Kilombero' 'Kilosa' 'Kilwa' 'Kinondoni' 'Kisarawe'\n",
      " 'Kishapu' 'Kiteto' 'Kondoa' 'Kongwa' 'Korogwe' 'Kwimba' 'Kyela'\n",
      " 'Lindi Rural' 'Lindi Urban' 'Liwale' 'Longido' 'Ludewa' 'Lushoto' 'Mafia'\n",
      " 'Magu' 'Makete' 'Manyoni' 'Masasi' 'Maswa' 'Mbarali' 'Mbeya Rural'\n",
      " 'Mbinga' 'Mbozi' 'Mbulu' 'Meatu' 'Meru' 'Misenyi' 'Missungwi' 'Mkinga'\n",
      " 'Mkuranga' 'Monduli' 'Morogoro Rural' 'Morogoro Urban' 'Moshi Rural'\n",
      " 'Moshi Urban' 'Mpanda' 'Mpwapwa' 'Mtwara Rural' 'Mtwara Urban' 'Mufindi'\n",
      " 'Muheza' 'Muleba' 'Musoma Rural' 'Mvomero' 'Mwanga' 'Nachingwea'\n",
      " 'Namtumbo' 'Nanyumbu' 'Newala' 'Ngara' 'Ngorongoro' 'Njombe' 'Nkasi'\n",
      " 'Nyamagana' 'Nzega' 'Pangani' 'Rombo' 'Rorya' 'Ruangwa' 'Rufiji' 'Rungwe'\n",
      " 'Same' 'Sengerema' 'Serengeti' 'Shinyanga Rural' 'Shinyanga Urban' 'Siha'\n",
      " 'Sikonge' 'Simanjiro' 'Singida Rural' 'Singida Urban' 'Songea Rural'\n",
      " 'Songea Urban' 'Sumbawanga Rural' 'Sumbawanga Urban' 'Tabora Urban'\n",
      " 'Tandahimba' 'Tanga' 'Tarime' 'Temeke' 'Tunduru' 'Ukerewe' 'Ulanga'\n",
      " 'Urambo' 'Uyui'] \n",
      "\n",
      "ward ['Aghondi' 'Akheri' 'Arash' ... 'Zombo' 'Zongomera' 'Zuzu'] \n",
      "\n",
      "population [    0     1     2 ... 11463 15300 30500] \n",
      "\n",
      "public_meeting [False True nan] \n",
      "\n"
     ]
    },
    {
     "name": "stdout",
     "output_type": "stream",
     "text": [
      "recorded_by ['GeoData Consultants Ltd'] \n",
      "\n",
      "scheme_management ['Company' 'None' 'Other' 'Parastatal' 'Private operator' 'SWC' 'Trust'\n",
      " 'VWC' 'WUA' 'WUG' 'Water Board' 'Water authority' nan] \n",
      "\n",
      "scheme_name ['14 Kambarage' 'A' 'ADP' ... 'water supply in Mwanza'\n",
      " 'water supply in katungulu' nan] \n",
      "\n",
      "permit [False True nan] \n",
      "\n",
      "construction_year [   0 1960 1961 1962 1963 1964 1965 1966 1967 1968 1969 1970 1971 1972\n",
      " 1973 1974 1975 1976 1977 1978 1979 1980 1981 1982 1983 1984 1985 1986\n",
      " 1987 1988 1989 1990 1991 1992 1993 1994 1995 1996 1997 1998 1999 2000\n",
      " 2001 2002 2003 2004 2005 2006 2007 2008 2009 2010 2011 2012 2013] \n",
      "\n",
      "extraction_type ['afridev' 'cemo' 'climax' 'gravity' 'india mark ii' 'india mark iii'\n",
      " 'ksb' 'mono' 'nira/tanira' 'other' 'other - mkulima/shinyanga'\n",
      " 'other - play pump' 'other - rope pump' 'other - swn 81' 'submersible'\n",
      " 'swn 80' 'walimi' 'windmill'] \n",
      "\n",
      "extraction_type_group ['afridev' 'gravity' 'india mark ii' 'india mark iii' 'mono' 'nira/tanira'\n",
      " 'other' 'other handpump' 'other motorpump' 'rope pump' 'submersible'\n",
      " 'swn 80' 'wind-powered'] \n",
      "\n",
      "extraction_type_class ['gravity' 'handpump' 'motorpump' 'other' 'rope pump' 'submersible'\n",
      " 'wind-powered'] \n",
      "\n",
      "management ['company' 'other' 'other - school' 'parastatal' 'private operator'\n",
      " 'trust' 'unknown' 'vwc' 'water authority' 'water board' 'wua' 'wug'] \n",
      "\n",
      "management_group ['commercial' 'other' 'parastatal' 'unknown' 'user-group'] \n",
      "\n",
      "payment ['never pay' 'other' 'pay annually' 'pay monthly' 'pay per bucket'\n",
      " 'pay when scheme fails' 'unknown'] \n",
      "\n",
      "payment_type ['annually' 'monthly' 'never pay' 'on failure' 'other' 'per bucket'\n",
      " 'unknown'] \n",
      "\n",
      "water_quality ['coloured' 'fluoride' 'fluoride abandoned' 'milky' 'salty'\n",
      " 'salty abandoned' 'soft' 'unknown'] \n",
      "\n",
      "quality_group ['colored' 'fluoride' 'good' 'milky' 'salty' 'unknown'] \n",
      "\n",
      "quantity ['dry' 'enough' 'insufficient' 'seasonal' 'unknown'] \n",
      "\n",
      "quantity_group ['dry' 'enough' 'insufficient' 'seasonal' 'unknown'] \n",
      "\n",
      "source ['dam' 'hand dtw' 'lake' 'machine dbh' 'other' 'rainwater harvesting'\n",
      " 'river' 'shallow well' 'spring' 'unknown'] \n",
      "\n",
      "source_type ['borehole' 'dam' 'other' 'rainwater harvesting' 'river/lake'\n",
      " 'shallow well' 'spring'] \n",
      "\n",
      "source_class ['groundwater' 'surface' 'unknown'] \n",
      "\n",
      "waterpoint_type ['cattle trough' 'communal standpipe' 'communal standpipe multiple' 'dam'\n",
      " 'hand pump' 'improved spring' 'other'] \n",
      "\n",
      "waterpoint_type_group ['cattle trough' 'communal standpipe' 'dam' 'hand pump' 'improved spring'\n",
      " 'other'] \n",
      "\n",
      "status_group ['functional' 'functional needs repair' 'non functional'] \n",
      "\n"
     ]
    }
   ],
   "source": [
    "for col in data:\n",
    "    print(col , data[col].sort_values().unique(), \"\\n\")"
   ]
  },
  {
   "cell_type": "code",
   "execution_count": 4,
   "metadata": {},
   "outputs": [
    {
     "name": "stdout",
     "output_type": "stream",
     "text": [
      "amount_tsh  0 : TRUE 41639\n",
      "amount_tsh  NONE : TRUE 0\n",
      "\n",
      "\n",
      "gps_height  0 : TRUE 20438\n",
      "gps_height  NONE : TRUE 0\n",
      "\n",
      "\n",
      "longitude  0 : TRUE 1812\n",
      "longitude  NONE : TRUE 0\n",
      "\n",
      "\n",
      "num_private  0 : TRUE 58643\n",
      "num_private  NONE : TRUE 0\n",
      "\n",
      "\n",
      "district_code  0 : TRUE 23\n",
      "district_code  NONE : TRUE 0\n",
      "\n",
      "\n",
      "population  0 : TRUE 21381\n",
      "population  NONE : TRUE 0\n",
      "\n",
      "\n",
      "public_meeting  0 : TRUE 5055\n",
      "public_meeting  NONE : TRUE 3334\n",
      "\n",
      "\n",
      "permit  0 : TRUE 17492\n",
      "permit  NONE : TRUE 3056\n",
      "\n",
      "\n",
      "construction_year  0 : TRUE 20709\n",
      "construction_year  NONE : TRUE 0\n",
      "\n",
      "\n"
     ]
    }
   ],
   "source": [
    "for col in data:\n",
    "    if(0 in data[col].tolist()):\n",
    "        print(col , \" 0 : TRUE\", len(data[data[col] == 0]));\n",
    "        print(col , \" NONE : TRUE\", len(data[data[col].isnull()]));\n",
    "        print(\"\\n\")"
   ]
  },
  {
   "cell_type": "code",
   "execution_count": 5,
   "metadata": {},
   "outputs": [
    {
     "data": {
      "text/plain": [
       "amount_tsh               41639\n",
       "date_recorded                0\n",
       "funder                    3635\n",
       "gps_height               20438\n",
       "installer                 3655\n",
       "longitude                    0\n",
       "latitude                     0\n",
       "wpt_name                     0\n",
       "num_private                  0\n",
       "basin                        0\n",
       "subvillage                 371\n",
       "region                       0\n",
       "region_code                  0\n",
       "district_code                0\n",
       "lga                          0\n",
       "ward                         0\n",
       "population               21381\n",
       "public_meeting            3334\n",
       "recorded_by                  0\n",
       "scheme_management         3877\n",
       "scheme_name              28166\n",
       "permit                    3056\n",
       "construction_year            0\n",
       "extraction_type              0\n",
       "extraction_type_group        0\n",
       "extraction_type_class        0\n",
       "management                   0\n",
       "management_group             0\n",
       "payment                      0\n",
       "payment_type                 0\n",
       "water_quality                0\n",
       "quality_group                0\n",
       "quantity                     0\n",
       "quantity_group               0\n",
       "source                       0\n",
       "source_type                  0\n",
       "source_class                 0\n",
       "waterpoint_type              0\n",
       "waterpoint_type_group        0\n",
       "status_group                 0\n",
       "dtype: int64"
      ]
     },
     "execution_count": 5,
     "metadata": {},
     "output_type": "execute_result"
    }
   ],
   "source": [
    "# Index by id\n",
    "# print(data.isnull().sum())\n",
    "# print(data.population.unique())\n",
    "data.population.min()\n",
    "data['gps_height'].replace(0, np.nan, inplace=True)\n",
    "data['population'].replace(0, np.nan, inplace=True)\n",
    "# print(data.amount_tsh.unique())\n",
    "data['amount_tsh'].replace(0, np.nan, inplace=True)\n",
    "# print(data.amount_tsh.unique())\n",
    "data.isnull().sum()"
   ]
  },
  {
   "cell_type": "code",
   "execution_count": 6,
   "metadata": {},
   "outputs": [
    {
     "name": "stdout",
     "output_type": "stream",
     "text": [
      "amount_tsh               41639\n",
      "date_recorded                0\n",
      "funder                    3635\n",
      "gps_height               20438\n",
      "installer                 3655\n",
      "longitude                 1812\n",
      "latitude                     0\n",
      "wpt_name                     0\n",
      "num_private                  0\n",
      "basin                        0\n",
      "subvillage                 371\n",
      "region                       0\n",
      "region_code                  0\n",
      "district_code                0\n",
      "lga                          0\n",
      "ward                         0\n",
      "population               21381\n",
      "public_meeting            3334\n",
      "recorded_by                  0\n",
      "scheme_management         3877\n",
      "scheme_name              28166\n",
      "permit                    3056\n",
      "construction_year        20709\n",
      "extraction_type              0\n",
      "extraction_type_group        0\n",
      "extraction_type_class        0\n",
      "management                   0\n",
      "management_group             0\n",
      "payment                      0\n",
      "payment_type                 0\n",
      "water_quality                0\n",
      "quality_group                0\n",
      "quantity                     0\n",
      "quantity_group               0\n",
      "source                       0\n",
      "source_type                  0\n",
      "source_class                 0\n",
      "waterpoint_type              0\n",
      "waterpoint_type_group        0\n",
      "status_group                 0\n",
      "dtype: int64\n",
      "\n",
      " amount_tsh                   0\n",
      "date_recorded                0\n",
      "funder                    3635\n",
      "gps_height                   0\n",
      "installer                 3655\n",
      "longitude                 1812\n",
      "latitude                     0\n",
      "wpt_name                     0\n",
      "num_private                  0\n",
      "basin                        0\n",
      "subvillage                 371\n",
      "region                       0\n",
      "region_code                  0\n",
      "district_code                0\n",
      "lga                          0\n",
      "ward                         0\n",
      "population                   0\n",
      "public_meeting            3334\n",
      "recorded_by                  0\n",
      "scheme_management         3877\n",
      "scheme_name              28166\n",
      "permit                    3056\n",
      "construction_year        20709\n",
      "extraction_type              0\n",
      "extraction_type_group        0\n",
      "extraction_type_class        0\n",
      "management                   0\n",
      "management_group             0\n",
      "payment                      0\n",
      "payment_type                 0\n",
      "water_quality                0\n",
      "quality_group                0\n",
      "quantity                     0\n",
      "quantity_group               0\n",
      "source                       0\n",
      "source_type                  0\n",
      "source_class                 0\n",
      "waterpoint_type              0\n",
      "waterpoint_type_group        0\n",
      "status_group                 0\n",
      "dtype: int64\n"
     ]
    }
   ],
   "source": [
    "# Fill na Prof got these code after visualising the data. \n",
    "data['longitude'].replace(0, np.nan, inplace=True)\n",
    "data['latitude'].replace(0, np.nan, inplace=True)\n",
    "data['construction_year'].replace(0, np.nan, inplace=True)\n",
    "\n",
    "print(data.isnull().sum())\n",
    "data[\"gps_height\"].fillna(data.groupby(['region', 'district_code'])[\"gps_height\"].transform(\"mean\"), inplace=True)\n",
    "data[\"gps_height\"].fillna(data.groupby(['region'])[\"gps_height\"].transform(\"mean\"), inplace=True)\n",
    "data[\"gps_height\"].fillna(data[\"gps_height\"].mean(), inplace=True)\n",
    "data[\"population\"].fillna(data.groupby(['region', 'district_code'])[\"population\"].transform(\"median\"), inplace=True)\n",
    "data[\"population\"].fillna(data.groupby(['region'])[\"population\"].transform(\"median\"), inplace=True)\n",
    "data[\"population\"].fillna(data[\"population\"].median(), inplace=True)\n",
    "data[\"amount_tsh\"].fillna(data.groupby(['region', 'district_code'])[\"amount_tsh\"].transform(\"median\"), inplace=True)\n",
    "data[\"amount_tsh\"].fillna(data.groupby(['region'])[\"amount_tsh\"].transform(\"median\"), inplace=True)\n",
    "data[\"amount_tsh\"].fillna(data[\"amount_tsh\"].median(), inplace=True)\n",
    "print(\"\\n\" , data.isnull().sum())"
   ]
  },
  {
   "cell_type": "code",
   "execution_count": 7,
   "metadata": {},
   "outputs": [
    {
     "name": "stdout",
     "output_type": "stream",
     "text": [
      "amount_tsh                   0\n",
      "date_recorded                0\n",
      "funder                    3635\n",
      "gps_height                   0\n",
      "installer                 3655\n",
      "longitude                    0\n",
      "latitude                     0\n",
      "wpt_name                     0\n",
      "num_private                  0\n",
      "basin                        0\n",
      "subvillage                 371\n",
      "region                       0\n",
      "region_code                  0\n",
      "district_code                0\n",
      "lga                          0\n",
      "ward                         0\n",
      "population                   0\n",
      "public_meeting            3334\n",
      "recorded_by                  0\n",
      "scheme_management         3877\n",
      "scheme_name              28166\n",
      "permit                    3056\n",
      "construction_year            0\n",
      "extraction_type              0\n",
      "extraction_type_group        0\n",
      "extraction_type_class        0\n",
      "management                   0\n",
      "management_group             0\n",
      "payment                      0\n",
      "payment_type                 0\n",
      "water_quality                0\n",
      "quality_group                0\n",
      "quantity                     0\n",
      "quantity_group               0\n",
      "source                       0\n",
      "source_type                  0\n",
      "source_class                 0\n",
      "waterpoint_type              0\n",
      "waterpoint_type_group        0\n",
      "status_group                 0\n",
      "dtype: int64\n"
     ]
    }
   ],
   "source": [
    "data[\"latitude\"].fillna(data.groupby(['region', 'district_code'])[\"latitude\"].transform(\"mean\"), inplace=True)\n",
    "data[\"longitude\"].fillna(data.groupby(['region', 'district_code'])[\"longitude\"].transform(\"mean\"), inplace=True)\n",
    "data[\"longitude\"].fillna(data.groupby(['region'])[\"longitude\"].transform(\"mean\"), inplace=True)\n",
    "data[\"construction_year\"].fillna(data.groupby(['region', 'district_code'])[\"construction_year\"].transform(\"median\"), inplace=True)\n",
    "data[\"construction_year\"].fillna(data.groupby(['region'])[\"construction_year\"].transform(\"median\"), inplace=True)\n",
    "data[\"construction_year\"].fillna(data.groupby(['district_code'])[\"construction_year\"].transform(\"median\"), inplace=True)\n",
    "data[\"construction_year\"].fillna(data[\"construction_year\"].median(), inplace=True)\n",
    "print(data.isnull().sum())"
   ]
  },
  {
   "cell_type": "code",
   "execution_count": 8,
   "metadata": {},
   "outputs": [
    {
     "data": {
      "text/html": [
       "<div>\n",
       "<style scoped>\n",
       "    .dataframe tbody tr th:only-of-type {\n",
       "        vertical-align: middle;\n",
       "    }\n",
       "\n",
       "    .dataframe tbody tr th {\n",
       "        vertical-align: top;\n",
       "    }\n",
       "\n",
       "    .dataframe thead th {\n",
       "        text-align: right;\n",
       "    }\n",
       "</style>\n",
       "<table border=\"1\" class=\"dataframe\">\n",
       "  <thead>\n",
       "    <tr style=\"text-align: right;\">\n",
       "      <th></th>\n",
       "      <th>amount_tsh</th>\n",
       "      <th>gps_height</th>\n",
       "      <th>population</th>\n",
       "    </tr>\n",
       "    <tr>\n",
       "      <th>id</th>\n",
       "      <th></th>\n",
       "      <th></th>\n",
       "      <th></th>\n",
       "    </tr>\n",
       "  </thead>\n",
       "  <tbody>\n",
       "    <tr>\n",
       "      <th>0</th>\n",
       "      <td>0.014274</td>\n",
       "      <td>8.024794</td>\n",
       "      <td>0.130496</td>\n",
       "    </tr>\n",
       "    <tr>\n",
       "      <th>1</th>\n",
       "      <td>0.028560</td>\n",
       "      <td>14.461538</td>\n",
       "      <td>0.012459</td>\n",
       "    </tr>\n",
       "    <tr>\n",
       "      <th>2</th>\n",
       "      <td>0.014274</td>\n",
       "      <td>8.024794</td>\n",
       "      <td>0.130496</td>\n",
       "    </tr>\n",
       "    <tr>\n",
       "      <th>3</th>\n",
       "      <td>0.000560</td>\n",
       "      <td>12.090909</td>\n",
       "      <td>0.015738</td>\n",
       "    </tr>\n",
       "    <tr>\n",
       "      <th>4</th>\n",
       "      <td>0.014274</td>\n",
       "      <td>8.024794</td>\n",
       "      <td>0.130496</td>\n",
       "    </tr>\n",
       "    <tr>\n",
       "      <th>5</th>\n",
       "      <td>0.002846</td>\n",
       "      <td>0.825175</td>\n",
       "      <td>4.538509</td>\n",
       "    </tr>\n",
       "    <tr>\n",
       "      <th>6</th>\n",
       "      <td>0.028560</td>\n",
       "      <td>10.076795</td>\n",
       "      <td>0.327224</td>\n",
       "    </tr>\n",
       "    <tr>\n",
       "      <th>7</th>\n",
       "      <td>0.014274</td>\n",
       "      <td>8.024794</td>\n",
       "      <td>0.130496</td>\n",
       "    </tr>\n",
       "    <tr>\n",
       "      <th>8</th>\n",
       "      <td>0.014274</td>\n",
       "      <td>8.024794</td>\n",
       "      <td>0.130496</td>\n",
       "    </tr>\n",
       "    <tr>\n",
       "      <th>9</th>\n",
       "      <td>0.014274</td>\n",
       "      <td>8.024794</td>\n",
       "      <td>0.130496</td>\n",
       "    </tr>\n",
       "    <tr>\n",
       "      <th>11</th>\n",
       "      <td>0.001703</td>\n",
       "      <td>1.076923</td>\n",
       "      <td>0.097708</td>\n",
       "    </tr>\n",
       "    <tr>\n",
       "      <th>12</th>\n",
       "      <td>0.001417</td>\n",
       "      <td>9.944056</td>\n",
       "      <td>0.228860</td>\n",
       "    </tr>\n",
       "    <tr>\n",
       "      <th>15</th>\n",
       "      <td>0.014274</td>\n",
       "      <td>9.059519</td>\n",
       "      <td>0.294436</td>\n",
       "    </tr>\n",
       "    <tr>\n",
       "      <th>16</th>\n",
       "      <td>0.068560</td>\n",
       "      <td>7.720280</td>\n",
       "      <td>0.294436</td>\n",
       "    </tr>\n",
       "    <tr>\n",
       "      <th>17</th>\n",
       "      <td>0.001703</td>\n",
       "      <td>11.860140</td>\n",
       "      <td>0.130496</td>\n",
       "    </tr>\n",
       "    <tr>\n",
       "      <th>18</th>\n",
       "      <td>0.014274</td>\n",
       "      <td>8.024794</td>\n",
       "      <td>0.130496</td>\n",
       "    </tr>\n",
       "    <tr>\n",
       "      <th>19</th>\n",
       "      <td>0.002846</td>\n",
       "      <td>2.209790</td>\n",
       "      <td>0.294436</td>\n",
       "    </tr>\n",
       "    <tr>\n",
       "      <th>20</th>\n",
       "      <td>0.014274</td>\n",
       "      <td>9.419580</td>\n",
       "      <td>0.222302</td>\n",
       "    </tr>\n",
       "    <tr>\n",
       "      <th>21</th>\n",
       "      <td>0.014274</td>\n",
       "      <td>8.024794</td>\n",
       "      <td>0.130496</td>\n",
       "    </tr>\n",
       "    <tr>\n",
       "      <th>22</th>\n",
       "      <td>0.002846</td>\n",
       "      <td>1.160839</td>\n",
       "      <td>0.163284</td>\n",
       "    </tr>\n",
       "  </tbody>\n",
       "</table>\n",
       "</div>"
      ],
      "text/plain": [
       "    amount_tsh  gps_height  population\n",
       "id                                    \n",
       "0     0.014274    8.024794    0.130496\n",
       "1     0.028560   14.461538    0.012459\n",
       "2     0.014274    8.024794    0.130496\n",
       "3     0.000560   12.090909    0.015738\n",
       "4     0.014274    8.024794    0.130496\n",
       "5     0.002846    0.825175    4.538509\n",
       "6     0.028560   10.076795    0.327224\n",
       "7     0.014274    8.024794    0.130496\n",
       "8     0.014274    8.024794    0.130496\n",
       "9     0.014274    8.024794    0.130496\n",
       "11    0.001703    1.076923    0.097708\n",
       "12    0.001417    9.944056    0.228860\n",
       "15    0.014274    9.059519    0.294436\n",
       "16    0.068560    7.720280    0.294436\n",
       "17    0.001703   11.860140    0.130496\n",
       "18    0.014274    8.024794    0.130496\n",
       "19    0.002846    2.209790    0.294436\n",
       "20    0.014274    9.419580    0.222302\n",
       "21    0.014274    8.024794    0.130496\n",
       "22    0.002846    1.160839    0.163284"
      ]
     },
     "execution_count": 8,
     "metadata": {},
     "output_type": "execute_result"
    }
   ],
   "source": [
    "features=['amount_tsh', 'gps_height', 'population']\n",
    "scaler = MinMaxScaler(feature_range=(0,20))\n",
    "data[features] = scaler.fit_transform(data[features])\n",
    "data[features].head(20)"
   ]
  },
  {
   "cell_type": "code",
   "execution_count": 9,
   "metadata": {},
   "outputs": [
    {
     "data": {
      "text/plain": [
       "functional                 32259\n",
       "non functional             22824\n",
       "functional needs repair     4317\n",
       "Name: status_group, dtype: int64"
      ]
     },
     "execution_count": 9,
     "metadata": {},
     "output_type": "execute_result"
    },
    {
     "data": {
      "image/png": "[encoded data removed]",
      "text/plain": [
       "<Figure size 936x432 with 1 Axes>"
      ]
     },
     "metadata": {
      "needs_background": "light"
     },
     "output_type": "display_data"
    }
   ],
   "source": [
    "\n",
    "plt.figure(figsize=(13,6))\n",
    "sns.countplot(data.status_group, palette = 'Set3')\n",
    "data.status_group.value_counts()"
   ]
  },
  {
   "cell_type": "code",
   "execution_count": 10,
   "metadata": {},
   "outputs": [
    {
     "data": {
      "text/plain": [
       "soft                  50818\n",
       "salty                  4856\n",
       "unknown                1876\n",
       "milky                   804\n",
       "coloured                490\n",
       "salty abandoned         339\n",
       "fluoride                200\n",
       "fluoride abandoned       17\n",
       "Name: water_quality, dtype: int64"
      ]
     },
     "execution_count": 10,
     "metadata": {},
     "output_type": "execute_result"
    },
    {
     "data": {
      "image/png": "[encoded data removed]",
      "text/plain": [
       "<Figure size 1008x432 with 1 Axes>"
      ]
     },
     "metadata": {
      "needs_background": "light"
     },
     "output_type": "display_data"
    }
   ],
   "source": [
    "plt.figure(figsize=(14,6))\n",
    "sns.countplot(data=data,x='water_quality',hue='status_group')\n",
    "plt.legend(bbox_to_anchor=(1.05, 1), loc=2, borderaxespad=0.)\n",
    "data.water_quality.value_counts()"
   ]
  },
  {
   "cell_type": "code",
   "execution_count": 11,
   "metadata": {},
   "outputs": [
    {
     "name": "stdout",
     "output_type": "stream",
     "text": [
      "[2002.  2008.  1998.  1999.  2005.  2003.  2000.  2007.  2010.  1995.\n",
      " 1984.  2012.  1981.  1977.  1976.  1975.  2004.  1982.  1980.  1992.\n",
      " 2009.  1969.  1996.  1978.  1991.  2001.  1985.  2006.  1988.  1997.\n",
      " 1994.  1972.  2011.  1989.  1973.  1983.  1990.  1993.  1974.  1987.\n",
      " 1986.  1979.  1960.  1964.  1970.  2013.  1965.  1968.  1963.  1971.\n",
      " 1967.  1961.  2001.5 1962.  1966.  1994.5]\n",
      "59400\n"
     ]
    },
    {
     "name": "stderr",
     "output_type": "stream",
     "text": [
      "/Users/kengthong/opt/anaconda3/lib/python3.8/site-packages/seaborn/axisgrid.py:243: UserWarning: The `size` parameter has been renamed to `height`; please update your code.\n",
      "  warnings.warn(msg, UserWarning)\n"
     ]
    },
    {
     "data": {
      "text/plain": [
       "<seaborn.axisgrid.FacetGrid at 0x118a9d640>"
      ]
     },
     "execution_count": 11,
     "metadata": {},
     "output_type": "execute_result"
    },
    {
     "data": {
      "image/png": "[encoded data removed]",
      "text/plain": [
       "<Figure size 871.875x720 with 1 Axes>"
      ]
     },
     "metadata": {
      "needs_background": "light"
     },
     "output_type": "display_data"
    }
   ],
   "source": [
    "# Test models and \n",
    "print(data.construction_year.unique())\n",
    "print(len(data.construction_year == 0))\n",
    "(sns\n",
    "  .FacetGrid(data, \n",
    "             hue='status_group',size=10)\n",
    "  .map(sns.kdeplot, 'construction_year', shade=True)\n",
    " .add_legend()\n",
    ")"
   ]
  },
  {
   "cell_type": "code",
   "execution_count": 12,
   "metadata": {},
   "outputs": [
    {
     "name": "stdout",
     "output_type": "stream",
     "text": [
      "id\n",
      "0    2012-11-13\n",
      "1    2011-03-05\n",
      "2    2011-03-27\n",
      "3    2013-06-03\n",
      "4    2011-03-22\n",
      "Name: date_recorded, dtype: object\n",
      "id\n",
      "0    2002.0\n",
      "1    2008.0\n",
      "2    1998.0\n",
      "3    1999.0\n",
      "4    1998.0\n",
      "Name: construction_year, dtype: float64\n"
     ]
    }
   ],
   "source": [
    "#if water point is old, it is highly likely to be non functional or needs repair.\n",
    "#New features were created namely number of days and number of months water point is operational.\n",
    "print(data.date_recorded.head(5))\n",
    "print(data.construction_year.head(5))"
   ]
  },
  {
   "cell_type": "code",
   "execution_count": 13,
   "metadata": {},
   "outputs": [
    {
     "name": "stdout",
     "output_type": "stream",
     "text": [
      "id\n",
      "0    2012\n",
      "1    2011\n",
      "2    2011\n",
      "3    2013\n",
      "4    2011\n",
      "Name: date_recorded, dtype: int64\n",
      "id\n",
      "0    2002.0\n",
      "1    2008.0\n",
      "2    1998.0\n",
      "3    1999.0\n",
      "4    1998.0\n",
      "Name: construction_year, dtype: float64\n"
     ]
    },
    {
     "data": {
      "text/plain": [
       "id\n",
       "0    10.0\n",
       "1     3.0\n",
       "2    13.0\n",
       "3    14.0\n",
       "4    13.0\n",
       "Name: operational_year, dtype: float64"
      ]
     },
     "execution_count": 13,
     "metadata": {},
     "output_type": "execute_result"
    }
   ],
   "source": [
    "data.isnull().sum()\n",
    "data['date_recorded'] = pd.to_datetime(data['date_recorded'])\n",
    "data.date_recorded.head(5)\n",
    "print(data.date_recorded.dt.year.head(5))\n",
    "print(data.construction_year.head(5))\n",
    "data['operational_year'] = data.date_recorded.dt.year - data.construction_year\n",
    "data.operational_year.head(5)"
   ]
  },
  {
   "cell_type": "code",
   "execution_count": 14,
   "metadata": {},
   "outputs": [
    {
     "name": "stderr",
     "output_type": "stream",
     "text": [
      "/Users/kengthong/opt/anaconda3/lib/python3.8/site-packages/seaborn/axisgrid.py:243: UserWarning: The `size` parameter has been renamed to `height`; please update your code.\n",
      "  warnings.warn(msg, UserWarning)\n"
     ]
    },
    {
     "data": {
      "text/plain": [
       "<seaborn.axisgrid.FacetGrid at 0x119276370>"
      ]
     },
     "execution_count": 14,
     "metadata": {},
     "output_type": "execute_result"
    },
    {
     "data": {
      "image/png": "[encoded data removed]",
      "text/plain": [
       "<Figure size 1159.88x1008 with 1 Axes>"
      ]
     },
     "metadata": {
      "needs_background": "light"
     },
     "output_type": "display_data"
    }
   ],
   "source": [
    "(sns\n",
    "  .FacetGrid(data, \n",
    "             hue='status_group',size=14)\n",
    "  .map(sns.kdeplot, 'operational_year', shade=True)\n",
    " .add_legend()\n",
    ")"
   ]
  },
  {
   "cell_type": "code",
   "execution_count": 15,
   "metadata": {},
   "outputs": [
    {
     "data": {
      "text/plain": [
       "<matplotlib.axes._subplots.AxesSubplot at 0x11887b3a0>"
      ]
     },
     "execution_count": 15,
     "metadata": {},
     "output_type": "execute_result"
    },
    {
     "data": {
      "image/png": "[encoded data removed]",
      "text/plain": [
       "<Figure size 1728x648 with 1 Axes>"
      ]
     },
     "metadata": {
      "needs_background": "light"
     },
     "output_type": "display_data"
    }
   ],
   "source": [
    "plt.figure(figsize=(24, 9))\n",
    "sns.countplot(data=data,x='payment_type',hue='status_group')"
   ]
  },
  {
   "cell_type": "code",
   "execution_count": 16,
   "metadata": {},
   "outputs": [
    {
     "name": "stdout",
     "output_type": "stream",
     "text": [
      "management        management_group\n",
      "company           commercial            685\n",
      "other             other                 844\n",
      "other - school    other                  99\n",
      "parastatal        parastatal           1768\n",
      "private operator  commercial           1971\n",
      "trust             commercial             78\n",
      "unknown           unknown               561\n",
      "vwc               user-group          40507\n",
      "water authority   commercial            904\n",
      "water board       user-group           2933\n",
      "wua               user-group           2535\n",
      "wug               user-group           6515\n",
      "dtype: int64\n"
     ]
    }
   ],
   "source": [
    "#DATA Cleaning\n",
    "waste_features=['wpt_name','num_private','subvillage','region_code','recorded_by']\n",
    "#since region and region_code are representing the same thing\n",
    "data.drop(waste_features,axis=1,inplace=True)\n",
    "print(data.groupby(['management', 'management_group']).size() )\n",
    "data.drop('management_group',axis=1,inplace=True)"
   ]
  },
  {
   "cell_type": "code",
   "execution_count": 17,
   "metadata": {},
   "outputs": [],
   "source": [
    "# Blind copying from here on"
   ]
  },
  {
   "cell_type": "code",
   "execution_count": 18,
   "metadata": {},
   "outputs": [
    {
     "data": {
      "text/plain": [
       "scheme_management  scheme_name              \n",
       "Company            BFFS                           1\n",
       "                   Bagamoyo Wate                 60\n",
       "                   Bagamoyo wate                210\n",
       "                   Borehole                       1\n",
       "                   Borehole drilling project      1\n",
       "                                               ... \n",
       "Water authority    Yongoma                       16\n",
       "                   Zepalama                       5\n",
       "                   no scheme                      9\n",
       "                   pump                           2\n",
       "                   water supply at Kalebejo       1\n",
       "Length: 3077, dtype: int64"
      ]
     },
     "execution_count": 18,
     "metadata": {},
     "output_type": "execute_result"
    }
   ],
   "source": [
    "data.drop('extraction_type_group',axis=1,inplace=True)\n",
    "data.drop('extraction_type_class',axis=1,inplace=True)\n",
    "data.groupby(['scheme_management', 'scheme_name']).size()"
   ]
  },
  {
   "cell_type": "code",
   "execution_count": 19,
   "metadata": {},
   "outputs": [],
   "source": [
    "\n",
    "data.drop('scheme_name',axis=1,inplace=True)"
   ]
  },
  {
   "cell_type": "code",
   "execution_count": 20,
   "metadata": {},
   "outputs": [
    {
     "data": {
      "text/plain": [
       "payment                payment_type\n",
       "never pay              never pay       25348\n",
       "other                  other            1054\n",
       "pay annually           annually         3642\n",
       "pay monthly            monthly          8300\n",
       "pay per bucket         per bucket       8985\n",
       "pay when scheme fails  on failure       3914\n",
       "unknown                unknown          8157\n",
       "dtype: int64"
      ]
     },
     "execution_count": 20,
     "metadata": {},
     "output_type": "execute_result"
    }
   ],
   "source": [
    "data.groupby(['payment', 'payment_type']).size()"
   ]
  },
  {
   "cell_type": "code",
   "execution_count": 21,
   "metadata": {},
   "outputs": [],
   "source": [
    "data.drop('payment',axis=1,inplace=True)"
   ]
  },
  {
   "cell_type": "code",
   "execution_count": 22,
   "metadata": {},
   "outputs": [
    {
     "data": {
      "text/plain": [
       "water_quality       quality_group\n",
       "coloured            colored            490\n",
       "fluoride            fluoride           200\n",
       "fluoride abandoned  fluoride            17\n",
       "milky               milky              804\n",
       "salty               salty             4856\n",
       "salty abandoned     salty              339\n",
       "soft                good             50818\n",
       "unknown             unknown           1876\n",
       "dtype: int64"
      ]
     },
     "execution_count": 22,
     "metadata": {},
     "output_type": "execute_result"
    }
   ],
   "source": [
    "data.groupby(['water_quality', 'quality_group']).size()"
   ]
  },
  {
   "cell_type": "code",
   "execution_count": 23,
   "metadata": {},
   "outputs": [],
   "source": [
    "data.drop('quality_group',axis=1,inplace=True)"
   ]
  },
  {
   "cell_type": "code",
   "execution_count": 24,
   "metadata": {},
   "outputs": [
    {
     "data": {
      "text/plain": [
       "quantity      quantity_group\n",
       "dry           dry                6246\n",
       "enough        enough            33186\n",
       "insufficient  insufficient      15129\n",
       "seasonal      seasonal           4050\n",
       "unknown       unknown             789\n",
       "dtype: int64"
      ]
     },
     "execution_count": 24,
     "metadata": {},
     "output_type": "execute_result"
    }
   ],
   "source": [
    "data.groupby(['quantity', 'quantity_group']).size()"
   ]
  },
  {
   "cell_type": "code",
   "execution_count": 25,
   "metadata": {},
   "outputs": [],
   "source": [
    "data.drop('quantity_group',axis=1,inplace=True)"
   ]
  },
  {
   "cell_type": "code",
   "execution_count": 26,
   "metadata": {},
   "outputs": [
    {
     "data": {
      "text/plain": [
       "source                source_type           source_class\n",
       "dam                   dam                   surface           656\n",
       "hand dtw              borehole              groundwater       874\n",
       "lake                  river/lake            surface           765\n",
       "machine dbh           borehole              groundwater     11075\n",
       "other                 other                 unknown           212\n",
       "rainwater harvesting  rainwater harvesting  surface          2295\n",
       "river                 river/lake            surface          9612\n",
       "shallow well          shallow well          groundwater     16824\n",
       "spring                spring                groundwater     17021\n",
       "unknown               other                 unknown            66\n",
       "dtype: int64"
      ]
     },
     "execution_count": 26,
     "metadata": {},
     "output_type": "execute_result"
    }
   ],
   "source": [
    "data.groupby(['source', 'source_type', 'source_class']).size()"
   ]
  },
  {
   "cell_type": "code",
   "execution_count": 27,
   "metadata": {},
   "outputs": [],
   "source": [
    "data.drop('source_type',axis=1,inplace=True)"
   ]
  },
  {
   "cell_type": "code",
   "execution_count": 28,
   "metadata": {},
   "outputs": [],
   "source": [
    "data.drop('source_class',axis=1,inplace=True)\n"
   ]
  },
  {
   "cell_type": "code",
   "execution_count": 29,
   "metadata": {},
   "outputs": [
    {
     "data": {
      "text/plain": [
       "waterpoint_type              waterpoint_type_group\n",
       "cattle trough                cattle trough              116\n",
       "communal standpipe           communal standpipe       28522\n",
       "communal standpipe multiple  communal standpipe        6103\n",
       "dam                          dam                          7\n",
       "hand pump                    hand pump                17488\n",
       "improved spring              improved spring            784\n",
       "other                        other                     6380\n",
       "dtype: int64"
      ]
     },
     "execution_count": 29,
     "metadata": {},
     "output_type": "execute_result"
    }
   ],
   "source": [
    "data.groupby(['waterpoint_type', 'waterpoint_type_group']).size()"
   ]
  },
  {
   "cell_type": "code",
   "execution_count": 30,
   "metadata": {},
   "outputs": [],
   "source": [
    "data.drop('waterpoint_type_group',axis=1,inplace=True)\n"
   ]
  },
  {
   "cell_type": "code",
   "execution_count": 31,
   "metadata": {},
   "outputs": [
    {
     "name": "stdout",
     "output_type": "stream",
     "text": [
      "lga           ward     status_group           \n",
      "Arusha Rural  Bangata  functional                 21\n",
      "                       functional needs repair     2\n",
      "                       non functional             10\n",
      "              Bwawani  functional                 12\n",
      "                       non functional             25\n",
      "                                                  ..\n",
      "Uyui          Ufuluma  non functional             10\n",
      "              Upuge    functional                  7\n",
      "                       non functional             11\n",
      "              Usagali  functional                  8\n",
      "                       non functional             17\n",
      "Length: 5070, dtype: int64\n"
     ]
    }
   ],
   "source": [
    "print(data.groupby(['lga', 'ward','status_group']).size() )\n"
   ]
  },
  {
   "cell_type": "code",
   "execution_count": 32,
   "metadata": {},
   "outputs": [],
   "source": [
    "data.drop('ward',axis=1,inplace=True)\n"
   ]
  },
  {
   "cell_type": "code",
   "execution_count": 33,
   "metadata": {},
   "outputs": [
    {
     "data": {
      "text/plain": [
       "installer       funder                  status_group           \n",
       "-               Government Of Tanzania  functional                   1\n",
       "                                        non functional               1\n",
       "                Kalebejo Parish         functional                   1\n",
       "0               0                       functional                 445\n",
       "                                        functional needs repair      3\n",
       "                                                                  ... \n",
       "wizara ya maji  Serikali                functional                   2\n",
       "world           World Bank              functional needs repair      1\n",
       "                                        non functional               3\n",
       "world banks     World Bank              non functional               1\n",
       "world vision    World Vision            functional                   1\n",
       "Length: 5188, dtype: int64"
      ]
     },
     "execution_count": 33,
     "metadata": {},
     "output_type": "execute_result"
    }
   ],
   "source": [
    "data.groupby(['installer', 'funder','status_group']).size()\n"
   ]
  },
  {
   "cell_type": "code",
   "execution_count": 34,
   "metadata": {},
   "outputs": [],
   "source": [
    "# data.drop('installer',axis=1,inplace=True)\n"
   ]
  },
  {
   "cell_type": "code",
   "execution_count": 35,
   "metadata": {},
   "outputs": [
    {
     "data": {
      "text/plain": [
       "amount_tsh              0\n",
       "date_recorded           0\n",
       "funder               3635\n",
       "gps_height              0\n",
       "installer            3655\n",
       "longitude               0\n",
       "latitude                0\n",
       "basin                   0\n",
       "region                  0\n",
       "district_code           0\n",
       "lga                     0\n",
       "population              0\n",
       "public_meeting       3334\n",
       "scheme_management    3877\n",
       "permit               3056\n",
       "construction_year       0\n",
       "extraction_type         0\n",
       "management              0\n",
       "payment_type            0\n",
       "water_quality           0\n",
       "quantity                0\n",
       "source                  0\n",
       "waterpoint_type         0\n",
       "status_group            0\n",
       "operational_year        0\n",
       "dtype: int64"
      ]
     },
     "execution_count": 35,
     "metadata": {},
     "output_type": "execute_result"
    }
   ],
   "source": [
    "data.isnull().sum()\n"
   ]
  },
  {
   "cell_type": "code",
   "execution_count": 36,
   "metadata": {},
   "outputs": [],
   "source": [
    "data.drop('public_meeting', axis=1, inplace=True)\n",
    "data.drop('permit', axis=1, inplace=True)"
   ]
  },
  {
   "cell_type": "code",
   "execution_count": 37,
   "metadata": {},
   "outputs": [
    {
     "data": {
      "text/plain": [
       "amount_tsh              0\n",
       "date_recorded           0\n",
       "funder               3635\n",
       "gps_height              0\n",
       "installer            3655\n",
       "longitude               0\n",
       "latitude                0\n",
       "basin                   0\n",
       "region                  0\n",
       "district_code           0\n",
       "lga                     0\n",
       "population              0\n",
       "scheme_management    3877\n",
       "construction_year       0\n",
       "extraction_type         0\n",
       "management              0\n",
       "payment_type            0\n",
       "water_quality           0\n",
       "quantity                0\n",
       "source                  0\n",
       "waterpoint_type         0\n",
       "status_group            0\n",
       "operational_year        0\n",
       "dtype: int64"
      ]
     },
     "execution_count": 37,
     "metadata": {},
     "output_type": "execute_result"
    }
   ],
   "source": [
    "data.isnull().sum()"
   ]
  },
  {
   "cell_type": "code",
   "execution_count": 38,
   "metadata": {},
   "outputs": [],
   "source": [
    "data.waterpoint_type = data.waterpoint_type.str.lower()\n",
    "data.funder = data.funder.str.lower()\n",
    "data.basin = data.basin.str.lower()\n",
    "data.region = data.region.str.lower()\n",
    "data.source = data.source.str.lower()\n",
    "data.lga = data.lga.str.lower()\n",
    "data.management = data.management.str.lower()\n",
    "data.quantity = data.quantity.str.lower()\n",
    "data.water_quality = data.water_quality.str.lower()\n",
    "data.payment_type=data.payment_type.str.lower()\n",
    "data.extraction_type=data.extraction_type.str.lower()"
   ]
  },
  {
   "cell_type": "code",
   "execution_count": 40,
   "metadata": {},
   "outputs": [
    {
     "name": "stdout",
     "output_type": "stream",
     "text": [
      "amount_tsh           0\n",
      "funder               0\n",
      "gps_height           0\n",
      "installer            0\n",
      "longitude            0\n",
      "latitude             0\n",
      "basin                0\n",
      "region               0\n",
      "district_code        0\n",
      "lga                  0\n",
      "population           0\n",
      "scheme_management    0\n",
      "extraction_type      0\n",
      "management           0\n",
      "payment_type         0\n",
      "water_quality        0\n",
      "quantity             0\n",
      "source               0\n",
      "waterpoint_type      0\n",
      "status_group         0\n",
      "operational_year     0\n",
      "dtype: int64\n"
     ]
    },
    {
     "ename": "KeyError",
     "evalue": "\"['date_recorded'] not found in axis\"",
     "output_type": "error",
     "traceback": [
      "\u001b[0;31m---------------------------------------------------------------------------\u001b[0m",
      "\u001b[0;31mKeyError\u001b[0m                                  Traceback (most recent call last)",
      "\u001b[0;32m<ipython-input-40-89120c53caee>\u001b[0m in \u001b[0;36m<module>\u001b[0;34m\u001b[0m\n\u001b[1;32m      3\u001b[0m \u001b[0mdata\u001b[0m\u001b[0;34m[\u001b[0m\u001b[0;34m\"installer\"\u001b[0m\u001b[0;34m]\u001b[0m\u001b[0;34m.\u001b[0m\u001b[0mfillna\u001b[0m\u001b[0;34m(\u001b[0m\u001b[0;34m\"other\"\u001b[0m\u001b[0;34m,\u001b[0m \u001b[0minplace\u001b[0m\u001b[0;34m=\u001b[0m\u001b[0;32mTrue\u001b[0m\u001b[0;34m)\u001b[0m\u001b[0;34m\u001b[0m\u001b[0;34m\u001b[0m\u001b[0m\n\u001b[1;32m      4\u001b[0m \u001b[0mprint\u001b[0m\u001b[0;34m(\u001b[0m\u001b[0mdata\u001b[0m\u001b[0;34m.\u001b[0m\u001b[0misnull\u001b[0m\u001b[0;34m(\u001b[0m\u001b[0;34m)\u001b[0m\u001b[0;34m.\u001b[0m\u001b[0msum\u001b[0m\u001b[0;34m(\u001b[0m\u001b[0;34m)\u001b[0m\u001b[0;34m)\u001b[0m\u001b[0;34m\u001b[0m\u001b[0;34m\u001b[0m\u001b[0m\n\u001b[0;32m----> 5\u001b[0;31m \u001b[0mdata\u001b[0m\u001b[0;34m.\u001b[0m\u001b[0mdrop\u001b[0m\u001b[0;34m(\u001b[0m\u001b[0;34m'date_recorded'\u001b[0m\u001b[0;34m,\u001b[0m \u001b[0maxis\u001b[0m\u001b[0;34m=\u001b[0m\u001b[0;36m1\u001b[0m\u001b[0;34m,\u001b[0m \u001b[0minplace\u001b[0m\u001b[0;34m=\u001b[0m\u001b[0;32mTrue\u001b[0m\u001b[0;34m)\u001b[0m\u001b[0;34m\u001b[0m\u001b[0;34m\u001b[0m\u001b[0m\n\u001b[0m\u001b[1;32m      6\u001b[0m \u001b[0mdata\u001b[0m\u001b[0;34m.\u001b[0m\u001b[0mdrop\u001b[0m\u001b[0;34m(\u001b[0m\u001b[0;34m'construction_year'\u001b[0m\u001b[0;34m,\u001b[0m \u001b[0maxis\u001b[0m\u001b[0;34m=\u001b[0m\u001b[0;36m1\u001b[0m\u001b[0;34m,\u001b[0m \u001b[0minplace\u001b[0m\u001b[0;34m=\u001b[0m\u001b[0;32mTrue\u001b[0m\u001b[0;34m)\u001b[0m\u001b[0;34m\u001b[0m\u001b[0;34m\u001b[0m\u001b[0m\n\u001b[1;32m      7\u001b[0m \u001b[0mdata\u001b[0m\u001b[0;34m.\u001b[0m\u001b[0minfo\u001b[0m\u001b[0;34m(\u001b[0m\u001b[0;34m)\u001b[0m\u001b[0;34m\u001b[0m\u001b[0;34m\u001b[0m\u001b[0m\n",
      "\u001b[0;32m~/opt/anaconda3/lib/python3.8/site-packages/pandas/core/frame.py\u001b[0m in \u001b[0;36mdrop\u001b[0;34m(self, labels, axis, index, columns, level, inplace, errors)\u001b[0m\n\u001b[1;32m   3988\u001b[0m                 \u001b[0mweight\u001b[0m  \u001b[0;36m1.0\u001b[0m     \u001b[0;36m0.8\u001b[0m\u001b[0;34m\u001b[0m\u001b[0;34m\u001b[0m\u001b[0m\n\u001b[1;32m   3989\u001b[0m         \"\"\"\n\u001b[0;32m-> 3990\u001b[0;31m         return super().drop(\n\u001b[0m\u001b[1;32m   3991\u001b[0m             \u001b[0mlabels\u001b[0m\u001b[0;34m=\u001b[0m\u001b[0mlabels\u001b[0m\u001b[0;34m,\u001b[0m\u001b[0;34m\u001b[0m\u001b[0;34m\u001b[0m\u001b[0m\n\u001b[1;32m   3992\u001b[0m             \u001b[0maxis\u001b[0m\u001b[0;34m=\u001b[0m\u001b[0maxis\u001b[0m\u001b[0;34m,\u001b[0m\u001b[0;34m\u001b[0m\u001b[0;34m\u001b[0m\u001b[0m\n",
      "\u001b[0;32m~/opt/anaconda3/lib/python3.8/site-packages/pandas/core/generic.py\u001b[0m in \u001b[0;36mdrop\u001b[0;34m(self, labels, axis, index, columns, level, inplace, errors)\u001b[0m\n\u001b[1;32m   3934\u001b[0m         \u001b[0;32mfor\u001b[0m \u001b[0maxis\u001b[0m\u001b[0;34m,\u001b[0m \u001b[0mlabels\u001b[0m \u001b[0;32min\u001b[0m \u001b[0maxes\u001b[0m\u001b[0;34m.\u001b[0m\u001b[0mitems\u001b[0m\u001b[0;34m(\u001b[0m\u001b[0;34m)\u001b[0m\u001b[0;34m:\u001b[0m\u001b[0;34m\u001b[0m\u001b[0;34m\u001b[0m\u001b[0m\n\u001b[1;32m   3935\u001b[0m             \u001b[0;32mif\u001b[0m \u001b[0mlabels\u001b[0m \u001b[0;32mis\u001b[0m \u001b[0;32mnot\u001b[0m \u001b[0;32mNone\u001b[0m\u001b[0;34m:\u001b[0m\u001b[0;34m\u001b[0m\u001b[0;34m\u001b[0m\u001b[0m\n\u001b[0;32m-> 3936\u001b[0;31m                 \u001b[0mobj\u001b[0m \u001b[0;34m=\u001b[0m \u001b[0mobj\u001b[0m\u001b[0;34m.\u001b[0m\u001b[0m_drop_axis\u001b[0m\u001b[0;34m(\u001b[0m\u001b[0mlabels\u001b[0m\u001b[0;34m,\u001b[0m \u001b[0maxis\u001b[0m\u001b[0;34m,\u001b[0m \u001b[0mlevel\u001b[0m\u001b[0;34m=\u001b[0m\u001b[0mlevel\u001b[0m\u001b[0;34m,\u001b[0m \u001b[0merrors\u001b[0m\u001b[0;34m=\u001b[0m\u001b[0merrors\u001b[0m\u001b[0;34m)\u001b[0m\u001b[0;34m\u001b[0m\u001b[0;34m\u001b[0m\u001b[0m\n\u001b[0m\u001b[1;32m   3937\u001b[0m \u001b[0;34m\u001b[0m\u001b[0m\n\u001b[1;32m   3938\u001b[0m         \u001b[0;32mif\u001b[0m \u001b[0minplace\u001b[0m\u001b[0;34m:\u001b[0m\u001b[0;34m\u001b[0m\u001b[0;34m\u001b[0m\u001b[0m\n",
      "\u001b[0;32m~/opt/anaconda3/lib/python3.8/site-packages/pandas/core/generic.py\u001b[0m in \u001b[0;36m_drop_axis\u001b[0;34m(self, labels, axis, level, errors)\u001b[0m\n\u001b[1;32m   3968\u001b[0m                 \u001b[0mnew_axis\u001b[0m \u001b[0;34m=\u001b[0m \u001b[0maxis\u001b[0m\u001b[0;34m.\u001b[0m\u001b[0mdrop\u001b[0m\u001b[0;34m(\u001b[0m\u001b[0mlabels\u001b[0m\u001b[0;34m,\u001b[0m \u001b[0mlevel\u001b[0m\u001b[0;34m=\u001b[0m\u001b[0mlevel\u001b[0m\u001b[0;34m,\u001b[0m \u001b[0merrors\u001b[0m\u001b[0;34m=\u001b[0m\u001b[0merrors\u001b[0m\u001b[0;34m)\u001b[0m\u001b[0;34m\u001b[0m\u001b[0;34m\u001b[0m\u001b[0m\n\u001b[1;32m   3969\u001b[0m             \u001b[0;32melse\u001b[0m\u001b[0;34m:\u001b[0m\u001b[0;34m\u001b[0m\u001b[0;34m\u001b[0m\u001b[0m\n\u001b[0;32m-> 3970\u001b[0;31m                 \u001b[0mnew_axis\u001b[0m \u001b[0;34m=\u001b[0m \u001b[0maxis\u001b[0m\u001b[0;34m.\u001b[0m\u001b[0mdrop\u001b[0m\u001b[0;34m(\u001b[0m\u001b[0mlabels\u001b[0m\u001b[0;34m,\u001b[0m \u001b[0merrors\u001b[0m\u001b[0;34m=\u001b[0m\u001b[0merrors\u001b[0m\u001b[0;34m)\u001b[0m\u001b[0;34m\u001b[0m\u001b[0;34m\u001b[0m\u001b[0m\n\u001b[0m\u001b[1;32m   3971\u001b[0m             \u001b[0mresult\u001b[0m \u001b[0;34m=\u001b[0m \u001b[0mself\u001b[0m\u001b[0;34m.\u001b[0m\u001b[0mreindex\u001b[0m\u001b[0;34m(\u001b[0m\u001b[0;34m**\u001b[0m\u001b[0;34m{\u001b[0m\u001b[0maxis_name\u001b[0m\u001b[0;34m:\u001b[0m \u001b[0mnew_axis\u001b[0m\u001b[0;34m}\u001b[0m\u001b[0;34m)\u001b[0m\u001b[0;34m\u001b[0m\u001b[0;34m\u001b[0m\u001b[0m\n\u001b[1;32m   3972\u001b[0m \u001b[0;34m\u001b[0m\u001b[0m\n",
      "\u001b[0;32m~/opt/anaconda3/lib/python3.8/site-packages/pandas/core/indexes/base.py\u001b[0m in \u001b[0;36mdrop\u001b[0;34m(self, labels, errors)\u001b[0m\n\u001b[1;32m   5016\u001b[0m         \u001b[0;32mif\u001b[0m \u001b[0mmask\u001b[0m\u001b[0;34m.\u001b[0m\u001b[0many\u001b[0m\u001b[0;34m(\u001b[0m\u001b[0;34m)\u001b[0m\u001b[0;34m:\u001b[0m\u001b[0;34m\u001b[0m\u001b[0;34m\u001b[0m\u001b[0m\n\u001b[1;32m   5017\u001b[0m             \u001b[0;32mif\u001b[0m \u001b[0merrors\u001b[0m \u001b[0;34m!=\u001b[0m \u001b[0;34m\"ignore\"\u001b[0m\u001b[0;34m:\u001b[0m\u001b[0;34m\u001b[0m\u001b[0;34m\u001b[0m\u001b[0m\n\u001b[0;32m-> 5018\u001b[0;31m                 \u001b[0;32mraise\u001b[0m \u001b[0mKeyError\u001b[0m\u001b[0;34m(\u001b[0m\u001b[0;34mf\"{labels[mask]} not found in axis\"\u001b[0m\u001b[0;34m)\u001b[0m\u001b[0;34m\u001b[0m\u001b[0;34m\u001b[0m\u001b[0m\n\u001b[0m\u001b[1;32m   5019\u001b[0m             \u001b[0mindexer\u001b[0m \u001b[0;34m=\u001b[0m \u001b[0mindexer\u001b[0m\u001b[0;34m[\u001b[0m\u001b[0;34m~\u001b[0m\u001b[0mmask\u001b[0m\u001b[0;34m]\u001b[0m\u001b[0;34m\u001b[0m\u001b[0;34m\u001b[0m\u001b[0m\n\u001b[1;32m   5020\u001b[0m         \u001b[0;32mreturn\u001b[0m \u001b[0mself\u001b[0m\u001b[0;34m.\u001b[0m\u001b[0mdelete\u001b[0m\u001b[0;34m(\u001b[0m\u001b[0mindexer\u001b[0m\u001b[0;34m)\u001b[0m\u001b[0;34m\u001b[0m\u001b[0;34m\u001b[0m\u001b[0m\n",
      "\u001b[0;31mKeyError\u001b[0m: \"['date_recorded'] not found in axis\""
     ]
    }
   ],
   "source": [
    "data[\"funder\"].fillna(\"other\", inplace=True)\n",
    "data[\"scheme_management\"].fillna(\"other\", inplace=True)\n",
    "data[\"installer\"].fillna(\"other\", inplace=True)\n",
    "print(data.isnull().sum())\n",
    "data.drop('date_recorded', axis=1, inplace=True)\n",
    "data.drop('construction_year', axis=1, inplace=True)\n",
    "data.info()\n",
    "data.quantity.head(5)\n",
    "pd.DataFrame(data).to_csv(\"clean.csv\")"
   ]
  },
  {
   "cell_type": "code",
   "execution_count": null,
   "metadata": {},
   "outputs": [],
   "source": []
  },
  {
   "cell_type": "code",
   "execution_count": 50,
   "metadata": {},
   "outputs": [
    {
     "name": "stdout",
     "output_type": "stream",
     "text": [
      "    amount_tsh           funder  gps_height installer  longitude  latitude  \\\n",
      "id                                                                           \n",
      "0     0.014274            tasaf    8.024794     TASAF  33.125828 -5.118154   \n",
      "1     0.028560            shipo   14.461538     SHIPO  34.770717 -9.395642   \n",
      "2     0.014274             lvia    8.024794      LVIA  36.115056 -6.279268   \n",
      "3     0.000560  germany republi   12.090909       CES  37.147432 -3.187555   \n",
      "4     0.014274             cmsr    8.024794      CMSR  36.164893 -6.099289   \n",
      "\n",
      "              basin       region  district_code       lga  ...  \\\n",
      "id                                                         ...   \n",
      "0   lake tanganyika       tabora              3      uyui  ...   \n",
      "1            rufiji       iringa              4    njombe  ...   \n",
      "2       wami / ruvu       dodoma              4  chamwino  ...   \n",
      "3           pangani  kilimanjaro              5       hai  ...   \n",
      "4       wami / ruvu       dodoma              4  chamwino  ...   \n",
      "\n",
      "    scheme_management    extraction_type   management payment_type  \\\n",
      "id                                                                   \n",
      "0                 VWC            afridev          vwc      unknown   \n",
      "1               other  other - rope pump          vwc    never pay   \n",
      "2                 VWC               mono          vwc   per bucket   \n",
      "3         Water Board            gravity  water board   per bucket   \n",
      "4                 VWC        nira/tanira          vwc      unknown   \n",
      "\n",
      "   water_quality      quantity        source              waterpoint_type  \\\n",
      "id                                                                          \n",
      "0          milky        enough  shallow well                    hand pump   \n",
      "1           soft        enough  shallow well                    hand pump   \n",
      "2           soft  insufficient   machine dbh  communal standpipe multiple   \n",
      "3           soft        enough        spring           communal standpipe   \n",
      "4           soft           dry  shallow well                    hand pump   \n",
      "\n",
      "      status_group operational_year  \n",
      "id                                   \n",
      "0   non functional             10.0  \n",
      "1       functional              3.0  \n",
      "2       functional             13.0  \n",
      "3       functional             14.0  \n",
      "4   non functional             13.0  \n",
      "\n",
      "[5 rows x 21 columns]\n",
      "float64\n",
      "object\n",
      "float64\n",
      "object\n",
      "float64\n",
      "float64\n",
      "object\n",
      "object\n",
      "int64\n",
      "object\n",
      "float64\n",
      "object\n",
      "object\n",
      "object\n",
      "object\n",
      "object\n",
      "object\n",
      "object\n",
      "object\n",
      "object\n",
      "float64\n",
      "    amount_tsh  funder  gps_height  installer  longitude  latitude  basin  \\\n",
      "id                                                                          \n",
      "0           27    1634        1129       1713      13266     28993      3   \n",
      "1           34    1501        2056       1576      26432      7686      6   \n",
      "2           27     838        1129        930      35413     24830      8   \n",
      "3            8     436        1717        201      42515     47836      5   \n",
      "4           27     211        1129        228      35678     25765      8   \n",
      "\n",
      "    region  district_code  lga  ...  scheme_management  extraction_type  \\\n",
      "id                              ...                                       \n",
      "0       19              3  124  ...                  7                0   \n",
      "1        3              4   91  ...                 12               12   \n",
      "2        2              4   11  ...                  7                7   \n",
      "3        6              5   16  ...                 10                3   \n",
      "4        2              4   11  ...                  7                8   \n",
      "\n",
      "    management  payment_type  water_quality  quantity  source  \\\n",
      "id                                                              \n",
      "0            7             6              3         1       7   \n",
      "1            7             2              6         1       7   \n",
      "2            7             5              6         2       3   \n",
      "3            9             5              6         1       8   \n",
      "4            7             6              6         0       7   \n",
      "\n",
      "    waterpoint_type  operational_year  status_group  \n",
      "id                                                   \n",
      "0                 4                17             2  \n",
      "1                 4                 9             0  \n",
      "2                 2                20             0  \n",
      "3                 1                21             0  \n",
      "4                 4                20             2  \n",
      "\n",
      "[5 rows x 21 columns]\n",
      "Index(['amount_tsh', 'funder', 'gps_height', 'installer', 'longitude',\n",
      "       'latitude', 'basin', 'region', 'district_code', 'lga', 'population',\n",
      "       'scheme_management', 'extraction_type', 'management', 'payment_type',\n",
      "       'water_quality', 'quantity', 'source', 'waterpoint_type',\n",
      "       'operational_year', 'status_group'],\n",
      "      dtype='object')\n"
     ]
    }
   ],
   "source": [
    "# cleaning data for pytorch nn model\n",
    "from sklearn.preprocessing import LabelEncoder\n",
    "\n",
    "print(data.head())\n",
    "\n",
    "df = data.copy()\n",
    "for col in df.columns:\n",
    "    print(df.dtypes[col])\n",
    "#     if data.dtypes[col] == \"object\":\n",
    "#         data[col] = data[col].fillna(\"NA\")\n",
    "#     else:\n",
    "#         data[col] = data[col].fillna(0)\n",
    "    df[col] = LabelEncoder().fit_transform(df[col])\n",
    "\n",
    "cols_at_end = ['status_group']\n",
    "df = df[[c for c in df if c not in cols_at_end] \n",
    "        + [c for c in cols_at_end if c in df]]\n",
    "print(df.head())\n",
    "pd.DataFrame(df).to_csv(\"clean-pt.csv\")\n",
    "print(df.columns)"
   ]
  },
  {
   "cell_type": "code",
   "execution_count": null,
   "metadata": {},
   "outputs": [],
   "source": []
  }
 ],
 "metadata": {
  "kernelspec": {
   "display_name": "Python 3",
   "language": "python",
   "name": "python3"
  },
  "language_info": {
   "codemirror_mode": {
    "name": "ipython",
    "version": 3
   },
   "file_extension": ".py",
   "mimetype": "text/x-python",
   "name": "python",
   "nbconvert_exporter": "python",
   "pygments_lexer": "ipython3",
   "version": "3.8.3"
  }
 },
 "nbformat": 4,
 "nbformat_minor": 4
}
